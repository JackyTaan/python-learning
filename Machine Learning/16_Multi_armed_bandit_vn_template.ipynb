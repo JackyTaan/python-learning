{
  "nbformat": 4,
  "nbformat_minor": 0,
  "metadata": {
    "colab": {
      "name": "Template Multi armed bandit Cotai.ipynb",
      "provenance": [],
      "collapsed_sections": []
    },
    "kernelspec": {
      "name": "python3",
      "display_name": "Python 3"
    }
  },
  "cells": [
    {
      "cell_type": "markdown",
      "metadata": {
        "id": "tWbnv6hXmfUz",
        "colab_type": "text"
      },
      "source": [
        "![](https://i.imgur.com/La3jjO4.png)\n",
        "\n",
        "**© VTCA-COTAI 2020 - Internal use only!**"
      ]
    },
    {
      "cell_type": "markdown",
      "metadata": {
        "id": "qFmbRcW5GGGW",
        "colab_type": "text"
      },
      "source": [
        "## <a id='mab'>Phân tích bài toán Multi-Armed Bandit với Showing advertisement.</a>\n",
        "Ví dụ, tưởng tượng rằng ta đang thực hiện chiến dịch marketing cho trang web với hai lựa chọn chạy quảng cáo. Giả sử mục tiêu là hiển thị quảng cáo có tỉ lệ nhấp chuột CTR (click through rate) cao nhất để thu hút lượng truy cập cao nhất có thể. Nhưng ta không có bất kỳ thông tin trước đó để biết là nên hiển thị mấy cái đó như thế nào. Cách điển hình là sẽ thử nghiệm chiếu cả hai như nhau, tính toán CTR của từng cái, sau đó, ở một vài thời điểm sẽ chuyển sang quảng cáo có CTR cao hơn. Ta sẽ chiếu cả hai quảng cáo trong bao lâu trước khi tập trung chiếu ổn định một quảng cáo trội hơn (để thu lợi nhiều hơn)? Trong những trường hợp này, có vẻ như đoán mò có lẽ là cách đánh cược tốt nhất. Thực tế thì đó là cách thường dùng. \n",
        "\n",
        "Phương pháp ta dùng để giải bài toán này gọi là `Tướng cướp nhiều tay` (multi armed bandit - MAB). (Và thường người ta cũng gọi bài toán trên là bài toán MAB)\n",
        "\n",
        "Đọc thêm [thuật toán MAB](https://en.wikipedia.org/wiki/Multi-armed_bandit) để hiểu nó là gì và hoạt động thế nào. Cơ bản thì, thuật toán MAB là một phương pháp cận tối ưu (near-optimal) để giải quyết việc đánh đổi giữa khai phá (explore) hay khai thác (exploit) khi mà ta không biết liệu nên khai phá các lựa chọn khả dĩ để tìm ra lựa chọn tốt nhất hay tập trung khai thác một lựa chọn mà ta cảm giác rằng nó tốt nhất từ những lần khai phá hữu hạn mà ta đã làm trước đó. \n",
        "\n",
        "Bây giờ ta sẽ tìm hiểu các thuật toán khác nhau để giải quyết bài toán MAB. Chúng đều có những cách tiếp cận và tỷ lệ giữa khai phá và khai thác khác nhau.\n",
        "\n",
        "**CTR** là tỷ lệ giữa số lần click chuột với số lần hiển thị của một quảng cáo. Ví dụ, nếu một quảng cáo được chiếu 100 lần và được click xem 10 lần thì CTR = 10/100 = 0.1.\n",
        "\n",
        "**Regret** là sự khác nhau giữa CTR khả dĩ cao nhất và CTR tính được. Ví dụ, nếu quảng cáo A có CTR đã biết là 0.1 và quảng cáo B có CTR đã biết là 0.3, mỗi khi ta chiếu quảng cáo A, ta có regret bằng 0.3 - 0.1 = 0.2. Đây có vẻ là một sự khác nhau nho nhỏ cho đến khi ta xét đến một quảng cáo có thể được hiển thị 1 triệu lần chỉ trong vài giờ.\n",
        "\n",
        "Tiếp theo, ta sẽ thực thi để tìm ra thuật toán nào sẽ tốt nhất trong việc tối thiểu hóa regret.\n",
        "Bốn cách thực thi mà ta sẽ dùng gồm:\n",
        "\n",
        "1. Chọn Ngẫu Nhiên (Random Selection)\n",
        "2. Epsilon Greedy\n",
        "3. Lấy mẫu Thompson\n",
        "4. Cận trên của khoảng tin cậy (Upper Confidence Bound - UCB1)\n",
        "\n",
        "Sau đây ta sẽ mô phỏng lại 4 cách trên.\n",
        "\n",
        "Giả sử rằng ta biết trước CTR. Như vậy, ta có thể mô phỏng một cú click (hoặc không) của một quảng cáo cho trước. Ví dụ, nếu ta chiếu quảng cáo A, với CTR đã biết là 28%, ta có thể giả sử rằng quảng cáo sẽ được click chuột trong 28% thời gian hiển thị và đưa nó vào mô phỏng bên dưới.\n"
      ]
    },
    {
      "cell_type": "markdown",
      "metadata": {
        "id": "hSuiWBvBInA0",
        "colab_type": "text"
      },
      "source": [
        "##Import thư viện"
      ]
    },
    {
      "cell_type": "code",
      "metadata": {
        "id": "KmACRPJZ7seG",
        "colab_type": "code",
        "outputId": "e9598cb2-4070-4ea0-a53e-0d345bcee0e5",
        "colab": {
          "base_uri": "https://localhost:8080/",
          "height": 17
        }
      },
      "source": [
        "import numpy as np\n",
        "import pandas as pd\n",
        "from scipy.stats import beta, bernoulli\n",
        "import plotly.graph_objs as go\n",
        "from plotly.offline import init_notebook_mode, iplot\n",
        "from plotly import subplots\n",
        "init_notebook_mode(connected=True)\n",
        "import random\n",
        "import math\n",
        "import plotly\n",
        "plotly.io.renderers.default = 'colab'\n",
        "np.random.seed(123)"
      ],
      "execution_count": 0,
      "outputs": [
        {
          "output_type": "display_data",
          "data": {
            "text/html": [
              "        <script type=\"text/javascript\">\n",
              "        window.PlotlyConfig = {MathJaxConfig: 'local'};\n",
              "        if (window.MathJax) {MathJax.Hub.Config({SVG: {font: \"STIX-Web\"}});}\n",
              "        if (typeof require !== 'undefined') {\n",
              "        require.undef(\"plotly\");\n",
              "        requirejs.config({\n",
              "            paths: {\n",
              "                'plotly': ['https://cdn.plot.ly/plotly-latest.min']\n",
              "            }\n",
              "        });\n",
              "        require(['plotly'], function(Plotly) {\n",
              "            window._Plotly = Plotly;\n",
              "        });\n",
              "        }\n",
              "        </script>\n",
              "        "
            ]
          },
          "metadata": {
            "tags": []
          }
        }
      ]
    },
    {
      "cell_type": "code",
      "metadata": {
        "id": "b7dyslwDIrbb",
        "colab_type": "code",
        "colab": {}
      },
      "source": [
        "def algorithm_performance():\n",
        "    \"\"\"\n",
        "    Function that will show the performance of each algorithm we will be using in this tutorial.\n",
        "    Hàm biểu diễn việc thực hiện mỗi thuật toán ta sẽ dùng trong phần hướng dẫn này.\n",
        "    \"\"\"\n",
        "    \n",
        "    ## calculate how many time each Ad has been choosen\n",
        "    ## tính số lần mỗi quảng cáo được chọn\n",
        "    print('index_list',index_list)\n",
        "    count_series = pd.Series(index_list).value_counts(normalize=True)\n",
        "    print('Ad #0 has been shown', count_series[0]*100, '% of the time.')\n",
        "    print('Ad #1 has been shown', count_series[1]*100, '% of the time.')\n",
        "    \n",
        "    print('Total Reward (Number of Clicks):', total_reward) ## print total Reward\n",
        "    \n",
        "    x = np.arange (0, n, 1)\n",
        "\n",
        "    # plot the calculated CTR for Ad #0\n",
        "    # tính và vẽ đồ thị CTR đã tính được cho quảng cáo #0\n",
        "    data1 = go.Scatter(x=x,\n",
        "                       y=ctr[0],\n",
        "                       name='Calculated CTR #0',\n",
        "                       line=dict(color=('rgba(10, 108, 94, .7)'),\n",
        "                                 width=2))\n",
        "\n",
        "    ## plot the line with actual CTR for Ad #0\n",
        "    ## vẽ đường thẳng biểu diễn giá trị CTR thực tế của quáng cáo #0\n",
        "    data2 = go.Scatter(x=[0, n],\n",
        "                       y=[ACTUAL_CTR[0]] * 2,\n",
        "                       name='Actual CTR #0 value',\n",
        "                       line = dict(color = ('rgb(205, 12, 24)'),\n",
        "                                   width = 1,\n",
        "                                   dash = 'dash'))\n",
        "\n",
        "    ## plot the calculated CTR for Ad #1\n",
        "    ## tính và vẽ đồ thị CTR đã tính được cho quảng cáo #1\n",
        "    data3 = go.Scatter(x=x,\n",
        "                       y=ctr[1],\n",
        "                       name='Calculated CTR #1',\n",
        "                       line=dict(color=('rgba(187, 121, 24, .7)'),\n",
        "                                 width=2))\n",
        "\n",
        "    ## plot the line with actual CTR for Ad #1\n",
        "    ## vẽ đường thẳng biểu diễn giá trị CTR thực tế của quáng cáo #1\n",
        "    data4 = go.Scatter(x=[0, n],\n",
        "                       y=[ACTUAL_CTR[1]] * 2,\n",
        "                       name='Actual CTR #1 value',\n",
        "                       line = dict(color = ('rgb(205, 12, 24)'),\n",
        "                                   width = 1,\n",
        "                                   dash = 'dash'))\n",
        "\n",
        "    ## plot the Regret values as a function of trial number\n",
        "    ## biểu diễn giá trị Regret: là một hàm có tham số là số lần thử nghiệm\n",
        "    data5 = go.Scatter(x=x,\n",
        "                       y=regret_list,\n",
        "                       name='Regret')\n",
        "\n",
        "    layout = go.Layout(title='Simulated CTR Values and Algorithm Regret',\n",
        "                       xaxis={'title': 'Trial Number'},\n",
        "                       yaxis1={'title': 'CTR value'},\n",
        "                       yaxis2={'title': 'Regret Value'}\n",
        "                       )\n",
        "    fig = subplots.make_subplots(rows=2, cols=1, print_grid=False, shared_yaxes=True, shared_xaxes=True)\n",
        "\n",
        "    fig.append_trace(data1, 1, 1)\n",
        "    fig.append_trace(data2, 1, 1)\n",
        "    fig.append_trace(data3, 1, 1)\n",
        "    fig.append_trace(data4, 1, 1)\n",
        "    fig.append_trace(data5, 2, 1)\n",
        "\n",
        "    fig['layout'].update(layout)\n",
        "    iplot(fig, show_link=False)"
      ],
      "execution_count": 0,
      "outputs": []
    },
    {
      "cell_type": "code",
      "metadata": {
        "id": "nkwv1jHSJu3G",
        "colab_type": "code",
        "outputId": "d1788411-a5b0-4858-9782-48a7b89426d2",
        "colab": {
          "base_uri": "https://localhost:8080/",
          "height": 51
        }
      },
      "source": [
        "# Để mô phỏng ta giả sử biết giá trị CTR\n",
        "ACTUAL_CTR = [.45, .65]\n",
        "print('Actual CTR for Ad #0 is:', ACTUAL_CTR[0])\n",
        "print('Actual CTR for Ad #1 is:', ACTUAL_CTR[1])"
      ],
      "execution_count": 0,
      "outputs": [
        {
          "output_type": "stream",
          "text": [
            "Actual CTR for Ad #0 is: 0.45\n",
            "Actual CTR for Ad #1 is: 0.65\n"
          ],
          "name": "stdout"
        }
      ]
    },
    {
      "cell_type": "markdown",
      "metadata": {
        "id": "hFkaNl1DKFfG",
        "colab_type": "text"
      },
      "source": [
        "# <a id='random'>Chọn Ngẫu Nhiên (Random Selection)</a> \n",
        "\n",
        "Thuật toán Chọn ngẫu nhiên không làm chuyện khai phá, nó chỉ chọn ngẫu nhiên quảng cáo để hiển thị.\n",
        "\n",
        "Bạn có thể hình dung như việc tung đồng xu vậy - nếu mặt ngửa ta chiếu quảng cáo #0, nếu mặt sấp ta chiếu quảng cáo #1. Vì vậy nếu ta có 2 quảng cáo, mỗi quảng cáo sẽ xuất hiện ~50% (=100%/2) số lần trình chiếu. Đến đây có thể bạn đã đoán được hạn chế của giải thuật này là gì rồi, nhưng hãy thử chạy mô phỏng xem thế nào."
      ]
    },
    {
      "cell_type": "markdown",
      "metadata": {
        "id": "JBy6z0DxR8ni",
        "colab_type": "text"
      },
      "source": [
        "## Set the initial values"
      ]
    },
    {
      "cell_type": "code",
      "metadata": {
        "id": "YF0hx-p_R_jF",
        "colab_type": "code",
        "colab": {}
      },
      "source": [
        "## For each alrorithm we will perform 1000 trials\n",
        "n = 100\n",
        "regret = 0 \n",
        "total_reward = 0\n",
        "regret_list = [] ## list for collecting the regret values for each impression (trial)\n",
        "ctr = {0: [], 1: []} ## lists for collecting the calculated CTR \n",
        "index_list = [] ## list for collecting the number of randomly choosen Ad\n",
        "\n",
        "## set the initial values for impressions and clicks \n",
        "impressions = [0,0] \n",
        "clicks = [0,0]"
      ],
      "execution_count": 0,
      "outputs": []
    },
    {
      "cell_type": "code",
      "metadata": {
        "id": "RbcQT3scKEA5",
        "colab_type": "code",
        "colab": {}
      },
      "source": [
        "for i in range(n):    \n",
        "    #TODO\n",
        "    ## randomly choose the value between [0,1]\n",
        "    ## chọn ngẫu nhiên giá trị nguyên trong khoảng [0,1]\n",
        "                            \n",
        "    ## add the value to list\n",
        "    ## thêm giá trị cho danh sách các quảng cáo đã chiếu\n",
        "\n",
        "    ## add 1 impression value for the choosen Ad\n",
        "    ## tăng 1 lượt chiếu cho quảng cáo được chọn\n",
        "\n",
        "    ## simulate if the person clicked on the ad usind Actual CTR value\n",
        "    ## mô phỏng trường hợp khách hàng click vào quảng cáo bằng cách sử dụng giá trị CTR thực\n",
        "\n",
        "\n",
        "    ## if person clicked add 1 click value for the choosen Ad\n",
        "    ## nếu khách hàng click thì cộng thêm 1 cho quảng cáo đó\n",
        "\n",
        "\n",
        "    ## calculate the CTR values and add them to list\n",
        "    ## tính giá trị CTR và thêm nó vào danh sách, trường hợp quảng cáo chưa chiếu lần nào xem như ctr = 0\n",
        "\n",
        "\n",
        "    ## calculate the regret and reward\n",
        "    ## tính toán regret và reward\n",
        "\n"
      ],
      "execution_count": 0,
      "outputs": []
    },
    {
      "cell_type": "markdown",
      "metadata": {
        "id": "imOJOkPmRZoa",
        "colab_type": "text"
      },
      "source": [
        "## performance of algorithm"
      ]
    },
    {
      "cell_type": "code",
      "metadata": {
        "id": "wxORxz8aOeW2",
        "colab_type": "code",
        "outputId": "5da90fa1-b0f1-4c5c-f47e-55303b870851",
        "colab": {
          "base_uri": "https://localhost:8080/",
          "height": 630
        }
      },
      "source": [
        "algorithm_performance()"
      ],
      "execution_count": 0,
      "outputs": [
        {
          "output_type": "stream",
          "text": [
            "index_list [0, 0, 0, 0, 0, 1, 1, 0, 1, 0, 0, 1, 1, 1, 0, 1, 0, 1, 1, 0, 0, 1, 0, 0, 1, 0, 0, 0, 0, 1, 1, 0, 1, 0, 0, 1, 1, 1, 1, 1, 1, 1, 0, 1, 0, 0, 1, 1, 1, 1, 0, 1, 1, 1, 0, 1, 0, 0, 0, 1, 1, 0, 0, 0, 0, 0, 1, 1, 0, 0, 0, 1, 1, 0, 1, 0, 1, 0, 1, 1, 0, 1, 0, 1, 1, 0, 0, 0, 1, 1, 1, 1, 0, 1, 1, 0, 1, 0, 1, 0, 0, 1, 1, 1, 0, 0, 0, 1, 1, 1, 0, 1, 0, 0, 0, 0, 1, 0, 1, 0, 0, 0, 0, 1, 0, 1, 1, 0, 0, 1, 1, 1, 1, 0, 0, 1, 0, 1, 0, 1, 1, 1, 1, 0, 1, 0, 0, 1, 0, 0, 1, 0, 1, 0, 1, 0, 0, 1, 0, 1, 0, 0, 1, 1, 1, 0, 0, 0, 0, 1, 1, 0, 1, 1, 0, 1, 0, 1, 1, 1, 1, 0, 1, 0, 1, 1, 0, 0, 1, 1, 1, 0, 0, 0, 1, 1, 0, 1, 1, 0]\n",
            "Ad #0 has been shown 49.0 % of the time.\n",
            "Ad #1 has been shown 51.0 % of the time.\n",
            "Total Reward (Number of Clicks): 110\n"
          ],
          "name": "stdout"
        },
        {
          "output_type": "display_data",
          "data": {
            "text/html": [
              "<html>\n",
              "<head><meta charset=\"utf-8\" /></head>\n",
              "<body>\n",
              "    <div>\n",
              "            <script src=\"https://cdnjs.cloudflare.com/ajax/libs/mathjax/2.7.5/MathJax.js?config=TeX-AMS-MML_SVG\"></script><script type=\"text/javascript\">if (window.MathJax) {MathJax.Hub.Config({SVG: {font: \"STIX-Web\"}});}</script>\n",
              "                <script type=\"text/javascript\">window.PlotlyConfig = {MathJaxConfig: 'local'};</script>\n",
              "        <script src=\"https://cdn.plot.ly/plotly-latest.min.js\"></script>    \n",
              "            <div id=\"360578ed-53b0-4ad0-a15a-71a3e4c83ae9\" class=\"plotly-graph-div\" style=\"height:525px; width:100%;\"></div>\n",
              "            <script type=\"text/javascript\">\n",
              "                \n",
              "                    window.PLOTLYENV=window.PLOTLYENV || {};\n",
              "                    \n",
              "                if (document.getElementById(\"360578ed-53b0-4ad0-a15a-71a3e4c83ae9\")) {\n",
              "                    Plotly.newPlot(\n",
              "                        '360578ed-53b0-4ad0-a15a-71a3e4c83ae9',\n",
              "                        [{\"line\": {\"color\": \"rgba(10, 108, 94, .7)\", \"width\": 2}, \"name\": \"Calculated CTR #0\", \"type\": \"scatter\", \"x\": [0, 1, 2, 3, 4, 5, 6, 7, 8, 9, 10, 11, 12, 13, 14, 15, 16, 17, 18, 19, 20, 21, 22, 23, 24, 25, 26, 27, 28, 29, 30, 31, 32, 33, 34, 35, 36, 37, 38, 39, 40, 41, 42, 43, 44, 45, 46, 47, 48, 49, 50, 51, 52, 53, 54, 55, 56, 57, 58, 59, 60, 61, 62, 63, 64, 65, 66, 67, 68, 69, 70, 71, 72, 73, 74, 75, 76, 77, 78, 79, 80, 81, 82, 83, 84, 85, 86, 87, 88, 89, 90, 91, 92, 93, 94, 95, 96, 97, 98, 99], \"xaxis\": \"x\", \"y\": [1.0, 0.5, 0.6666666666666666, 0.5, 0.4, 0.4, 0.4, 0.5, 0.5, 0.42857142857142855, 0.5, 0.5, 0.5, 0.5, 0.4444444444444444, 0.4444444444444444, 0.4, 0.4, 0.4, 0.45454545454545453, 0.5, 0.5, 0.46153846153846156, 0.42857142857142855, 0.42857142857142855, 0.4666666666666667, 0.4375, 0.4117647058823529, 0.3888888888888889, 0.3888888888888889, 0.3888888888888889, 0.42105263157894735, 0.42105263157894735, 0.4, 0.42857142857142855, 0.42857142857142855, 0.42857142857142855, 0.42857142857142855, 0.42857142857142855, 0.42857142857142855, 0.42857142857142855, 0.42857142857142855, 0.4090909090909091, 0.4090909090909091, 0.43478260869565216, 0.4166666666666667, 0.4166666666666667, 0.4166666666666667, 0.4166666666666667, 0.4166666666666667, 0.4, 0.4, 0.4, 0.4, 0.4230769230769231, 0.4230769230769231, 0.4444444444444444, 0.42857142857142855, 0.41379310344827586, 0.41379310344827586, 0.41379310344827586, 0.4, 0.3870967741935484, 0.40625, 0.3939393939393939, 0.38235294117647056, 0.38235294117647056, 0.38235294117647056, 0.37142857142857144, 0.3611111111111111, 0.35135135135135137, 0.35135135135135137, 0.35135135135135137, 0.34210526315789475, 0.34210526315789475, 0.358974358974359, 0.358974358974359, 0.375, 0.375, 0.375, 0.36585365853658536, 0.36585365853658536, 0.35714285714285715, 0.35714285714285715, 0.35714285714285715, 0.37209302325581395, 0.38636363636363635, 0.37777777777777777, 0.37777777777777777, 0.37777777777777777, 0.37777777777777777, 0.37777777777777777, 0.391304347826087, 0.391304347826087, 0.391304347826087, 0.40425531914893614, 0.40425531914893614, 0.4166666666666667, 0.4166666666666667, 0.42857142857142855], \"yaxis\": \"y\"}, {\"line\": {\"color\": \"rgb(205, 12, 24)\", \"dash\": \"dash\", \"width\": 1}, \"name\": \"Actual CTR #0 value\", \"type\": \"scatter\", \"x\": [0, 100], \"xaxis\": \"x\", \"y\": [0.45, 0.45], \"yaxis\": \"y\"}, {\"line\": {\"color\": \"rgba(187, 121, 24, .7)\", \"width\": 2}, \"name\": \"Calculated CTR #1\", \"type\": \"scatter\", \"x\": [0, 1, 2, 3, 4, 5, 6, 7, 8, 9, 10, 11, 12, 13, 14, 15, 16, 17, 18, 19, 20, 21, 22, 23, 24, 25, 26, 27, 28, 29, 30, 31, 32, 33, 34, 35, 36, 37, 38, 39, 40, 41, 42, 43, 44, 45, 46, 47, 48, 49, 50, 51, 52, 53, 54, 55, 56, 57, 58, 59, 60, 61, 62, 63, 64, 65, 66, 67, 68, 69, 70, 71, 72, 73, 74, 75, 76, 77, 78, 79, 80, 81, 82, 83, 84, 85, 86, 87, 88, 89, 90, 91, 92, 93, 94, 95, 96, 97, 98, 99], \"xaxis\": \"x\", \"y\": [0, 0, 0, 0, 0, 1.0, 1.0, 1.0, 1.0, 1.0, 1.0, 1.0, 0.8, 0.8333333333333334, 0.8333333333333334, 0.8571428571428571, 0.8571428571428571, 0.875, 0.8888888888888888, 0.8888888888888888, 0.8888888888888888, 0.9, 0.9, 0.9, 0.8181818181818182, 0.8181818181818182, 0.8181818181818182, 0.8181818181818182, 0.8181818181818182, 0.75, 0.7692307692307693, 0.7692307692307693, 0.7857142857142857, 0.7857142857142857, 0.7857142857142857, 0.8, 0.8125, 0.8235294117647058, 0.7777777777777778, 0.7894736842105263, 0.8, 0.8095238095238095, 0.8095238095238095, 0.8181818181818182, 0.8181818181818182, 0.8181818181818182, 0.8260869565217391, 0.7916666666666666, 0.76, 0.7692307692307693, 0.7692307692307693, 0.7777777777777778, 0.75, 0.7586206896551724, 0.7586206896551724, 0.7666666666666667, 0.7666666666666667, 0.7666666666666667, 0.7666666666666667, 0.7741935483870968, 0.78125, 0.78125, 0.78125, 0.78125, 0.78125, 0.78125, 0.7575757575757576, 0.7352941176470589, 0.7352941176470589, 0.7352941176470589, 0.7352941176470589, 0.7428571428571429, 0.75, 0.75, 0.7297297297297297, 0.7297297297297297, 0.7368421052631579, 0.7368421052631579, 0.7435897435897436, 0.725, 0.725, 0.7317073170731707, 0.7317073170731707, 0.7142857142857143, 0.6976744186046512, 0.6976744186046512, 0.6976744186046512, 0.6976744186046512, 0.6818181818181818, 0.6666666666666666, 0.6739130434782609, 0.6808510638297872, 0.6808510638297872, 0.6875, 0.673469387755102, 0.673469387755102, 0.68, 0.68, 0.6862745098039216, 0.6862745098039216], \"yaxis\": \"y\"}, {\"line\": {\"color\": \"rgb(205, 12, 24)\", \"dash\": \"dash\", \"width\": 1}, \"name\": \"Actual CTR #1 value\", \"type\": \"scatter\", \"x\": [0, 100], \"xaxis\": \"x\", \"y\": [0.65, 0.65], \"yaxis\": \"y\"}, {\"name\": \"Regret\", \"type\": \"scatter\", \"x\": [0, 1, 2, 3, 4, 5, 6, 7, 8, 9, 10, 11, 12, 13, 14, 15, 16, 17, 18, 19, 20, 21, 22, 23, 24, 25, 26, 27, 28, 29, 30, 31, 32, 33, 34, 35, 36, 37, 38, 39, 40, 41, 42, 43, 44, 45, 46, 47, 48, 49, 50, 51, 52, 53, 54, 55, 56, 57, 58, 59, 60, 61, 62, 63, 64, 65, 66, 67, 68, 69, 70, 71, 72, 73, 74, 75, 76, 77, 78, 79, 80, 81, 82, 83, 84, 85, 86, 87, 88, 89, 90, 91, 92, 93, 94, 95, 96, 97, 98, 99], \"xaxis\": \"x2\", \"y\": [0.2, 0.4, 0.6000000000000001, 0.8, 1.0, 1.0, 1.0, 1.2, 1.2, 1.4, 1.5999999999999999, 1.5999999999999999, 1.5999999999999999, 1.5999999999999999, 1.7999999999999998, 1.7999999999999998, 1.9999999999999998, 1.9999999999999998, 1.9999999999999998, 2.1999999999999997, 2.4, 2.4, 2.6, 2.8000000000000003, 2.8000000000000003, 3.0000000000000004, 3.2000000000000006, 3.400000000000001, 3.600000000000001, 3.600000000000001, 3.600000000000001, 3.800000000000001, 3.800000000000001, 4.000000000000001, 4.200000000000001, 4.200000000000001, 4.200000000000001, 4.200000000000001, 4.200000000000001, 4.200000000000001, 4.200000000000001, 4.200000000000001, 4.400000000000001, 4.400000000000001, 4.600000000000001, 4.800000000000002, 4.800000000000002, 4.800000000000002, 4.800000000000002, 4.800000000000002, 5.000000000000002, 5.000000000000002, 5.000000000000002, 5.000000000000002, 5.200000000000002, 5.200000000000002, 5.400000000000002, 5.600000000000002, 5.8000000000000025, 5.8000000000000025, 5.8000000000000025, 6.000000000000003, 6.200000000000003, 6.400000000000003, 6.600000000000003, 6.800000000000003, 6.800000000000003, 6.800000000000003, 7.0000000000000036, 7.200000000000004, 7.400000000000004, 7.400000000000004, 7.400000000000004, 7.600000000000004, 7.600000000000004, 7.800000000000004, 7.800000000000004, 8.000000000000004, 8.000000000000004, 8.000000000000004, 8.200000000000003, 8.200000000000003, 8.400000000000002, 8.400000000000002, 8.400000000000002, 8.600000000000001, 8.8, 9.0, 9.0, 9.0, 9.0, 9.0, 9.2, 9.2, 9.2, 9.399999999999999, 9.399999999999999, 9.599999999999998, 9.599999999999998, 9.799999999999997, 9.999999999999996, 9.999999999999996, 9.999999999999996, 9.999999999999996, 10.199999999999996, 10.399999999999995, 10.599999999999994, 10.599999999999994, 10.599999999999994, 10.599999999999994, 10.799999999999994, 10.799999999999994, 10.999999999999993, 11.199999999999992, 11.399999999999991, 11.59999999999999, 11.59999999999999, 11.79999999999999, 11.79999999999999, 11.99999999999999, 12.199999999999989, 12.399999999999988, 12.599999999999987, 12.599999999999987, 12.799999999999986, 12.799999999999986, 12.799999999999986, 12.999999999999986, 13.199999999999985, 13.199999999999985, 13.199999999999985, 13.199999999999985, 13.199999999999985, 13.399999999999984, 13.599999999999984, 13.599999999999984, 13.799999999999983, 13.799999999999983, 13.999999999999982, 13.999999999999982, 13.999999999999982, 13.999999999999982, 13.999999999999982, 14.199999999999982, 14.199999999999982, 14.39999999999998, 14.59999999999998, 14.59999999999998, 14.79999999999998, 14.999999999999979, 14.999999999999979, 15.199999999999978, 15.199999999999978, 15.399999999999977, 15.399999999999977, 15.599999999999977, 15.799999999999976, 15.799999999999976, 15.999999999999975, 15.999999999999975, 16.199999999999974, 16.399999999999974, 16.399999999999974, 16.399999999999974, 16.399999999999974, 16.599999999999973, 16.799999999999972, 16.99999999999997, 17.19999999999997, 17.19999999999997, 17.19999999999997, 17.39999999999997, 17.39999999999997, 17.39999999999997, 17.59999999999997, 17.59999999999997, 17.79999999999997, 17.79999999999997, 17.79999999999997, 17.79999999999997, 17.79999999999997, 17.999999999999968, 17.999999999999968, 18.199999999999967, 18.199999999999967, 18.199999999999967, 18.399999999999967, 18.599999999999966, 18.599999999999966, 18.599999999999966, 18.599999999999966, 18.799999999999965, 18.999999999999964, 19.199999999999964, 19.199999999999964, 19.199999999999964, 19.399999999999963, 19.399999999999963, 19.399999999999963, 19.599999999999962], \"yaxis\": \"y2\"}],\n",
              "                        {\"template\": {\"data\": {\"bar\": [{\"error_x\": {\"color\": \"#2a3f5f\"}, \"error_y\": {\"color\": \"#2a3f5f\"}, \"marker\": {\"line\": {\"color\": \"#E5ECF6\", \"width\": 0.5}}, \"type\": \"bar\"}], \"barpolar\": [{\"marker\": {\"line\": {\"color\": \"#E5ECF6\", \"width\": 0.5}}, \"type\": \"barpolar\"}], \"carpet\": [{\"aaxis\": {\"endlinecolor\": \"#2a3f5f\", \"gridcolor\": \"white\", \"linecolor\": \"white\", \"minorgridcolor\": \"white\", \"startlinecolor\": \"#2a3f5f\"}, \"baxis\": {\"endlinecolor\": \"#2a3f5f\", \"gridcolor\": \"white\", \"linecolor\": \"white\", \"minorgridcolor\": \"white\", \"startlinecolor\": \"#2a3f5f\"}, \"type\": \"carpet\"}], \"choropleth\": [{\"colorbar\": {\"outlinewidth\": 0, \"ticks\": \"\"}, \"type\": \"choropleth\"}], \"contour\": [{\"colorbar\": {\"outlinewidth\": 0, \"ticks\": \"\"}, \"colorscale\": [[0.0, \"#0d0887\"], [0.1111111111111111, \"#46039f\"], [0.2222222222222222, \"#7201a8\"], [0.3333333333333333, \"#9c179e\"], [0.4444444444444444, \"#bd3786\"], [0.5555555555555556, \"#d8576b\"], [0.6666666666666666, \"#ed7953\"], [0.7777777777777778, \"#fb9f3a\"], [0.8888888888888888, \"#fdca26\"], [1.0, \"#f0f921\"]], \"type\": \"contour\"}], \"contourcarpet\": [{\"colorbar\": {\"outlinewidth\": 0, \"ticks\": \"\"}, \"type\": \"contourcarpet\"}], \"heatmap\": [{\"colorbar\": {\"outlinewidth\": 0, \"ticks\": \"\"}, \"colorscale\": [[0.0, \"#0d0887\"], [0.1111111111111111, \"#46039f\"], [0.2222222222222222, \"#7201a8\"], [0.3333333333333333, \"#9c179e\"], [0.4444444444444444, \"#bd3786\"], [0.5555555555555556, \"#d8576b\"], [0.6666666666666666, \"#ed7953\"], [0.7777777777777778, \"#fb9f3a\"], [0.8888888888888888, \"#fdca26\"], [1.0, \"#f0f921\"]], \"type\": \"heatmap\"}], \"heatmapgl\": [{\"colorbar\": {\"outlinewidth\": 0, \"ticks\": \"\"}, \"colorscale\": [[0.0, \"#0d0887\"], [0.1111111111111111, \"#46039f\"], [0.2222222222222222, \"#7201a8\"], [0.3333333333333333, \"#9c179e\"], [0.4444444444444444, \"#bd3786\"], [0.5555555555555556, \"#d8576b\"], [0.6666666666666666, \"#ed7953\"], [0.7777777777777778, \"#fb9f3a\"], [0.8888888888888888, \"#fdca26\"], [1.0, \"#f0f921\"]], \"type\": \"heatmapgl\"}], \"histogram\": [{\"marker\": {\"colorbar\": {\"outlinewidth\": 0, \"ticks\": \"\"}}, \"type\": \"histogram\"}], \"histogram2d\": [{\"colorbar\": {\"outlinewidth\": 0, \"ticks\": \"\"}, \"colorscale\": [[0.0, \"#0d0887\"], [0.1111111111111111, \"#46039f\"], [0.2222222222222222, \"#7201a8\"], [0.3333333333333333, \"#9c179e\"], [0.4444444444444444, \"#bd3786\"], [0.5555555555555556, \"#d8576b\"], [0.6666666666666666, \"#ed7953\"], [0.7777777777777778, \"#fb9f3a\"], [0.8888888888888888, \"#fdca26\"], [1.0, \"#f0f921\"]], \"type\": \"histogram2d\"}], \"histogram2dcontour\": [{\"colorbar\": {\"outlinewidth\": 0, \"ticks\": \"\"}, \"colorscale\": [[0.0, \"#0d0887\"], [0.1111111111111111, \"#46039f\"], [0.2222222222222222, \"#7201a8\"], [0.3333333333333333, \"#9c179e\"], [0.4444444444444444, \"#bd3786\"], [0.5555555555555556, \"#d8576b\"], [0.6666666666666666, \"#ed7953\"], [0.7777777777777778, \"#fb9f3a\"], [0.8888888888888888, \"#fdca26\"], [1.0, \"#f0f921\"]], \"type\": \"histogram2dcontour\"}], \"mesh3d\": [{\"colorbar\": {\"outlinewidth\": 0, \"ticks\": \"\"}, \"type\": \"mesh3d\"}], \"parcoords\": [{\"line\": {\"colorbar\": {\"outlinewidth\": 0, \"ticks\": \"\"}}, \"type\": \"parcoords\"}], \"pie\": [{\"automargin\": true, \"type\": \"pie\"}], \"scatter\": [{\"marker\": {\"colorbar\": {\"outlinewidth\": 0, \"ticks\": \"\"}}, \"type\": \"scatter\"}], \"scatter3d\": [{\"line\": {\"colorbar\": {\"outlinewidth\": 0, \"ticks\": \"\"}}, \"marker\": {\"colorbar\": {\"outlinewidth\": 0, \"ticks\": \"\"}}, \"type\": \"scatter3d\"}], \"scattercarpet\": [{\"marker\": {\"colorbar\": {\"outlinewidth\": 0, \"ticks\": \"\"}}, \"type\": \"scattercarpet\"}], \"scattergeo\": [{\"marker\": {\"colorbar\": {\"outlinewidth\": 0, \"ticks\": \"\"}}, \"type\": \"scattergeo\"}], \"scattergl\": [{\"marker\": {\"colorbar\": {\"outlinewidth\": 0, \"ticks\": \"\"}}, \"type\": \"scattergl\"}], \"scattermapbox\": [{\"marker\": {\"colorbar\": {\"outlinewidth\": 0, \"ticks\": \"\"}}, \"type\": \"scattermapbox\"}], \"scatterpolar\": [{\"marker\": {\"colorbar\": {\"outlinewidth\": 0, \"ticks\": \"\"}}, \"type\": \"scatterpolar\"}], \"scatterpolargl\": [{\"marker\": {\"colorbar\": {\"outlinewidth\": 0, \"ticks\": \"\"}}, \"type\": \"scatterpolargl\"}], \"scatterternary\": [{\"marker\": {\"colorbar\": {\"outlinewidth\": 0, \"ticks\": \"\"}}, \"type\": \"scatterternary\"}], \"surface\": [{\"colorbar\": {\"outlinewidth\": 0, \"ticks\": \"\"}, \"colorscale\": [[0.0, \"#0d0887\"], [0.1111111111111111, \"#46039f\"], [0.2222222222222222, \"#7201a8\"], [0.3333333333333333, \"#9c179e\"], [0.4444444444444444, \"#bd3786\"], [0.5555555555555556, \"#d8576b\"], [0.6666666666666666, \"#ed7953\"], [0.7777777777777778, \"#fb9f3a\"], [0.8888888888888888, \"#fdca26\"], [1.0, \"#f0f921\"]], \"type\": \"surface\"}], \"table\": [{\"cells\": {\"fill\": {\"color\": \"#EBF0F8\"}, \"line\": {\"color\": \"white\"}}, \"header\": {\"fill\": {\"color\": \"#C8D4E3\"}, \"line\": {\"color\": \"white\"}}, \"type\": \"table\"}]}, \"layout\": {\"annotationdefaults\": {\"arrowcolor\": \"#2a3f5f\", \"arrowhead\": 0, \"arrowwidth\": 1}, \"coloraxis\": {\"colorbar\": {\"outlinewidth\": 0, \"ticks\": \"\"}}, \"colorscale\": {\"diverging\": [[0, \"#8e0152\"], [0.1, \"#c51b7d\"], [0.2, \"#de77ae\"], [0.3, \"#f1b6da\"], [0.4, \"#fde0ef\"], [0.5, \"#f7f7f7\"], [0.6, \"#e6f5d0\"], [0.7, \"#b8e186\"], [0.8, \"#7fbc41\"], [0.9, \"#4d9221\"], [1, \"#276419\"]], \"sequential\": [[0.0, \"#0d0887\"], [0.1111111111111111, \"#46039f\"], [0.2222222222222222, \"#7201a8\"], [0.3333333333333333, \"#9c179e\"], [0.4444444444444444, \"#bd3786\"], [0.5555555555555556, \"#d8576b\"], [0.6666666666666666, \"#ed7953\"], [0.7777777777777778, \"#fb9f3a\"], [0.8888888888888888, \"#fdca26\"], [1.0, \"#f0f921\"]], \"sequentialminus\": [[0.0, \"#0d0887\"], [0.1111111111111111, \"#46039f\"], [0.2222222222222222, \"#7201a8\"], [0.3333333333333333, \"#9c179e\"], [0.4444444444444444, \"#bd3786\"], [0.5555555555555556, \"#d8576b\"], [0.6666666666666666, \"#ed7953\"], [0.7777777777777778, \"#fb9f3a\"], [0.8888888888888888, \"#fdca26\"], [1.0, \"#f0f921\"]]}, \"colorway\": [\"#636efa\", \"#EF553B\", \"#00cc96\", \"#ab63fa\", \"#FFA15A\", \"#19d3f3\", \"#FF6692\", \"#B6E880\", \"#FF97FF\", \"#FECB52\"], \"font\": {\"color\": \"#2a3f5f\"}, \"geo\": {\"bgcolor\": \"white\", \"lakecolor\": \"white\", \"landcolor\": \"#E5ECF6\", \"showlakes\": true, \"showland\": true, \"subunitcolor\": \"white\"}, \"hoverlabel\": {\"align\": \"left\"}, \"hovermode\": \"closest\", \"mapbox\": {\"style\": \"light\"}, \"paper_bgcolor\": \"white\", \"plot_bgcolor\": \"#E5ECF6\", \"polar\": {\"angularaxis\": {\"gridcolor\": \"white\", \"linecolor\": \"white\", \"ticks\": \"\"}, \"bgcolor\": \"#E5ECF6\", \"radialaxis\": {\"gridcolor\": \"white\", \"linecolor\": \"white\", \"ticks\": \"\"}}, \"scene\": {\"xaxis\": {\"backgroundcolor\": \"#E5ECF6\", \"gridcolor\": \"white\", \"gridwidth\": 2, \"linecolor\": \"white\", \"showbackground\": true, \"ticks\": \"\", \"zerolinecolor\": \"white\"}, \"yaxis\": {\"backgroundcolor\": \"#E5ECF6\", \"gridcolor\": \"white\", \"gridwidth\": 2, \"linecolor\": \"white\", \"showbackground\": true, \"ticks\": \"\", \"zerolinecolor\": \"white\"}, \"zaxis\": {\"backgroundcolor\": \"#E5ECF6\", \"gridcolor\": \"white\", \"gridwidth\": 2, \"linecolor\": \"white\", \"showbackground\": true, \"ticks\": \"\", \"zerolinecolor\": \"white\"}}, \"shapedefaults\": {\"line\": {\"color\": \"#2a3f5f\"}}, \"ternary\": {\"aaxis\": {\"gridcolor\": \"white\", \"linecolor\": \"white\", \"ticks\": \"\"}, \"baxis\": {\"gridcolor\": \"white\", \"linecolor\": \"white\", \"ticks\": \"\"}, \"bgcolor\": \"#E5ECF6\", \"caxis\": {\"gridcolor\": \"white\", \"linecolor\": \"white\", \"ticks\": \"\"}}, \"title\": {\"x\": 0.05}, \"xaxis\": {\"automargin\": true, \"gridcolor\": \"white\", \"linecolor\": \"white\", \"ticks\": \"\", \"title\": {\"standoff\": 15}, \"zerolinecolor\": \"white\", \"zerolinewidth\": 2}, \"yaxis\": {\"automargin\": true, \"gridcolor\": \"white\", \"linecolor\": \"white\", \"ticks\": \"\", \"title\": {\"standoff\": 15}, \"zerolinecolor\": \"white\", \"zerolinewidth\": 2}}}, \"title\": {\"text\": \"Simulated CTR Values and Algorithm Regret\"}, \"xaxis\": {\"anchor\": \"y\", \"domain\": [0.0, 1.0], \"matches\": \"x2\", \"showticklabels\": false, \"title\": {\"text\": \"Trial Number\"}}, \"xaxis2\": {\"anchor\": \"y2\", \"domain\": [0.0, 1.0]}, \"yaxis\": {\"anchor\": \"x\", \"domain\": [0.575, 1.0], \"title\": {\"text\": \"CTR value\"}}, \"yaxis2\": {\"anchor\": \"x2\", \"domain\": [0.0, 0.425], \"title\": {\"text\": \"Regret Value\"}}},\n",
              "                        {\"responsive\": true}\n",
              "                    ).then(function(){\n",
              "                            \n",
              "var gd = document.getElementById('360578ed-53b0-4ad0-a15a-71a3e4c83ae9');\n",
              "var x = new MutationObserver(function (mutations, observer) {{\n",
              "        var display = window.getComputedStyle(gd).display;\n",
              "        if (!display || display === 'none') {{\n",
              "            console.log([gd, 'removed!']);\n",
              "            Plotly.purge(gd);\n",
              "            observer.disconnect();\n",
              "        }}\n",
              "}});\n",
              "\n",
              "// Listen for the removal of the full notebook cells\n",
              "var notebookContainer = gd.closest('#notebook-container');\n",
              "if (notebookContainer) {{\n",
              "    x.observe(notebookContainer, {childList: true});\n",
              "}}\n",
              "\n",
              "// Listen for the clearing of the current output cell\n",
              "var outputEl = gd.closest('.output');\n",
              "if (outputEl) {{\n",
              "    x.observe(outputEl, {childList: true});\n",
              "}}\n",
              "\n",
              "                        })\n",
              "                };\n",
              "                \n",
              "            </script>\n",
              "        </div>\n",
              "</body>\n",
              "</html>"
            ]
          },
          "metadata": {
            "tags": []
          }
        }
      ]
    },
    {
      "cell_type": "markdown",
      "metadata": {
        "id": "vsyDKGFuKWWN",
        "colab_type": "text"
      },
      "source": [
        "Cả hai quảng cáo đều được chiếu với số lần bằng nhau và qua càng nhiều lượt thử nghiệm thì giá trị CTR tính toán được sẽ càng gần với giá trị mà ta đã biết trước. Tuy nhiên, regret vẫn liên tục tăng do thuật toán không học được gì và không cập nhật gì so với thông tin thu được. Regret đang tăng lên này chính xác là những gì ta hy vọng sẽ giảm thiểu được bằng các phương pháp \"thông minh hơn\"."
      ]
    },
    {
      "cell_type": "markdown",
      "metadata": {
        "id": "JWa0FXFMRjm6",
        "colab_type": "text"
      },
      "source": [
        "## Save result"
      ]
    },
    {
      "cell_type": "code",
      "metadata": {
        "id": "6aYBzNWoOlkw",
        "colab_type": "code",
        "outputId": "4fa3b498-f0bd-4a78-d6ed-cd86bfda82ac",
        "colab": {
          "base_uri": "https://localhost:8080/",
          "height": 88
        }
      },
      "source": [
        "## save the reward and regret values for future comparison\n",
        "random_dict = {'reward':total_reward,\n",
        "               'regret_list':regret_list, \n",
        "               'ads_count':pd.Series(index_list).value_counts(normalize=True)}\n",
        "print(random_dict)"
      ],
      "execution_count": 0,
      "outputs": [
        {
          "output_type": "stream",
          "text": [
            "{'reward': 14, 'regret_list': [0.0, 0.0, 0.0, 0.0, 0.0, 0.0, 0.0, 0.0, 0.0, 0.0, 0.2, 0.2, 0.2, 0.4, 0.6000000000000001, 0.8, 1.0, 1.0, 1.0, 1.2], 'ads_count': 1    0.7\n",
            "0    0.3\n",
            "dtype: float64}\n"
          ],
          "name": "stdout"
        }
      ]
    },
    {
      "cell_type": "markdown",
      "metadata": {
        "id": "FwC2jBgaRpmk",
        "colab_type": "text"
      },
      "source": [
        "# <a id='epsilon'>Epsilon Greedy</a> \n",
        "\n",
        "Cách tiếp cận tiếp theo là thuật toán Epsilon-Greedy. Logic như sau:\n",
        "\n",
        "1. Chạy thử nghiệm từng quảng cáo vài lần đầu (**Khai phá**).\n",
        "\n",
        "2. Trong giai đoạn khai phá ban đầu này, chọn ra quảng cáo có số điểm cao nhất.\n",
        "3. Thiết lập giá trị Epsilon,  **$\\epsilon$**.\n",
        "\n",
        "4. Chạy thử nghiệm với việc chọn biến thể (variant) trội hơn với **$(1-\\epsilon)$** (%)thời gian và các lựa chọn khác với **$\\epsilon\\$** (%)thời gian (**Khai thác**).\n",
        "\n",
        "Sau đây là cách thuật toán thực thi:\n"
      ]
    },
    {
      "cell_type": "markdown",
      "metadata": {
        "id": "3LbngD_YSLzB",
        "colab_type": "text"
      },
      "source": [
        "## Set initial values"
      ]
    },
    {
      "cell_type": "code",
      "metadata": {
        "id": "7cWuNsFPR3sH",
        "colab_type": "code",
        "colab": {}
      },
      "source": [
        "e = .05 ## set the Epsilon value\n",
        "n_init = 10 ## number of impressions to choose the winning Ad\n",
        "             ## số lần hiển thị để chọn quảng cáo trội hơn\n",
        "## set the initial values for impressions and clicks \n",
        "impressions = [0,0] \n",
        "clicks = [0,0] "
      ],
      "execution_count": 0,
      "outputs": []
    },
    {
      "cell_type": "code",
      "metadata": {
        "id": "pM9EW6lES3Sm",
        "colab_type": "code",
        "colab": {}
      },
      "source": [
        "for i in range(n_init):\n",
        "    ## chọn ra ngẫu nhiên 1 số nguyên có giá trị từ [0,2)\n",
        "    random_index = np.random.randint(0,2,1)[0]\n",
        "    # print('quảng cáo được chiếu',random_index)\n",
        "    impressions[random_index] += 1\n",
        "    # print('số lần chiếu của 2 loại quảng cáo',impressions)\n",
        "    did_click = bernoulli.rvs(ACTUAL_CTR[random_index])\n",
        "    if did_click:\n",
        "        clicks[random_index] += did_click\n",
        "        # print('số lần khách hàng click chuột vào xem quảng cáo',clicks)\n",
        "ctr_0 = clicks[0] / impressions[0]\n",
        "ctr_1 = clicks[1] / impressions[1]\n",
        "win_index = np.argmax([ctr_0, ctr_1]) ## select the Ad number with the highest CTR\n",
        "                                      ## chọn quảng cáo có CTR cao nhất\n",
        "\n",
        "# print('After', n_init, 'initial trials Ad #', win_index, 'got the highest CTR =', round(np.max([ctr_0, ctr_1]), 2), \n",
        "      # '(Real CTR value is', ACTUAL_CTR[win_index], ').'\n",
        "      # '\\nIt will be shown', (1-e)*100, '% of the time.')\n",
        "# print(ctr_0, ctr_1)"
      ],
      "execution_count": 0,
      "outputs": []
    },
    {
      "cell_type": "markdown",
      "metadata": {
        "id": "j4SWsOfrLhVa",
        "colab_type": "text"
      },
      "source": [
        "## Set initial values"
      ]
    },
    {
      "cell_type": "code",
      "metadata": {
        "id": "P-b3IVsHLmKp",
        "colab_type": "code",
        "colab": {}
      },
      "source": [
        "regret = 0 \n",
        "total_reward = 0\n",
        "regret_list = [] \n",
        "ctr = {0: [], 1: []}\n",
        "index_list = [] \n",
        "impressions = [0,0] \n",
        "clicks = [0,0]"
      ],
      "execution_count": 0,
      "outputs": []
    },
    {
      "cell_type": "code",
      "metadata": {
        "id": "4q5sMsA4WA_U",
        "colab_type": "code",
        "colab": {}
      },
      "source": [
        "\n",
        "\n",
        "for i in range(n):    \n",
        "    # print('win_index', win_index)\n",
        "    epsilon_index = random.choices([win_index, 1 - win_index], [1 - e, e])[0]\n",
        "    index_list.append(epsilon_index)\n",
        "    # print('epsilon_index',epsilon_index)\n",
        "    # print('index_list',index_list)\n",
        "    impressions[epsilon_index] += 1\n",
        "    # print('impressions',impressions)\n",
        "    did_click = bernoulli.rvs(ACTUAL_CTR[epsilon_index])\n",
        "    if did_click:\n",
        "        clicks[epsilon_index] += did_click\n",
        "    \n",
        "    if impressions[0] == 0:\n",
        "        ctr_0 = 0\n",
        "    else:\n",
        "        ctr_0 = clicks[0]/impressions[0]\n",
        "        \n",
        "    if impressions[1] == 0:\n",
        "        ctr_1 = 0\n",
        "    else:\n",
        "        ctr_1 = clicks[1]/impressions[1]\n",
        "        \n",
        "    ctr[0].append(ctr_0)\n",
        "    ctr[1].append(ctr_1)\n",
        "    # print('ctr',ctr)\n",
        "    \n",
        "    # print('ACTUAL_CTR',ACTUAL_CTR)\n",
        "    # print('ACTUAL_CTR[epsilon_index]',ACTUAL_CTR[epsilon_index])\n",
        "\n",
        "    regret += max(ACTUAL_CTR) - ACTUAL_CTR[epsilon_index]\n",
        "    regret_list.append(regret)\n",
        "    total_reward += did_click\n",
        "    # print(\"regret\", regret)\n",
        "    # print('regret_list',regret_list)\n",
        "    # print('total_reward',total_reward)"
      ],
      "execution_count": 0,
      "outputs": []
    },
    {
      "cell_type": "code",
      "metadata": {
        "id": "M5p0NYOeWXux",
        "colab_type": "code",
        "outputId": "e3b95fc1-7563-4088-de49-8528992e7692",
        "colab": {
          "base_uri": "https://localhost:8080/",
          "height": 610
        }
      },
      "source": [
        "algorithm_performance()"
      ],
      "execution_count": 0,
      "outputs": [
        {
          "output_type": "stream",
          "text": [
            "index_list [1, 1, 0, 1, 0, 1, 0, 1, 1, 1]\n",
            "Ad #0 has been shown 30.0 % of the time.\n",
            "Ad #1 has been shown 70.0 % of the time.\n",
            "Total Reward (Number of Clicks): 7\n"
          ],
          "name": "stdout"
        },
        {
          "output_type": "display_data",
          "data": {
            "text/html": [
              "<html>\n",
              "<head><meta charset=\"utf-8\" /></head>\n",
              "<body>\n",
              "    <div>\n",
              "            <script src=\"https://cdnjs.cloudflare.com/ajax/libs/mathjax/2.7.5/MathJax.js?config=TeX-AMS-MML_SVG\"></script><script type=\"text/javascript\">if (window.MathJax) {MathJax.Hub.Config({SVG: {font: \"STIX-Web\"}});}</script>\n",
              "                <script type=\"text/javascript\">window.PlotlyConfig = {MathJaxConfig: 'local'};</script>\n",
              "        <script src=\"https://cdn.plot.ly/plotly-latest.min.js\"></script>    \n",
              "            <div id=\"10a8674e-66a6-456c-a67c-a2eaff949983\" class=\"plotly-graph-div\" style=\"height:525px; width:100%;\"></div>\n",
              "            <script type=\"text/javascript\">\n",
              "                \n",
              "                    window.PLOTLYENV=window.PLOTLYENV || {};\n",
              "                    \n",
              "                if (document.getElementById(\"10a8674e-66a6-456c-a67c-a2eaff949983\")) {\n",
              "                    Plotly.newPlot(\n",
              "                        '10a8674e-66a6-456c-a67c-a2eaff949983',\n",
              "                        [{\"line\": {\"color\": \"rgba(10, 108, 94, .7)\", \"width\": 2}, \"name\": \"Calculated CTR #0\", \"type\": \"scatter\", \"x\": [0, 1, 2, 3, 4, 5, 6, 7, 8, 9], \"xaxis\": \"x\", \"y\": [0, 0, 0.0, 0.0, 0.0, 0.0, 0.3333333333333333, 0.3333333333333333, 0.3333333333333333, 0.3333333333333333], \"yaxis\": \"y\"}, {\"line\": {\"color\": \"rgb(205, 12, 24)\", \"dash\": \"dash\", \"width\": 1}, \"name\": \"Actual CTR #0 value\", \"type\": \"scatter\", \"x\": [0, 10], \"xaxis\": \"x\", \"y\": [0.45, 0.45], \"yaxis\": \"y\"}, {\"line\": {\"color\": \"rgba(187, 121, 24, .7)\", \"width\": 2}, \"name\": \"Calculated CTR #1\", \"type\": \"scatter\", \"x\": [0, 1, 2, 3, 4, 5, 6, 7, 8, 9], \"xaxis\": \"x\", \"y\": [1.0, 1.0, 1.0, 0.6666666666666666, 0.6666666666666666, 0.75, 0.75, 0.8, 0.8333333333333334, 0.8571428571428571], \"yaxis\": \"y\"}, {\"line\": {\"color\": \"rgb(205, 12, 24)\", \"dash\": \"dash\", \"width\": 1}, \"name\": \"Actual CTR #1 value\", \"type\": \"scatter\", \"x\": [0, 10], \"xaxis\": \"x\", \"y\": [0.65, 0.65], \"yaxis\": \"y\"}, {\"name\": \"Regret\", \"type\": \"scatter\", \"x\": [0, 1, 2, 3, 4, 5, 6, 7, 8, 9], \"xaxis\": \"x2\", \"y\": [0.0, 0.0, 0.2, 0.2, 0.4, 0.4, 0.6000000000000001, 0.6000000000000001, 0.6000000000000001, 0.6000000000000001], \"yaxis\": \"y2\"}],\n",
              "                        {\"template\": {\"data\": {\"bar\": [{\"error_x\": {\"color\": \"#2a3f5f\"}, \"error_y\": {\"color\": \"#2a3f5f\"}, \"marker\": {\"line\": {\"color\": \"#E5ECF6\", \"width\": 0.5}}, \"type\": \"bar\"}], \"barpolar\": [{\"marker\": {\"line\": {\"color\": \"#E5ECF6\", \"width\": 0.5}}, \"type\": \"barpolar\"}], \"carpet\": [{\"aaxis\": {\"endlinecolor\": \"#2a3f5f\", \"gridcolor\": \"white\", \"linecolor\": \"white\", \"minorgridcolor\": \"white\", \"startlinecolor\": \"#2a3f5f\"}, \"baxis\": {\"endlinecolor\": \"#2a3f5f\", \"gridcolor\": \"white\", \"linecolor\": \"white\", \"minorgridcolor\": \"white\", \"startlinecolor\": \"#2a3f5f\"}, \"type\": \"carpet\"}], \"choropleth\": [{\"colorbar\": {\"outlinewidth\": 0, \"ticks\": \"\"}, \"type\": \"choropleth\"}], \"contour\": [{\"colorbar\": {\"outlinewidth\": 0, \"ticks\": \"\"}, \"colorscale\": [[0.0, \"#0d0887\"], [0.1111111111111111, \"#46039f\"], [0.2222222222222222, \"#7201a8\"], [0.3333333333333333, \"#9c179e\"], [0.4444444444444444, \"#bd3786\"], [0.5555555555555556, \"#d8576b\"], [0.6666666666666666, \"#ed7953\"], [0.7777777777777778, \"#fb9f3a\"], [0.8888888888888888, \"#fdca26\"], [1.0, \"#f0f921\"]], \"type\": \"contour\"}], \"contourcarpet\": [{\"colorbar\": {\"outlinewidth\": 0, \"ticks\": \"\"}, \"type\": \"contourcarpet\"}], \"heatmap\": [{\"colorbar\": {\"outlinewidth\": 0, \"ticks\": \"\"}, \"colorscale\": [[0.0, \"#0d0887\"], [0.1111111111111111, \"#46039f\"], [0.2222222222222222, \"#7201a8\"], [0.3333333333333333, \"#9c179e\"], [0.4444444444444444, \"#bd3786\"], [0.5555555555555556, \"#d8576b\"], [0.6666666666666666, \"#ed7953\"], [0.7777777777777778, \"#fb9f3a\"], [0.8888888888888888, \"#fdca26\"], [1.0, \"#f0f921\"]], \"type\": \"heatmap\"}], \"heatmapgl\": [{\"colorbar\": {\"outlinewidth\": 0, \"ticks\": \"\"}, \"colorscale\": [[0.0, \"#0d0887\"], [0.1111111111111111, \"#46039f\"], [0.2222222222222222, \"#7201a8\"], [0.3333333333333333, \"#9c179e\"], [0.4444444444444444, \"#bd3786\"], [0.5555555555555556, \"#d8576b\"], [0.6666666666666666, \"#ed7953\"], [0.7777777777777778, \"#fb9f3a\"], [0.8888888888888888, \"#fdca26\"], [1.0, \"#f0f921\"]], \"type\": \"heatmapgl\"}], \"histogram\": [{\"marker\": {\"colorbar\": {\"outlinewidth\": 0, \"ticks\": \"\"}}, \"type\": \"histogram\"}], \"histogram2d\": [{\"colorbar\": {\"outlinewidth\": 0, \"ticks\": \"\"}, \"colorscale\": [[0.0, \"#0d0887\"], [0.1111111111111111, \"#46039f\"], [0.2222222222222222, \"#7201a8\"], [0.3333333333333333, \"#9c179e\"], [0.4444444444444444, \"#bd3786\"], [0.5555555555555556, \"#d8576b\"], [0.6666666666666666, \"#ed7953\"], [0.7777777777777778, \"#fb9f3a\"], [0.8888888888888888, \"#fdca26\"], [1.0, \"#f0f921\"]], \"type\": \"histogram2d\"}], \"histogram2dcontour\": [{\"colorbar\": {\"outlinewidth\": 0, \"ticks\": \"\"}, \"colorscale\": [[0.0, \"#0d0887\"], [0.1111111111111111, \"#46039f\"], [0.2222222222222222, \"#7201a8\"], [0.3333333333333333, \"#9c179e\"], [0.4444444444444444, \"#bd3786\"], [0.5555555555555556, \"#d8576b\"], [0.6666666666666666, \"#ed7953\"], [0.7777777777777778, \"#fb9f3a\"], [0.8888888888888888, \"#fdca26\"], [1.0, \"#f0f921\"]], \"type\": \"histogram2dcontour\"}], \"mesh3d\": [{\"colorbar\": {\"outlinewidth\": 0, \"ticks\": \"\"}, \"type\": \"mesh3d\"}], \"parcoords\": [{\"line\": {\"colorbar\": {\"outlinewidth\": 0, \"ticks\": \"\"}}, \"type\": \"parcoords\"}], \"pie\": [{\"automargin\": true, \"type\": \"pie\"}], \"scatter\": [{\"marker\": {\"colorbar\": {\"outlinewidth\": 0, \"ticks\": \"\"}}, \"type\": \"scatter\"}], \"scatter3d\": [{\"line\": {\"colorbar\": {\"outlinewidth\": 0, \"ticks\": \"\"}}, \"marker\": {\"colorbar\": {\"outlinewidth\": 0, \"ticks\": \"\"}}, \"type\": \"scatter3d\"}], \"scattercarpet\": [{\"marker\": {\"colorbar\": {\"outlinewidth\": 0, \"ticks\": \"\"}}, \"type\": \"scattercarpet\"}], \"scattergeo\": [{\"marker\": {\"colorbar\": {\"outlinewidth\": 0, \"ticks\": \"\"}}, \"type\": \"scattergeo\"}], \"scattergl\": [{\"marker\": {\"colorbar\": {\"outlinewidth\": 0, \"ticks\": \"\"}}, \"type\": \"scattergl\"}], \"scattermapbox\": [{\"marker\": {\"colorbar\": {\"outlinewidth\": 0, \"ticks\": \"\"}}, \"type\": \"scattermapbox\"}], \"scatterpolar\": [{\"marker\": {\"colorbar\": {\"outlinewidth\": 0, \"ticks\": \"\"}}, \"type\": \"scatterpolar\"}], \"scatterpolargl\": [{\"marker\": {\"colorbar\": {\"outlinewidth\": 0, \"ticks\": \"\"}}, \"type\": \"scatterpolargl\"}], \"scatterternary\": [{\"marker\": {\"colorbar\": {\"outlinewidth\": 0, \"ticks\": \"\"}}, \"type\": \"scatterternary\"}], \"surface\": [{\"colorbar\": {\"outlinewidth\": 0, \"ticks\": \"\"}, \"colorscale\": [[0.0, \"#0d0887\"], [0.1111111111111111, \"#46039f\"], [0.2222222222222222, \"#7201a8\"], [0.3333333333333333, \"#9c179e\"], [0.4444444444444444, \"#bd3786\"], [0.5555555555555556, \"#d8576b\"], [0.6666666666666666, \"#ed7953\"], [0.7777777777777778, \"#fb9f3a\"], [0.8888888888888888, \"#fdca26\"], [1.0, \"#f0f921\"]], \"type\": \"surface\"}], \"table\": [{\"cells\": {\"fill\": {\"color\": \"#EBF0F8\"}, \"line\": {\"color\": \"white\"}}, \"header\": {\"fill\": {\"color\": \"#C8D4E3\"}, \"line\": {\"color\": \"white\"}}, \"type\": \"table\"}]}, \"layout\": {\"annotationdefaults\": {\"arrowcolor\": \"#2a3f5f\", \"arrowhead\": 0, \"arrowwidth\": 1}, \"coloraxis\": {\"colorbar\": {\"outlinewidth\": 0, \"ticks\": \"\"}}, \"colorscale\": {\"diverging\": [[0, \"#8e0152\"], [0.1, \"#c51b7d\"], [0.2, \"#de77ae\"], [0.3, \"#f1b6da\"], [0.4, \"#fde0ef\"], [0.5, \"#f7f7f7\"], [0.6, \"#e6f5d0\"], [0.7, \"#b8e186\"], [0.8, \"#7fbc41\"], [0.9, \"#4d9221\"], [1, \"#276419\"]], \"sequential\": [[0.0, \"#0d0887\"], [0.1111111111111111, \"#46039f\"], [0.2222222222222222, \"#7201a8\"], [0.3333333333333333, \"#9c179e\"], [0.4444444444444444, \"#bd3786\"], [0.5555555555555556, \"#d8576b\"], [0.6666666666666666, \"#ed7953\"], [0.7777777777777778, \"#fb9f3a\"], [0.8888888888888888, \"#fdca26\"], [1.0, \"#f0f921\"]], \"sequentialminus\": [[0.0, \"#0d0887\"], [0.1111111111111111, \"#46039f\"], [0.2222222222222222, \"#7201a8\"], [0.3333333333333333, \"#9c179e\"], [0.4444444444444444, \"#bd3786\"], [0.5555555555555556, \"#d8576b\"], [0.6666666666666666, \"#ed7953\"], [0.7777777777777778, \"#fb9f3a\"], [0.8888888888888888, \"#fdca26\"], [1.0, \"#f0f921\"]]}, \"colorway\": [\"#636efa\", \"#EF553B\", \"#00cc96\", \"#ab63fa\", \"#FFA15A\", \"#19d3f3\", \"#FF6692\", \"#B6E880\", \"#FF97FF\", \"#FECB52\"], \"font\": {\"color\": \"#2a3f5f\"}, \"geo\": {\"bgcolor\": \"white\", \"lakecolor\": \"white\", \"landcolor\": \"#E5ECF6\", \"showlakes\": true, \"showland\": true, \"subunitcolor\": \"white\"}, \"hoverlabel\": {\"align\": \"left\"}, \"hovermode\": \"closest\", \"mapbox\": {\"style\": \"light\"}, \"paper_bgcolor\": \"white\", \"plot_bgcolor\": \"#E5ECF6\", \"polar\": {\"angularaxis\": {\"gridcolor\": \"white\", \"linecolor\": \"white\", \"ticks\": \"\"}, \"bgcolor\": \"#E5ECF6\", \"radialaxis\": {\"gridcolor\": \"white\", \"linecolor\": \"white\", \"ticks\": \"\"}}, \"scene\": {\"xaxis\": {\"backgroundcolor\": \"#E5ECF6\", \"gridcolor\": \"white\", \"gridwidth\": 2, \"linecolor\": \"white\", \"showbackground\": true, \"ticks\": \"\", \"zerolinecolor\": \"white\"}, \"yaxis\": {\"backgroundcolor\": \"#E5ECF6\", \"gridcolor\": \"white\", \"gridwidth\": 2, \"linecolor\": \"white\", \"showbackground\": true, \"ticks\": \"\", \"zerolinecolor\": \"white\"}, \"zaxis\": {\"backgroundcolor\": \"#E5ECF6\", \"gridcolor\": \"white\", \"gridwidth\": 2, \"linecolor\": \"white\", \"showbackground\": true, \"ticks\": \"\", \"zerolinecolor\": \"white\"}}, \"shapedefaults\": {\"line\": {\"color\": \"#2a3f5f\"}}, \"ternary\": {\"aaxis\": {\"gridcolor\": \"white\", \"linecolor\": \"white\", \"ticks\": \"\"}, \"baxis\": {\"gridcolor\": \"white\", \"linecolor\": \"white\", \"ticks\": \"\"}, \"bgcolor\": \"#E5ECF6\", \"caxis\": {\"gridcolor\": \"white\", \"linecolor\": \"white\", \"ticks\": \"\"}}, \"title\": {\"x\": 0.05}, \"xaxis\": {\"automargin\": true, \"gridcolor\": \"white\", \"linecolor\": \"white\", \"ticks\": \"\", \"title\": {\"standoff\": 15}, \"zerolinecolor\": \"white\", \"zerolinewidth\": 2}, \"yaxis\": {\"automargin\": true, \"gridcolor\": \"white\", \"linecolor\": \"white\", \"ticks\": \"\", \"title\": {\"standoff\": 15}, \"zerolinecolor\": \"white\", \"zerolinewidth\": 2}}}, \"title\": {\"text\": \"Simulated CTR Values and Algorithm Regret\"}, \"xaxis\": {\"anchor\": \"y\", \"domain\": [0.0, 1.0], \"matches\": \"x2\", \"showticklabels\": false, \"title\": {\"text\": \"Trial Number\"}}, \"xaxis2\": {\"anchor\": \"y2\", \"domain\": [0.0, 1.0]}, \"yaxis\": {\"anchor\": \"x\", \"domain\": [0.575, 1.0], \"title\": {\"text\": \"CTR value\"}}, \"yaxis2\": {\"anchor\": \"x2\", \"domain\": [0.0, 0.425], \"title\": {\"text\": \"Regret Value\"}}},\n",
              "                        {\"responsive\": true}\n",
              "                    ).then(function(){\n",
              "                            \n",
              "var gd = document.getElementById('10a8674e-66a6-456c-a67c-a2eaff949983');\n",
              "var x = new MutationObserver(function (mutations, observer) {{\n",
              "        var display = window.getComputedStyle(gd).display;\n",
              "        if (!display || display === 'none') {{\n",
              "            console.log([gd, 'removed!']);\n",
              "            Plotly.purge(gd);\n",
              "            observer.disconnect();\n",
              "        }}\n",
              "}});\n",
              "\n",
              "// Listen for the removal of the full notebook cells\n",
              "var notebookContainer = gd.closest('#notebook-container');\n",
              "if (notebookContainer) {{\n",
              "    x.observe(notebookContainer, {childList: true});\n",
              "}}\n",
              "\n",
              "// Listen for the clearing of the current output cell\n",
              "var outputEl = gd.closest('.output');\n",
              "if (outputEl) {{\n",
              "    x.observe(outputEl, {childList: true});\n",
              "}}\n",
              "\n",
              "                        })\n",
              "                };\n",
              "                \n",
              "            </script>\n",
              "        </div>\n",
              "</body>\n",
              "</html>"
            ]
          },
          "metadata": {
            "tags": []
          }
        }
      ]
    },
    {
      "cell_type": "markdown",
      "metadata": {
        "id": "97alKqOnNwP5",
        "colab_type": "text"
      },
      "source": [
        "Lưu ý, nhìn vào đồ thị regret, ta nhận ra regret đã giảm thế nào! Thuật toán Epsilon-Greedy có vẻ thực thi tốt hơn Chọn ngẫu nhiên. Nhưng bạn có thể thấy được vấn đề ở đây là quảng cáo trội hơn ở giai đoạn khai phá sẽ không hẳn là quảng cáo tối ưu, và thực tế thì ta có thể khai thác quảng cáo gần tối ưu. Điều này làm tăng regret và giảm reward. Theo **Luật số lớn (Law of large numbers - LLN)** thì ta càng làm nhiều lượt thử nghiệm ban đầu, ta càng có thể chọn được quảng cáo trội hơn chính xác. Nhưng trong Marketing không phải lúc nào ta cũng muốn dựa vào cơ hội và hy vọng chạm được 'số lần thử nghiệm lớn' kia. \n",
        "\n",
        "> - Theo lý thuyết thống kê, **Luật số lớn** là một định lý mô tả kết quả của việc thực thi cùng một thử nghiệm với số lần lớn. Và theo đó, trung bình của các kết quả thu được từ số lượng lớn các thử nghiệm  xu hướng gần với giá trị kỳ vọng, và sẽ càng gần hơn khi ta thực thi nhiều lượt thử nghiệm hơn nữa. \n",
        "\n",
        "- Ưu điểm: Ta có thể kiểm soát tần suất hiển thị quảng cáo trội hơn sau các lượt thử nghiệm ban đầu bằng cách chọn các giá trị $\\epsilon$ khác nhau.\n",
        "\n",
        "- Khuyết điểm: Ta không thể biết được ϵ tối ưu nhất cho bài toán của bạn. Nếu ϵ của bạn quá lớn, nghĩa là bạn chọn số lần thử dành cho mục đích khai thác quá nhiều, nhưng nếu số ϵ của bạn quá nhỏ, bạn sẽ có khả năng đang khai thác không hiệu quả."
      ]
    },
    {
      "cell_type": "markdown",
      "metadata": {
        "id": "GGaZzTmh0uVq",
        "colab_type": "text"
      },
      "source": [
        "##Save result"
      ]
    },
    {
      "cell_type": "code",
      "metadata": {
        "id": "TLf78syIW128",
        "colab_type": "code",
        "outputId": "4aacbb0f-6820-48da-8f9d-ab367bd820f5",
        "colab": {
          "base_uri": "https://localhost:8080/",
          "height": 88
        }
      },
      "source": [
        "epsilon_dict = {'reward':total_reward, \n",
        "                'regret_list':regret_list, \n",
        "                'ads_count':pd.Series(index_list).value_counts(normalize=True)}\n",
        "print(epsilon_dict)"
      ],
      "execution_count": 0,
      "outputs": [
        {
          "output_type": "stream",
          "text": [
            "{'reward': 60, 'regret_list': [0.2, 0.2, 0.4, 0.4, 0.6000000000000001, 0.6000000000000001, 0.8, 1.0, 1.0, 1.0, 1.0, 1.0, 1.0, 1.0, 1.2, 1.2, 1.2, 1.2, 1.2, 1.2, 1.2, 1.2, 1.2, 1.2, 1.2, 1.4, 1.5999999999999999, 1.5999999999999999, 1.5999999999999999, 1.5999999999999999, 1.5999999999999999, 1.7999999999999998, 1.7999999999999998, 1.7999999999999998, 1.7999999999999998, 1.9999999999999998, 1.9999999999999998, 1.9999999999999998, 1.9999999999999998, 1.9999999999999998, 1.9999999999999998, 1.9999999999999998, 1.9999999999999998, 1.9999999999999998, 1.9999999999999998, 1.9999999999999998, 1.9999999999999998, 1.9999999999999998, 2.1999999999999997, 2.4, 2.4, 2.6, 2.6, 2.6, 2.6, 2.6, 2.6, 2.6, 2.6, 2.8000000000000003, 3.0000000000000004, 3.2000000000000006, 3.2000000000000006, 3.400000000000001, 3.600000000000001, 3.800000000000001, 4.000000000000001, 4.000000000000001, 4.000000000000001, 4.000000000000001, 4.000000000000001, 4.000000000000001, 4.000000000000001, 4.000000000000001, 4.000000000000001, 4.200000000000001, 4.200000000000001, 4.200000000000001, 4.200000000000001, 4.200000000000001, 4.200000000000001, 4.200000000000001, 4.200000000000001, 4.200000000000001, 4.200000000000001, 4.400000000000001, 4.600000000000001, 4.600000000000001, 4.600000000000001, 4.600000000000001, 4.600000000000001, 4.600000000000001, 4.600000000000001, 4.600000000000001, 4.800000000000002, 4.800000000000002, 4.800000000000002, 4.800000000000002, 4.800000000000002, 4.800000000000002], 'ads_count': 1    0.76\n",
            "0    0.24\n",
            "dtype: float64}\n"
          ],
          "name": "stdout"
        }
      ]
    },
    {
      "cell_type": "markdown",
      "metadata": {
        "id": "FbAm-s5o01dl",
        "colab_type": "text"
      },
      "source": [
        "# <a id='ts'>Lấy mẫu Thompson</a> \n",
        "\n",
        "\n",
        "Phần khai phá của Lấy mẫu Thompson tinh vi hơn thuật toán $\\epsilon$-Greedy. Ta xài **phân phối Beta (Beta distribution)**\\* ở đây, tuy nhiên Lấy mẫu Thompson có thể được khái quát hóa để lấy mẫu từ bất kỳ phân phối nào trên các tham số.\n",
        "\n",
        "> Trong thống kê và lý thuyết xác suất, **phân phối Beta** là một họ của các phân phối xác suất liên tục xác định trên khoảng [0,1] được tham số hóa bởi hai tham số dương, ký hiệu là $\\alpha$ và $\\beta$, xuất hiện dưới dạng luỹ thừa của biến ngẫu nhiên và kiểm soát hình dạng của phân phối.\n",
        "\n",
        ">Nếu muốn tìm hiểu nhiều hơn về phân phối Beta thì [đây](http://varianceexplained.org/statistics/beta_distribution_and_baseball/) là bài viết cực kỳ hữu ích.\n",
        "\n",
        "Logic như sau:\n",
        "\n",
        "\n",
        "1. Chọn các phân phối tiền nghiệm (prior distribution) cho tham số $\\alpha$ và $\\beta$.\n",
        "2. Tính giá trị $\\alpha$ và $\\beta$: $\\alpha = \\text{trước + số lượt click (prior + hits)}$, $\\beta = \\text{trước + số bỏ lỡ (prior + misses)}$. Trong trường hợp này, số lượt click là hits - number of click, số lần hiển thị không có lượt click là misses - number of impression. Phân phối tiền nghiệm (priors) sẽ hữu dụng nếu ta đã có vài thông tin trước về CTR thực tế của các quảng cáo. Nhưng ở đây ta không có, vì vậy ta sẽ dùng 1.0.\n",
        "3. Ước tính CTR thực tế bằng cách lấy mẫu các giá trị của phân phối Beta cho mỗi biến thể $B(\\alpha_i, \\beta_i)$ và chọn mẫu với giá trị cao nhất (là CTR ước tính được).\n",
        "4. Lặp lại bước 2-3."
      ]
    },
    {
      "cell_type": "markdown",
      "metadata": {
        "id": "jIZZio-t08e1",
        "colab_type": "text"
      },
      "source": [
        "##Set initial values"
      ]
    },
    {
      "cell_type": "code",
      "metadata": {
        "id": "5o6rmf5X06JH",
        "colab_type": "code",
        "colab": {}
      },
      "source": [
        "n = 100\n",
        "regret = 0 \n",
        "total_reward = 0\n",
        "regret_list = [] \n",
        "ctr = {0: [], 1: []}\n",
        "index_list = [] \n",
        "impressions = [0,0] \n",
        "clicks = [0,0]\n",
        "# alpha, beta ban đầu được khởi tạo bằng 1.\n",
        "priors = (1, 1)\n",
        "win_index = np.random.randint(0,2,1)[0] ## randomly choose the first shown Ad\n",
        "\n"
      ],
      "execution_count": 0,
      "outputs": []
    },
    {
      "cell_type": "code",
      "metadata": {
        "id": "M8U4LghS1DgC",
        "colab_type": "code",
        "colab": {}
      },
      "source": [
        "for i in range(n):    \n",
        "    \n",
        "    impressions[win_index] += 1\n",
        "    did_click = bernoulli.rvs(ACTUAL_CTR[win_index])\n",
        "    if did_click:\n",
        "        clicks[win_index] += did_click\n",
        "    # print(\"priors[0]\",priors[0])\n",
        "    # print(\"clicks[0]\",clicks[0])\n",
        "    # print(\"impressions[0]\",impressions[0])\n",
        "    # print()\n",
        "    # print(\"priors[1]\",priors[1])\n",
        "    # print(\"clicks[1]\",clicks[1])\n",
        "    # print(\"impressions[1]\",impressions[1])\n",
        "    # print(priors[0]+clicks[0], priors[1] + impressions[0] - clicks[0])\n",
        "    ctr_0 = random.betavariate(priors[0]+clicks[0], priors[1] + impressions[0] - clicks[0])\n",
        "    # print(\"ctr_0\",ctr_0)\n",
        "    # print()\n",
        "    # print(priors[0]+clicks[1], priors[1] + impressions[1] - clicks[1])\n",
        "    ctr_1 = random.betavariate(priors[0]+clicks[1], priors[1] + impressions[1] - clicks[1])\n",
        "    # print(\"ctr_1\",ctr_1)\n",
        "    win_index = np.argmax([ctr_0, ctr_1])\n",
        "    # print(\"win_index\", win_index)\n",
        "    index_list.append(win_index)\n",
        "    # print(\"index_list\", index_list)\n",
        "    ctr[0].append(ctr_0)\n",
        "    # print(\"ctr_quang_cao_0\",ctr[0])\n",
        "    ctr[1].append(ctr_1)\n",
        "    # print(\"ctr_quang_cao_1\",ctr[1])\n",
        "    regret += max(ACTUAL_CTR) - ACTUAL_CTR[win_index]\n",
        "    regret_list.append(regret)    \n",
        "    total_reward += did_click"
      ],
      "execution_count": 0,
      "outputs": []
    },
    {
      "cell_type": "code",
      "metadata": {
        "id": "mAU3tu3e1J7l",
        "colab_type": "code",
        "outputId": "df1d1e42-c3fd-46f2-d0da-2e321de05644",
        "colab": {
          "base_uri": "https://localhost:8080/",
          "height": 542
        }
      },
      "source": [
        "## plot the Beta distributions\n",
        "## vẽ đồ thị phân phối Beta\n",
        "x = np.arange (0, 1, 0.01)\n",
        "y = beta.pdf(x, priors[0]+clicks[0], priors[1] + impressions[0] - clicks[0])\n",
        "y /= y.max() ## normalize\n",
        "             ## hiệu chỉnh\n",
        "\n",
        "data1 = go.Scatter(x=x,\n",
        "                   y=y,\n",
        "                   name='Beta Distribution (Ad #0)',\n",
        "                   marker = dict(color=('rgba(10, 108, 94, 1)')),\n",
        "                   fill='tozeroy',\n",
        "                   fillcolor = 'rgba(10, 108, 94, .7)')\n",
        "\n",
        "data2 = go.Scatter(x = [ACTUAL_CTR[0]] * 2,\n",
        "                   y = [0, 1],\n",
        "                   name = 'Actual CTR #0 Value',\n",
        "                   mode='lines',\n",
        "                   line = dict(\n",
        "                       color = ('rgb(205, 12, 24)'),\n",
        "                       width = 2,\n",
        "                       dash = 'dash'))\n",
        "\n",
        "y = beta.pdf(x, priors[0]+clicks[1], priors[1] + impressions[1] - clicks[1])\n",
        "y /= y.max()\n",
        "\n",
        "data3 = go.Scatter(x=x,\n",
        "                   y=y,\n",
        "                   name='Beta Distribution (Ad #1)',\n",
        "                   marker = dict(color=('rgba(187, 121, 24, 1)')),\n",
        "                   fill='tozeroy',\n",
        "                   fillcolor = 'rgba(187, 121, 24, .7)')\n",
        "\n",
        "data4 = go.Scatter(x = [ACTUAL_CTR[1]] * 2,\n",
        "                   y = [0, 1],\n",
        "                   name = 'Actual CTR #1 Value',\n",
        "                   mode='lines',\n",
        "                   line = dict(\n",
        "                       color = ('rgb(205, 12, 24)'),\n",
        "                       width = 2,\n",
        "                       dash = 'dash'))\n",
        "\n",
        "layout = go.Layout(title='Beta Distributions for both Ads',\n",
        "                   xaxis={'title': 'Possible CTR values'},\n",
        "                   yaxis={'title': 'Probability Density'})\n",
        "\n",
        "fig = go.Figure(data=[data1, data2, data3, data4], layout=layout)\n",
        "\n",
        "# fig = subplots.make_subplots(rows=1, cols=2, print_grid=False, shared_xaxes=False,\n",
        "#                           subplot_titles=('Beta Distribution (Ad #0)','Beta Distribution (Ad #1)'))\n",
        "\n",
        "# fig.append_trace(data1, 1, 1)\n",
        "# fig.append_trace(data2, 1, 1)\n",
        "# fig.append_trace(data3, 1, 2)\n",
        "# fig.append_trace(data4, 1, 2)\n",
        "\n",
        "# fig['layout'].update(showlegend=False)\n",
        "\n",
        "iplot(fig, show_link=False)"
      ],
      "execution_count": 0,
      "outputs": [
        {
          "output_type": "display_data",
          "data": {
            "text/html": [
              "<html>\n",
              "<head><meta charset=\"utf-8\" /></head>\n",
              "<body>\n",
              "    <div>\n",
              "            <script src=\"https://cdnjs.cloudflare.com/ajax/libs/mathjax/2.7.5/MathJax.js?config=TeX-AMS-MML_SVG\"></script><script type=\"text/javascript\">if (window.MathJax) {MathJax.Hub.Config({SVG: {font: \"STIX-Web\"}});}</script>\n",
              "                <script type=\"text/javascript\">window.PlotlyConfig = {MathJaxConfig: 'local'};</script>\n",
              "        <script src=\"https://cdn.plot.ly/plotly-latest.min.js\"></script>    \n",
              "            <div id=\"28322746-671b-4448-bcc9-679655b0c9d5\" class=\"plotly-graph-div\" style=\"height:525px; width:100%;\"></div>\n",
              "            <script type=\"text/javascript\">\n",
              "                \n",
              "                    window.PLOTLYENV=window.PLOTLYENV || {};\n",
              "                    \n",
              "                if (document.getElementById(\"28322746-671b-4448-bcc9-679655b0c9d5\")) {\n",
              "                    Plotly.newPlot(\n",
              "                        '28322746-671b-4448-bcc9-679655b0c9d5',\n",
              "                        [{\"fill\": \"tozeroy\", \"fillcolor\": \"rgba(10, 108, 94, .7)\", \"marker\": {\"color\": \"rgba(10, 108, 94, 1)\"}, \"name\": \"Beta Distribution (Ad #0)\", \"type\": \"scatter\", \"x\": [0.0, 0.01, 0.02, 0.03, 0.04, 0.05, 0.06, 0.07, 0.08, 0.09, 0.1, 0.11, 0.12, 0.13, 0.14, 0.15, 0.16, 0.17, 0.18, 0.19, 0.2, 0.21, 0.22, 0.23, 0.24, 0.25, 0.26, 0.27, 0.28, 0.29, 0.3, 0.31, 0.32, 0.33, 0.34, 0.35000000000000003, 0.36, 0.37, 0.38, 0.39, 0.4, 0.41000000000000003, 0.42, 0.43, 0.44, 0.45, 0.46, 0.47000000000000003, 0.48, 0.49, 0.5, 0.51, 0.52, 0.53, 0.54, 0.55, 0.56, 0.5700000000000001, 0.58, 0.59, 0.6, 0.61, 0.62, 0.63, 0.64, 0.65, 0.66, 0.67, 0.68, 0.6900000000000001, 0.7000000000000001, 0.71, 0.72, 0.73, 0.74, 0.75, 0.76, 0.77, 0.78, 0.79, 0.8, 0.81, 0.8200000000000001, 0.8300000000000001, 0.84, 0.85, 0.86, 0.87, 0.88, 0.89, 0.9, 0.91, 0.92, 0.93, 0.9400000000000001, 0.9500000000000001, 0.96, 0.97, 0.98, 0.99], \"y\": [0.0, 7.88249492797851e-06, 0.00011866672840363524, 0.0005648952941413024, 0.0016777216000000014, 0.003846574794444859, 0.007485566200694447, 0.013005959094732667, 0.020794067261454035, 0.03119398967510376, 0.044494628906250076, 0.060920479488168755, 0.0806257095111111, 0.10369109418384409, 0.13012339403848588, 0.15985680288738682, 0.19275612159999983, 0.22862134328375708, 0.26719336355624995, 0.30816055631694966, 0.35116598079561034, 0.39581500970182365, 0.4416831910562499, 0.48832417777930026, 0.5352775793777775, 0.5820766091346741, 0.6282554181022721, 0.6733560239543519, 0.7169347584000003, 0.7585681714296594, 0.7978583441840278, 0.8344375747385805, 0.8679724126112481, 0.8981670283585129, 0.9247659142562503, 0.9475559207964666, 0.9663676416000002, 0.9810761663786682, 0.99160122780865, 0.9979067736304525, 1.0, 0.9979298861106235, 0.9917852734173611, 0.9816925354533751, 0.9678128862639226, 0.9503393769264223, 0.9294936305062503, 0.9055223661473059, 0.8786937628444448, 0.8492937128220757, 0.8176220133798446, 0.783988544592774, 0.7487094784000004, 0.7121035624134565, 0.6744885192562501, 0.6361775994300839, 0.5974763226425235, 0.5586794392284672, 0.5200681398062499, 0.48190753764779015, 0.44444444444444464, 0.407905456246149, 0.372495362371408, 0.3383958860600644, 0.3057647616, 0.27473514863329485, 0.24541538036736124, 0.2178890385124574, 0.19221534396927287, 0.16842984862923224, 0.14654541015624978, 0.12655342832222657, 0.10842531840000012, 0.09211419430713506, 0.07755673167223084, 0.06467517879274165, 0.053379481599999945, 0.043569487273612734, 0.03513719008402773, 0.027968982419244344, 0.021947873799725636, 0.016955641034967033, 0.012874873556249987, 0.00959087940325238, 0.006993419377777779, 0.004978239536285406, 0.0034483755045353255, 0.002315206092888048, 0.0014992384000000003, 0.000930612046214922, 0.0005493164062499992, 0.0003051217441955561, 0.00015723302277091846, 7.368389358791728e-05, 3.049800624999985e-05, 1.0655331840567395e-05, 2.9127111111111284e-06, 5.403398498535166e-07, 4.94238768861456e-08, 8.042541503906318e-10]}, {\"line\": {\"color\": \"rgb(205, 12, 24)\", \"dash\": \"dash\", \"width\": 2}, \"mode\": \"lines\", \"name\": \"Actual CTR #0 Value\", \"type\": \"scatter\", \"x\": [0.45, 0.45], \"y\": [0, 1]}, {\"fill\": \"tozeroy\", \"fillcolor\": \"rgba(187, 121, 24, .7)\", \"marker\": {\"color\": \"rgba(187, 121, 24, 1)\"}, \"name\": \"Beta Distribution (Ad #1)\", \"type\": \"scatter\", \"x\": [0.0, 0.01, 0.02, 0.03, 0.04, 0.05, 0.06, 0.07, 0.08, 0.09, 0.1, 0.11, 0.12, 0.13, 0.14, 0.15, 0.16, 0.17, 0.18, 0.19, 0.2, 0.21, 0.22, 0.23, 0.24, 0.25, 0.26, 0.27, 0.28, 0.29, 0.3, 0.31, 0.32, 0.33, 0.34, 0.35000000000000003, 0.36, 0.37, 0.38, 0.39, 0.4, 0.41000000000000003, 0.42, 0.43, 0.44, 0.45, 0.46, 0.47000000000000003, 0.48, 0.49, 0.5, 0.51, 0.52, 0.53, 0.54, 0.55, 0.56, 0.5700000000000001, 0.58, 0.59, 0.6, 0.61, 0.62, 0.63, 0.64, 0.65, 0.66, 0.67, 0.68, 0.6900000000000001, 0.7000000000000001, 0.71, 0.72, 0.73, 0.74, 0.75, 0.76, 0.77, 0.78, 0.79, 0.8, 0.81, 0.8200000000000001, 0.8300000000000001, 0.84, 0.85, 0.86, 0.87, 0.88, 0.89, 0.9, 0.91, 0.92, 0.93, 0.9400000000000001, 0.9500000000000001, 0.96, 0.97, 0.98, 0.99], \"y\": [0.0, 3.6576787784534034e-110, 2.115272983995817e-90, 6.926045274219358e-79, 9.51546273590423e-71, 1.842246352569377e-64, 2.4044287041386212e-59, 4.8755352246913536e-55, 2.5281794098299933e-51, 4.6233836297070135e-48, 3.713480252552654e-45, 1.5319277109115577e-42, 3.6434034311171964e-40, 5.453611632437606e-38, 5.500144213764839e-36, 3.944920059785475e-34, 2.1017575346686273e-32, 8.619139707201897e-31, 2.802068102047102e-29, 7.401828328109533e-28, 1.6221846735753489e-26, 3.0025105055732834e-25, 4.7657174583618976e-24, 6.573179218549637e-23, 7.969463023444178e-22, 8.579693747943469e-21, 8.274907196709524e-20, 7.206393447606376e-19, 5.706513843599971e-18, 4.134558325471407e-17, 2.756237670441718e-16, 1.6990684008691838e-15, 9.729115659313822e-15, 5.196084307765989e-14, 2.5979086145602485e-13, 1.2200352500696167e-12, 5.3981546018537116e-12, 2.2565651024702656e-11, 8.934676178675372e-11, 3.3584663111699643e-10, 1.201020247590753e-09, 4.093961131876154e-09, 1.3325573344619857e-08, 4.1483510082060875e-08, 1.2369444276614864e-07, 3.5374584647288343e-07, 9.714669249265552e-07, 2.564722527046976e-06, 6.515725898508415e-06, 1.5943600382060853e-05, 3.760635855485376e-05, 8.55654493455786e-05, 0.0001879192494263741, 0.00039858126056816303, 0.0008168400080042894, 0.0016180753039235364, 0.0030990951495523398, 0.005740428349010151, 0.010284695474339092, 0.017824043027551886, 0.029880180004024173, 0.04844852633318611, 0.07596590532572638, 0.11515386888854323, 0.1686938280913931, 0.2387126835654161, 0.3261028895265676, 0.4297663694122203, 0.5459446450433812, 0.6678540022526803, 0.7858535989745297, 0.8883085807626926, 0.9631599353680549, 1.0, 0.9922354650450421, 0.9387814169579317, 0.8447491896642922, 0.7208033859176781, 0.5812313214218823, 0.4411761140303536, 0.3137761497709412, 0.20799771362636243, 0.12770716736294063, 0.07209233666166794, 0.03709141111575823, 0.017210766269503658, 0.007111013949525553, 0.0025755620685989173, 0.0008019866874507842, 0.0002094719012695776, 4.445969870383033e-05, 7.3538202805025706e-06, 8.956063927052799e-07, 7.41631994228889e-08, 3.7156024367322594e-09, 9.39721028550519e-11, 8.857314481800047e-13, 1.7611869836730518e-15, 2.0587413330428785e-19, 2.3981908169914035e-26]}, {\"line\": {\"color\": \"rgb(205, 12, 24)\", \"dash\": \"dash\", \"width\": 2}, \"mode\": \"lines\", \"name\": \"Actual CTR #1 Value\", \"type\": \"scatter\", \"x\": [0.65, 0.65], \"y\": [0, 1]}],\n",
              "                        {\"template\": {\"data\": {\"bar\": [{\"error_x\": {\"color\": \"#2a3f5f\"}, \"error_y\": {\"color\": \"#2a3f5f\"}, \"marker\": {\"line\": {\"color\": \"#E5ECF6\", \"width\": 0.5}}, \"type\": \"bar\"}], \"barpolar\": [{\"marker\": {\"line\": {\"color\": \"#E5ECF6\", \"width\": 0.5}}, \"type\": \"barpolar\"}], \"carpet\": [{\"aaxis\": {\"endlinecolor\": \"#2a3f5f\", \"gridcolor\": \"white\", \"linecolor\": \"white\", \"minorgridcolor\": \"white\", \"startlinecolor\": \"#2a3f5f\"}, \"baxis\": {\"endlinecolor\": \"#2a3f5f\", \"gridcolor\": \"white\", \"linecolor\": \"white\", \"minorgridcolor\": \"white\", \"startlinecolor\": \"#2a3f5f\"}, \"type\": \"carpet\"}], \"choropleth\": [{\"colorbar\": {\"outlinewidth\": 0, \"ticks\": \"\"}, \"type\": \"choropleth\"}], \"contour\": [{\"colorbar\": {\"outlinewidth\": 0, \"ticks\": \"\"}, \"colorscale\": [[0.0, \"#0d0887\"], [0.1111111111111111, \"#46039f\"], [0.2222222222222222, \"#7201a8\"], [0.3333333333333333, \"#9c179e\"], [0.4444444444444444, \"#bd3786\"], [0.5555555555555556, \"#d8576b\"], [0.6666666666666666, \"#ed7953\"], [0.7777777777777778, \"#fb9f3a\"], [0.8888888888888888, \"#fdca26\"], [1.0, \"#f0f921\"]], \"type\": \"contour\"}], \"contourcarpet\": [{\"colorbar\": {\"outlinewidth\": 0, \"ticks\": \"\"}, \"type\": \"contourcarpet\"}], \"heatmap\": [{\"colorbar\": {\"outlinewidth\": 0, \"ticks\": \"\"}, \"colorscale\": [[0.0, \"#0d0887\"], [0.1111111111111111, \"#46039f\"], [0.2222222222222222, \"#7201a8\"], [0.3333333333333333, \"#9c179e\"], [0.4444444444444444, \"#bd3786\"], [0.5555555555555556, \"#d8576b\"], [0.6666666666666666, \"#ed7953\"], [0.7777777777777778, \"#fb9f3a\"], [0.8888888888888888, \"#fdca26\"], [1.0, \"#f0f921\"]], \"type\": \"heatmap\"}], \"heatmapgl\": [{\"colorbar\": {\"outlinewidth\": 0, \"ticks\": \"\"}, \"colorscale\": [[0.0, \"#0d0887\"], [0.1111111111111111, \"#46039f\"], [0.2222222222222222, \"#7201a8\"], [0.3333333333333333, \"#9c179e\"], [0.4444444444444444, \"#bd3786\"], [0.5555555555555556, \"#d8576b\"], [0.6666666666666666, \"#ed7953\"], [0.7777777777777778, \"#fb9f3a\"], [0.8888888888888888, \"#fdca26\"], [1.0, \"#f0f921\"]], \"type\": \"heatmapgl\"}], \"histogram\": [{\"marker\": {\"colorbar\": {\"outlinewidth\": 0, \"ticks\": \"\"}}, \"type\": \"histogram\"}], \"histogram2d\": [{\"colorbar\": {\"outlinewidth\": 0, \"ticks\": \"\"}, \"colorscale\": [[0.0, \"#0d0887\"], [0.1111111111111111, \"#46039f\"], [0.2222222222222222, \"#7201a8\"], [0.3333333333333333, \"#9c179e\"], [0.4444444444444444, \"#bd3786\"], [0.5555555555555556, \"#d8576b\"], [0.6666666666666666, \"#ed7953\"], [0.7777777777777778, \"#fb9f3a\"], [0.8888888888888888, \"#fdca26\"], [1.0, \"#f0f921\"]], \"type\": \"histogram2d\"}], \"histogram2dcontour\": [{\"colorbar\": {\"outlinewidth\": 0, \"ticks\": \"\"}, \"colorscale\": [[0.0, \"#0d0887\"], [0.1111111111111111, \"#46039f\"], [0.2222222222222222, \"#7201a8\"], [0.3333333333333333, \"#9c179e\"], [0.4444444444444444, \"#bd3786\"], [0.5555555555555556, \"#d8576b\"], [0.6666666666666666, \"#ed7953\"], [0.7777777777777778, \"#fb9f3a\"], [0.8888888888888888, \"#fdca26\"], [1.0, \"#f0f921\"]], \"type\": \"histogram2dcontour\"}], \"mesh3d\": [{\"colorbar\": {\"outlinewidth\": 0, \"ticks\": \"\"}, \"type\": \"mesh3d\"}], \"parcoords\": [{\"line\": {\"colorbar\": {\"outlinewidth\": 0, \"ticks\": \"\"}}, \"type\": \"parcoords\"}], \"pie\": [{\"automargin\": true, \"type\": \"pie\"}], \"scatter\": [{\"marker\": {\"colorbar\": {\"outlinewidth\": 0, \"ticks\": \"\"}}, \"type\": \"scatter\"}], \"scatter3d\": [{\"line\": {\"colorbar\": {\"outlinewidth\": 0, \"ticks\": \"\"}}, \"marker\": {\"colorbar\": {\"outlinewidth\": 0, \"ticks\": \"\"}}, \"type\": \"scatter3d\"}], \"scattercarpet\": [{\"marker\": {\"colorbar\": {\"outlinewidth\": 0, \"ticks\": \"\"}}, \"type\": \"scattercarpet\"}], \"scattergeo\": [{\"marker\": {\"colorbar\": {\"outlinewidth\": 0, \"ticks\": \"\"}}, \"type\": \"scattergeo\"}], \"scattergl\": [{\"marker\": {\"colorbar\": {\"outlinewidth\": 0, \"ticks\": \"\"}}, \"type\": \"scattergl\"}], \"scattermapbox\": [{\"marker\": {\"colorbar\": {\"outlinewidth\": 0, \"ticks\": \"\"}}, \"type\": \"scattermapbox\"}], \"scatterpolar\": [{\"marker\": {\"colorbar\": {\"outlinewidth\": 0, \"ticks\": \"\"}}, \"type\": \"scatterpolar\"}], \"scatterpolargl\": [{\"marker\": {\"colorbar\": {\"outlinewidth\": 0, \"ticks\": \"\"}}, \"type\": \"scatterpolargl\"}], \"scatterternary\": [{\"marker\": {\"colorbar\": {\"outlinewidth\": 0, \"ticks\": \"\"}}, \"type\": \"scatterternary\"}], \"surface\": [{\"colorbar\": {\"outlinewidth\": 0, \"ticks\": \"\"}, \"colorscale\": [[0.0, \"#0d0887\"], [0.1111111111111111, \"#46039f\"], [0.2222222222222222, \"#7201a8\"], [0.3333333333333333, \"#9c179e\"], [0.4444444444444444, \"#bd3786\"], [0.5555555555555556, \"#d8576b\"], [0.6666666666666666, \"#ed7953\"], [0.7777777777777778, \"#fb9f3a\"], [0.8888888888888888, \"#fdca26\"], [1.0, \"#f0f921\"]], \"type\": \"surface\"}], \"table\": [{\"cells\": {\"fill\": {\"color\": \"#EBF0F8\"}, \"line\": {\"color\": \"white\"}}, \"header\": {\"fill\": {\"color\": \"#C8D4E3\"}, \"line\": {\"color\": \"white\"}}, \"type\": \"table\"}]}, \"layout\": {\"annotationdefaults\": {\"arrowcolor\": \"#2a3f5f\", \"arrowhead\": 0, \"arrowwidth\": 1}, \"coloraxis\": {\"colorbar\": {\"outlinewidth\": 0, \"ticks\": \"\"}}, \"colorscale\": {\"diverging\": [[0, \"#8e0152\"], [0.1, \"#c51b7d\"], [0.2, \"#de77ae\"], [0.3, \"#f1b6da\"], [0.4, \"#fde0ef\"], [0.5, \"#f7f7f7\"], [0.6, \"#e6f5d0\"], [0.7, \"#b8e186\"], [0.8, \"#7fbc41\"], [0.9, \"#4d9221\"], [1, \"#276419\"]], \"sequential\": [[0.0, \"#0d0887\"], [0.1111111111111111, \"#46039f\"], [0.2222222222222222, \"#7201a8\"], [0.3333333333333333, \"#9c179e\"], [0.4444444444444444, \"#bd3786\"], [0.5555555555555556, \"#d8576b\"], [0.6666666666666666, \"#ed7953\"], [0.7777777777777778, \"#fb9f3a\"], [0.8888888888888888, \"#fdca26\"], [1.0, \"#f0f921\"]], \"sequentialminus\": [[0.0, \"#0d0887\"], [0.1111111111111111, \"#46039f\"], [0.2222222222222222, \"#7201a8\"], [0.3333333333333333, \"#9c179e\"], [0.4444444444444444, \"#bd3786\"], [0.5555555555555556, \"#d8576b\"], [0.6666666666666666, \"#ed7953\"], [0.7777777777777778, \"#fb9f3a\"], [0.8888888888888888, \"#fdca26\"], [1.0, \"#f0f921\"]]}, \"colorway\": [\"#636efa\", \"#EF553B\", \"#00cc96\", \"#ab63fa\", \"#FFA15A\", \"#19d3f3\", \"#FF6692\", \"#B6E880\", \"#FF97FF\", \"#FECB52\"], \"font\": {\"color\": \"#2a3f5f\"}, \"geo\": {\"bgcolor\": \"white\", \"lakecolor\": \"white\", \"landcolor\": \"#E5ECF6\", \"showlakes\": true, \"showland\": true, \"subunitcolor\": \"white\"}, \"hoverlabel\": {\"align\": \"left\"}, \"hovermode\": \"closest\", \"mapbox\": {\"style\": \"light\"}, \"paper_bgcolor\": \"white\", \"plot_bgcolor\": \"#E5ECF6\", \"polar\": {\"angularaxis\": {\"gridcolor\": \"white\", \"linecolor\": \"white\", \"ticks\": \"\"}, \"bgcolor\": \"#E5ECF6\", \"radialaxis\": {\"gridcolor\": \"white\", \"linecolor\": \"white\", \"ticks\": \"\"}}, \"scene\": {\"xaxis\": {\"backgroundcolor\": \"#E5ECF6\", \"gridcolor\": \"white\", \"gridwidth\": 2, \"linecolor\": \"white\", \"showbackground\": true, \"ticks\": \"\", \"zerolinecolor\": \"white\"}, \"yaxis\": {\"backgroundcolor\": \"#E5ECF6\", \"gridcolor\": \"white\", \"gridwidth\": 2, \"linecolor\": \"white\", \"showbackground\": true, \"ticks\": \"\", \"zerolinecolor\": \"white\"}, \"zaxis\": {\"backgroundcolor\": \"#E5ECF6\", \"gridcolor\": \"white\", \"gridwidth\": 2, \"linecolor\": \"white\", \"showbackground\": true, \"ticks\": \"\", \"zerolinecolor\": \"white\"}}, \"shapedefaults\": {\"line\": {\"color\": \"#2a3f5f\"}}, \"ternary\": {\"aaxis\": {\"gridcolor\": \"white\", \"linecolor\": \"white\", \"ticks\": \"\"}, \"baxis\": {\"gridcolor\": \"white\", \"linecolor\": \"white\", \"ticks\": \"\"}, \"bgcolor\": \"#E5ECF6\", \"caxis\": {\"gridcolor\": \"white\", \"linecolor\": \"white\", \"ticks\": \"\"}}, \"title\": {\"x\": 0.05}, \"xaxis\": {\"automargin\": true, \"gridcolor\": \"white\", \"linecolor\": \"white\", \"ticks\": \"\", \"title\": {\"standoff\": 15}, \"zerolinecolor\": \"white\", \"zerolinewidth\": 2}, \"yaxis\": {\"automargin\": true, \"gridcolor\": \"white\", \"linecolor\": \"white\", \"ticks\": \"\", \"title\": {\"standoff\": 15}, \"zerolinecolor\": \"white\", \"zerolinewidth\": 2}}}, \"title\": {\"text\": \"Beta Distributions for both Ads\"}, \"xaxis\": {\"title\": {\"text\": \"Possible CTR values\"}}, \"yaxis\": {\"title\": {\"text\": \"Probability Density\"}}},\n",
              "                        {\"responsive\": true}\n",
              "                    ).then(function(){\n",
              "                            \n",
              "var gd = document.getElementById('28322746-671b-4448-bcc9-679655b0c9d5');\n",
              "var x = new MutationObserver(function (mutations, observer) {{\n",
              "        var display = window.getComputedStyle(gd).display;\n",
              "        if (!display || display === 'none') {{\n",
              "            console.log([gd, 'removed!']);\n",
              "            Plotly.purge(gd);\n",
              "            observer.disconnect();\n",
              "        }}\n",
              "}});\n",
              "\n",
              "// Listen for the removal of the full notebook cells\n",
              "var notebookContainer = gd.closest('#notebook-container');\n",
              "if (notebookContainer) {{\n",
              "    x.observe(notebookContainer, {childList: true});\n",
              "}}\n",
              "\n",
              "// Listen for the clearing of the current output cell\n",
              "var outputEl = gd.closest('.output');\n",
              "if (outputEl) {{\n",
              "    x.observe(outputEl, {childList: true});\n",
              "}}\n",
              "\n",
              "                        })\n",
              "                };\n",
              "                \n",
              "            </script>\n",
              "        </div>\n",
              "</body>\n",
              "</html>"
            ]
          },
          "metadata": {
            "tags": []
          }
        }
      ]
    },
    {
      "cell_type": "code",
      "metadata": {
        "id": "5XJckaDi1kyG",
        "colab_type": "code",
        "outputId": "004e5625-6dfc-43f8-c2a9-fff15008ee5c",
        "colab": {
          "base_uri": "https://localhost:8080/",
          "height": 630
        }
      },
      "source": [
        "algorithm_performance()"
      ],
      "execution_count": 0,
      "outputs": [
        {
          "output_type": "stream",
          "text": [
            "index_list [1, 0, 0, 1, 1, 1, 1, 1, 1, 1, 1, 1, 1, 1, 1, 1, 1, 1, 1, 1, 1, 1, 1, 1, 1, 1, 1, 0, 1, 1, 1, 1, 1, 0, 0, 1, 1, 1, 1, 0, 1, 1, 1, 1, 0, 1, 1, 0, 1, 1, 1, 1, 1, 1, 1, 1, 1, 1, 1, 1, 1, 1, 1, 0, 1, 1, 1, 1, 1, 1, 1, 1, 1, 1, 1, 1, 1, 1, 1, 1, 1, 1, 1, 1, 1, 1, 1, 1, 1, 1, 1, 1, 1, 1, 1, 1, 1, 1, 1, 1]\n",
            "Ad #0 has been shown 9.0 % of the time.\n",
            "Ad #1 has been shown 91.0 % of the time.\n",
            "Total Reward (Number of Clicks): 70\n"
          ],
          "name": "stdout"
        },
        {
          "output_type": "display_data",
          "data": {
            "text/html": [
              "<html>\n",
              "<head><meta charset=\"utf-8\" /></head>\n",
              "<body>\n",
              "    <div>\n",
              "            <script src=\"https://cdnjs.cloudflare.com/ajax/libs/mathjax/2.7.5/MathJax.js?config=TeX-AMS-MML_SVG\"></script><script type=\"text/javascript\">if (window.MathJax) {MathJax.Hub.Config({SVG: {font: \"STIX-Web\"}});}</script>\n",
              "                <script type=\"text/javascript\">window.PlotlyConfig = {MathJaxConfig: 'local'};</script>\n",
              "        <script src=\"https://cdn.plot.ly/plotly-latest.min.js\"></script>    \n",
              "            <div id=\"018ad644-8ce5-444d-9450-5ac9b2e32313\" class=\"plotly-graph-div\" style=\"height:525px; width:100%;\"></div>\n",
              "            <script type=\"text/javascript\">\n",
              "                \n",
              "                    window.PLOTLYENV=window.PLOTLYENV || {};\n",
              "                    \n",
              "                if (document.getElementById(\"018ad644-8ce5-444d-9450-5ac9b2e32313\")) {\n",
              "                    Plotly.newPlot(\n",
              "                        '018ad644-8ce5-444d-9450-5ac9b2e32313',\n",
              "                        [{\"line\": {\"color\": \"rgba(10, 108, 94, .7)\", \"width\": 2}, \"name\": \"Calculated CTR #0\", \"type\": \"scatter\", \"x\": [0, 1, 2, 3, 4, 5, 6, 7, 8, 9, 10, 11, 12, 13, 14, 15, 16, 17, 18, 19, 20, 21, 22, 23, 24, 25, 26, 27, 28, 29, 30, 31, 32, 33, 34, 35, 36, 37, 38, 39, 40, 41, 42, 43, 44, 45, 46, 47, 48, 49, 50, 51, 52, 53, 54, 55, 56, 57, 58, 59, 60, 61, 62, 63, 64, 65, 66, 67, 68, 69, 70, 71, 72, 73, 74, 75, 76, 77, 78, 79, 80, 81, 82, 83, 84, 85, 86, 87, 88, 89, 90, 91, 92, 93, 94, 95, 96, 97, 98, 99], \"xaxis\": \"x\", \"y\": [0.3093184670335373, 0.4279811978175034, 0.6131873077742367, 0.4423149587282251, 0.18509789035606247, 0.045583726325153416, 0.11981500803251251, 0.00436752371264084, 0.11486637872980467, 0.1105462462200317, 0.11424790378034753, 0.15724785528782276, 0.3114587623926576, 0.0322003538400759, 0.25173727242749777, 0.630390852395404, 0.18168108868855093, 0.4136732353638326, 0.030351430680635536, 0.43349170084214794, 0.1499995010154212, 0.2699747867096957, 0.168784982063525, 0.5382443234077521, 0.019688318792291677, 0.12597647321296546, 0.09499479558308314, 0.7054405274399348, 0.45812235118241534, 0.10863945320448588, 0.11189640824779819, 0.43609348146447363, 0.6931765332057698, 0.610212377710475, 0.6997673373636847, 0.3247499903035641, 0.5222772644280097, 0.3765931856392792, 0.4653234691963676, 0.6622919653822581, 0.6540956153300252, 0.24725389857787772, 0.26541047049176725, 0.21161731235885967, 0.7477221589222965, 0.4944258203827916, 0.10553730771842636, 0.647136268018164, 0.3776317355616469, 0.3393502064751371, 0.2854090189812342, 0.2626535687167469, 0.28563157524985067, 0.5366725801601637, 0.36861111104020255, 0.5069357893953226, 0.2445972071061285, 0.29101088545269427, 0.4859452094599488, 0.4342762329571209, 0.7305097773651388, 0.41141566704235166, 0.30039046906076367, 0.6256325598818704, 0.3913132388671906, 0.34167737758346867, 0.45095973443446624, 0.459697175253149, 0.4453498812725909, 0.4570873518541337, 0.14293838338459264, 0.3118291303331485, 0.363314967252126, 0.14500612064180085, 0.24469474206437264, 0.5210012264574394, 0.483549985410896, 0.303495574271822, 0.5964980124985438, 0.30007364707053963, 0.4159161280966418, 0.2757610067177243, 0.5541393077855089, 0.560787494916297, 0.28273772314256695, 0.26751813558764026, 0.4618248362158755, 0.19003300847846702, 0.5473764643407434, 0.4605736332980407, 0.631385850952453, 0.5201682530243324, 0.44912612902830834, 0.4428507394856443, 0.3967408651251412, 0.3608858659339315, 0.4609233299400198, 0.18280456340125975, 0.5817039626509213, 0.22683130526304518], \"yaxis\": \"y\"}, {\"line\": {\"color\": \"rgb(205, 12, 24)\", \"dash\": \"dash\", \"width\": 1}, \"name\": \"Actual CTR #0 value\", \"type\": \"scatter\", \"x\": [0, 100], \"xaxis\": \"x\", \"y\": [0.45, 0.45], \"yaxis\": \"y\"}, {\"line\": {\"color\": \"rgba(187, 121, 24, .7)\", \"width\": 2}, \"name\": \"Calculated CTR #1\", \"type\": \"scatter\", \"x\": [0, 1, 2, 3, 4, 5, 6, 7, 8, 9, 10, 11, 12, 13, 14, 15, 16, 17, 18, 19, 20, 21, 22, 23, 24, 25, 26, 27, 28, 29, 30, 31, 32, 33, 34, 35, 36, 37, 38, 39, 40, 41, 42, 43, 44, 45, 46, 47, 48, 49, 50, 51, 52, 53, 54, 55, 56, 57, 58, 59, 60, 61, 62, 63, 64, 65, 66, 67, 68, 69, 70, 71, 72, 73, 74, 75, 76, 77, 78, 79, 80, 81, 82, 83, 84, 85, 86, 87, 88, 89, 90, 91, 92, 93, 94, 95, 96, 97, 98, 99], \"xaxis\": \"x\", \"y\": [0.35523133093758485, 0.3948099072896756, 0.28555098589363626, 0.7321351276537393, 0.9360769905037531, 0.7224358151264137, 0.5963035626375514, 0.8846267757017909, 0.6778472319070022, 0.8492539950694435, 0.8285022203856939, 0.6600087504866329, 0.6621758769897458, 0.6671451576103395, 0.5835120879969841, 0.7080010302693692, 0.7432540328780844, 0.7203440645610429, 0.8482832132540433, 0.7082037632956519, 0.4686851421608359, 0.5635286368055896, 0.47992182588768856, 0.7466578931902923, 0.5419177865928217, 0.7126251096155052, 0.5567965556500861, 0.4345037779155601, 0.6042080193170523, 0.6597260048609136, 0.6652277391490914, 0.6583704014679613, 0.7202153062449034, 0.607263523661829, 0.5876151412444052, 0.730186093051369, 0.611587766135202, 0.6375102971757657, 0.5475009898117028, 0.6571764008920521, 0.7096686232173979, 0.6163173713737115, 0.6410367226071163, 0.7554227849707404, 0.5928036792170212, 0.5615506673034439, 0.6074666540312115, 0.6418104718745464, 0.8070891488552435, 0.7252206797918508, 0.7621809591924994, 0.6145530192553667, 0.7281811571148741, 0.7224883249431262, 0.7036524292022656, 0.5666461878444319, 0.7526617880936969, 0.6713451370138581, 0.6135832635819662, 0.5618426584248744, 0.7484112131480065, 0.6638345155627222, 0.7679509037987309, 0.6043228945029451, 0.7089867944566423, 0.6348832729176178, 0.7499351256706258, 0.7391132915794559, 0.6959920114239372, 0.7409567090130268, 0.8506298822569317, 0.6993925416538582, 0.6577674913631759, 0.7120837899147484, 0.7408425734161548, 0.740854819696114, 0.692753308058424, 0.772355106211141, 0.7104736434614735, 0.7551237156535893, 0.6593432220788472, 0.7096711921680979, 0.6803120168108814, 0.8008689806779797, 0.7811783295367729, 0.7998131836920046, 0.7070060712979409, 0.7474596810230771, 0.7257228651101633, 0.7752003996242869, 0.6521014929670274, 0.6672381201608303, 0.6785570454087684, 0.7607452383505223, 0.8484518090851608, 0.7722919412887627, 0.7603615960953892, 0.7037896023315197, 0.7545450688801982, 0.765494054020665], \"yaxis\": \"y\"}, {\"line\": {\"color\": \"rgb(205, 12, 24)\", \"dash\": \"dash\", \"width\": 1}, \"name\": \"Actual CTR #1 value\", \"type\": \"scatter\", \"x\": [0, 100], \"xaxis\": \"x\", \"y\": [0.65, 0.65], \"yaxis\": \"y\"}, {\"name\": \"Regret\", \"type\": \"scatter\", \"x\": [0, 1, 2, 3, 4, 5, 6, 7, 8, 9, 10, 11, 12, 13, 14, 15, 16, 17, 18, 19, 20, 21, 22, 23, 24, 25, 26, 27, 28, 29, 30, 31, 32, 33, 34, 35, 36, 37, 38, 39, 40, 41, 42, 43, 44, 45, 46, 47, 48, 49, 50, 51, 52, 53, 54, 55, 56, 57, 58, 59, 60, 61, 62, 63, 64, 65, 66, 67, 68, 69, 70, 71, 72, 73, 74, 75, 76, 77, 78, 79, 80, 81, 82, 83, 84, 85, 86, 87, 88, 89, 90, 91, 92, 93, 94, 95, 96, 97, 98, 99], \"xaxis\": \"x2\", \"y\": [0.0, 0.2, 0.4, 0.4, 0.4, 0.4, 0.4, 0.4, 0.4, 0.4, 0.4, 0.4, 0.4, 0.4, 0.4, 0.4, 0.4, 0.4, 0.4, 0.4, 0.4, 0.4, 0.4, 0.4, 0.4, 0.4, 0.4, 0.6000000000000001, 0.6000000000000001, 0.6000000000000001, 0.6000000000000001, 0.6000000000000001, 0.6000000000000001, 0.8, 1.0, 1.0, 1.0, 1.0, 1.0, 1.2, 1.2, 1.2, 1.2, 1.2, 1.4, 1.4, 1.4, 1.5999999999999999, 1.5999999999999999, 1.5999999999999999, 1.5999999999999999, 1.5999999999999999, 1.5999999999999999, 1.5999999999999999, 1.5999999999999999, 1.5999999999999999, 1.5999999999999999, 1.5999999999999999, 1.5999999999999999, 1.5999999999999999, 1.5999999999999999, 1.5999999999999999, 1.5999999999999999, 1.7999999999999998, 1.7999999999999998, 1.7999999999999998, 1.7999999999999998, 1.7999999999999998, 1.7999999999999998, 1.7999999999999998, 1.7999999999999998, 1.7999999999999998, 1.7999999999999998, 1.7999999999999998, 1.7999999999999998, 1.7999999999999998, 1.7999999999999998, 1.7999999999999998, 1.7999999999999998, 1.7999999999999998, 1.7999999999999998, 1.7999999999999998, 1.7999999999999998, 1.7999999999999998, 1.7999999999999998, 1.7999999999999998, 1.7999999999999998, 1.7999999999999998, 1.7999999999999998, 1.7999999999999998, 1.7999999999999998, 1.7999999999999998, 1.7999999999999998, 1.7999999999999998, 1.7999999999999998, 1.7999999999999998, 1.7999999999999998, 1.7999999999999998, 1.7999999999999998, 1.7999999999999998], \"yaxis\": \"y2\"}],\n",
              "                        {\"template\": {\"data\": {\"bar\": [{\"error_x\": {\"color\": \"#2a3f5f\"}, \"error_y\": {\"color\": \"#2a3f5f\"}, \"marker\": {\"line\": {\"color\": \"#E5ECF6\", \"width\": 0.5}}, \"type\": \"bar\"}], \"barpolar\": [{\"marker\": {\"line\": {\"color\": \"#E5ECF6\", \"width\": 0.5}}, \"type\": \"barpolar\"}], \"carpet\": [{\"aaxis\": {\"endlinecolor\": \"#2a3f5f\", \"gridcolor\": \"white\", \"linecolor\": \"white\", \"minorgridcolor\": \"white\", \"startlinecolor\": \"#2a3f5f\"}, \"baxis\": {\"endlinecolor\": \"#2a3f5f\", \"gridcolor\": \"white\", \"linecolor\": \"white\", \"minorgridcolor\": \"white\", \"startlinecolor\": \"#2a3f5f\"}, \"type\": \"carpet\"}], \"choropleth\": [{\"colorbar\": {\"outlinewidth\": 0, \"ticks\": \"\"}, \"type\": \"choropleth\"}], \"contour\": [{\"colorbar\": {\"outlinewidth\": 0, \"ticks\": \"\"}, \"colorscale\": [[0.0, \"#0d0887\"], [0.1111111111111111, \"#46039f\"], [0.2222222222222222, \"#7201a8\"], [0.3333333333333333, \"#9c179e\"], [0.4444444444444444, \"#bd3786\"], [0.5555555555555556, \"#d8576b\"], [0.6666666666666666, \"#ed7953\"], [0.7777777777777778, \"#fb9f3a\"], [0.8888888888888888, \"#fdca26\"], [1.0, \"#f0f921\"]], \"type\": \"contour\"}], \"contourcarpet\": [{\"colorbar\": {\"outlinewidth\": 0, \"ticks\": \"\"}, \"type\": \"contourcarpet\"}], \"heatmap\": [{\"colorbar\": {\"outlinewidth\": 0, \"ticks\": \"\"}, \"colorscale\": [[0.0, \"#0d0887\"], [0.1111111111111111, \"#46039f\"], [0.2222222222222222, \"#7201a8\"], [0.3333333333333333, \"#9c179e\"], [0.4444444444444444, \"#bd3786\"], [0.5555555555555556, \"#d8576b\"], [0.6666666666666666, \"#ed7953\"], [0.7777777777777778, \"#fb9f3a\"], [0.8888888888888888, \"#fdca26\"], [1.0, \"#f0f921\"]], \"type\": \"heatmap\"}], \"heatmapgl\": [{\"colorbar\": {\"outlinewidth\": 0, \"ticks\": \"\"}, \"colorscale\": [[0.0, \"#0d0887\"], [0.1111111111111111, \"#46039f\"], [0.2222222222222222, \"#7201a8\"], [0.3333333333333333, \"#9c179e\"], [0.4444444444444444, \"#bd3786\"], [0.5555555555555556, \"#d8576b\"], [0.6666666666666666, \"#ed7953\"], [0.7777777777777778, \"#fb9f3a\"], [0.8888888888888888, \"#fdca26\"], [1.0, \"#f0f921\"]], \"type\": \"heatmapgl\"}], \"histogram\": [{\"marker\": {\"colorbar\": {\"outlinewidth\": 0, \"ticks\": \"\"}}, \"type\": \"histogram\"}], \"histogram2d\": [{\"colorbar\": {\"outlinewidth\": 0, \"ticks\": \"\"}, \"colorscale\": [[0.0, \"#0d0887\"], [0.1111111111111111, \"#46039f\"], [0.2222222222222222, \"#7201a8\"], [0.3333333333333333, \"#9c179e\"], [0.4444444444444444, \"#bd3786\"], [0.5555555555555556, \"#d8576b\"], [0.6666666666666666, \"#ed7953\"], [0.7777777777777778, \"#fb9f3a\"], [0.8888888888888888, \"#fdca26\"], [1.0, \"#f0f921\"]], \"type\": \"histogram2d\"}], \"histogram2dcontour\": [{\"colorbar\": {\"outlinewidth\": 0, \"ticks\": \"\"}, \"colorscale\": [[0.0, \"#0d0887\"], [0.1111111111111111, \"#46039f\"], [0.2222222222222222, \"#7201a8\"], [0.3333333333333333, \"#9c179e\"], [0.4444444444444444, \"#bd3786\"], [0.5555555555555556, \"#d8576b\"], [0.6666666666666666, \"#ed7953\"], [0.7777777777777778, \"#fb9f3a\"], [0.8888888888888888, \"#fdca26\"], [1.0, \"#f0f921\"]], \"type\": \"histogram2dcontour\"}], \"mesh3d\": [{\"colorbar\": {\"outlinewidth\": 0, \"ticks\": \"\"}, \"type\": \"mesh3d\"}], \"parcoords\": [{\"line\": {\"colorbar\": {\"outlinewidth\": 0, \"ticks\": \"\"}}, \"type\": \"parcoords\"}], \"pie\": [{\"automargin\": true, \"type\": \"pie\"}], \"scatter\": [{\"marker\": {\"colorbar\": {\"outlinewidth\": 0, \"ticks\": \"\"}}, \"type\": \"scatter\"}], \"scatter3d\": [{\"line\": {\"colorbar\": {\"outlinewidth\": 0, \"ticks\": \"\"}}, \"marker\": {\"colorbar\": {\"outlinewidth\": 0, \"ticks\": \"\"}}, \"type\": \"scatter3d\"}], \"scattercarpet\": [{\"marker\": {\"colorbar\": {\"outlinewidth\": 0, \"ticks\": \"\"}}, \"type\": \"scattercarpet\"}], \"scattergeo\": [{\"marker\": {\"colorbar\": {\"outlinewidth\": 0, \"ticks\": \"\"}}, \"type\": \"scattergeo\"}], \"scattergl\": [{\"marker\": {\"colorbar\": {\"outlinewidth\": 0, \"ticks\": \"\"}}, \"type\": \"scattergl\"}], \"scattermapbox\": [{\"marker\": {\"colorbar\": {\"outlinewidth\": 0, \"ticks\": \"\"}}, \"type\": \"scattermapbox\"}], \"scatterpolar\": [{\"marker\": {\"colorbar\": {\"outlinewidth\": 0, \"ticks\": \"\"}}, \"type\": \"scatterpolar\"}], \"scatterpolargl\": [{\"marker\": {\"colorbar\": {\"outlinewidth\": 0, \"ticks\": \"\"}}, \"type\": \"scatterpolargl\"}], \"scatterternary\": [{\"marker\": {\"colorbar\": {\"outlinewidth\": 0, \"ticks\": \"\"}}, \"type\": \"scatterternary\"}], \"surface\": [{\"colorbar\": {\"outlinewidth\": 0, \"ticks\": \"\"}, \"colorscale\": [[0.0, \"#0d0887\"], [0.1111111111111111, \"#46039f\"], [0.2222222222222222, \"#7201a8\"], [0.3333333333333333, \"#9c179e\"], [0.4444444444444444, \"#bd3786\"], [0.5555555555555556, \"#d8576b\"], [0.6666666666666666, \"#ed7953\"], [0.7777777777777778, \"#fb9f3a\"], [0.8888888888888888, \"#fdca26\"], [1.0, \"#f0f921\"]], \"type\": \"surface\"}], \"table\": [{\"cells\": {\"fill\": {\"color\": \"#EBF0F8\"}, \"line\": {\"color\": \"white\"}}, \"header\": {\"fill\": {\"color\": \"#C8D4E3\"}, \"line\": {\"color\": \"white\"}}, \"type\": \"table\"}]}, \"layout\": {\"annotationdefaults\": {\"arrowcolor\": \"#2a3f5f\", \"arrowhead\": 0, \"arrowwidth\": 1}, \"coloraxis\": {\"colorbar\": {\"outlinewidth\": 0, \"ticks\": \"\"}}, \"colorscale\": {\"diverging\": [[0, \"#8e0152\"], [0.1, \"#c51b7d\"], [0.2, \"#de77ae\"], [0.3, \"#f1b6da\"], [0.4, \"#fde0ef\"], [0.5, \"#f7f7f7\"], [0.6, \"#e6f5d0\"], [0.7, \"#b8e186\"], [0.8, \"#7fbc41\"], [0.9, \"#4d9221\"], [1, \"#276419\"]], \"sequential\": [[0.0, \"#0d0887\"], [0.1111111111111111, \"#46039f\"], [0.2222222222222222, \"#7201a8\"], [0.3333333333333333, \"#9c179e\"], [0.4444444444444444, \"#bd3786\"], [0.5555555555555556, \"#d8576b\"], [0.6666666666666666, \"#ed7953\"], [0.7777777777777778, \"#fb9f3a\"], [0.8888888888888888, \"#fdca26\"], [1.0, \"#f0f921\"]], \"sequentialminus\": [[0.0, \"#0d0887\"], [0.1111111111111111, \"#46039f\"], [0.2222222222222222, \"#7201a8\"], [0.3333333333333333, \"#9c179e\"], [0.4444444444444444, \"#bd3786\"], [0.5555555555555556, \"#d8576b\"], [0.6666666666666666, \"#ed7953\"], [0.7777777777777778, \"#fb9f3a\"], [0.8888888888888888, \"#fdca26\"], [1.0, \"#f0f921\"]]}, \"colorway\": [\"#636efa\", \"#EF553B\", \"#00cc96\", \"#ab63fa\", \"#FFA15A\", \"#19d3f3\", \"#FF6692\", \"#B6E880\", \"#FF97FF\", \"#FECB52\"], \"font\": {\"color\": \"#2a3f5f\"}, \"geo\": {\"bgcolor\": \"white\", \"lakecolor\": \"white\", \"landcolor\": \"#E5ECF6\", \"showlakes\": true, \"showland\": true, \"subunitcolor\": \"white\"}, \"hoverlabel\": {\"align\": \"left\"}, \"hovermode\": \"closest\", \"mapbox\": {\"style\": \"light\"}, \"paper_bgcolor\": \"white\", \"plot_bgcolor\": \"#E5ECF6\", \"polar\": {\"angularaxis\": {\"gridcolor\": \"white\", \"linecolor\": \"white\", \"ticks\": \"\"}, \"bgcolor\": \"#E5ECF6\", \"radialaxis\": {\"gridcolor\": \"white\", \"linecolor\": \"white\", \"ticks\": \"\"}}, \"scene\": {\"xaxis\": {\"backgroundcolor\": \"#E5ECF6\", \"gridcolor\": \"white\", \"gridwidth\": 2, \"linecolor\": \"white\", \"showbackground\": true, \"ticks\": \"\", \"zerolinecolor\": \"white\"}, \"yaxis\": {\"backgroundcolor\": \"#E5ECF6\", \"gridcolor\": \"white\", \"gridwidth\": 2, \"linecolor\": \"white\", \"showbackground\": true, \"ticks\": \"\", \"zerolinecolor\": \"white\"}, \"zaxis\": {\"backgroundcolor\": \"#E5ECF6\", \"gridcolor\": \"white\", \"gridwidth\": 2, \"linecolor\": \"white\", \"showbackground\": true, \"ticks\": \"\", \"zerolinecolor\": \"white\"}}, \"shapedefaults\": {\"line\": {\"color\": \"#2a3f5f\"}}, \"ternary\": {\"aaxis\": {\"gridcolor\": \"white\", \"linecolor\": \"white\", \"ticks\": \"\"}, \"baxis\": {\"gridcolor\": \"white\", \"linecolor\": \"white\", \"ticks\": \"\"}, \"bgcolor\": \"#E5ECF6\", \"caxis\": {\"gridcolor\": \"white\", \"linecolor\": \"white\", \"ticks\": \"\"}}, \"title\": {\"x\": 0.05}, \"xaxis\": {\"automargin\": true, \"gridcolor\": \"white\", \"linecolor\": \"white\", \"ticks\": \"\", \"title\": {\"standoff\": 15}, \"zerolinecolor\": \"white\", \"zerolinewidth\": 2}, \"yaxis\": {\"automargin\": true, \"gridcolor\": \"white\", \"linecolor\": \"white\", \"ticks\": \"\", \"title\": {\"standoff\": 15}, \"zerolinecolor\": \"white\", \"zerolinewidth\": 2}}}, \"title\": {\"text\": \"Simulated CTR Values and Algorithm Regret\"}, \"xaxis\": {\"anchor\": \"y\", \"domain\": [0.0, 1.0], \"matches\": \"x2\", \"showticklabels\": false, \"title\": {\"text\": \"Trial Number\"}}, \"xaxis2\": {\"anchor\": \"y2\", \"domain\": [0.0, 1.0]}, \"yaxis\": {\"anchor\": \"x\", \"domain\": [0.575, 1.0], \"title\": {\"text\": \"CTR value\"}}, \"yaxis2\": {\"anchor\": \"x2\", \"domain\": [0.0, 0.425], \"title\": {\"text\": \"Regret Value\"}}},\n",
              "                        {\"responsive\": true}\n",
              "                    ).then(function(){\n",
              "                            \n",
              "var gd = document.getElementById('018ad644-8ce5-444d-9450-5ac9b2e32313');\n",
              "var x = new MutationObserver(function (mutations, observer) {{\n",
              "        var display = window.getComputedStyle(gd).display;\n",
              "        if (!display || display === 'none') {{\n",
              "            console.log([gd, 'removed!']);\n",
              "            Plotly.purge(gd);\n",
              "            observer.disconnect();\n",
              "        }}\n",
              "}});\n",
              "\n",
              "// Listen for the removal of the full notebook cells\n",
              "var notebookContainer = gd.closest('#notebook-container');\n",
              "if (notebookContainer) {{\n",
              "    x.observe(notebookContainer, {childList: true});\n",
              "}}\n",
              "\n",
              "// Listen for the clearing of the current output cell\n",
              "var outputEl = gd.closest('.output');\n",
              "if (outputEl) {{\n",
              "    x.observe(outputEl, {childList: true});\n",
              "}}\n",
              "\n",
              "                        })\n",
              "                };\n",
              "                \n",
              "            </script>\n",
              "        </div>\n",
              "</body>\n",
              "</html>"
            ]
          },
          "metadata": {
            "tags": []
          }
        }
      ]
    },
    {
      "cell_type": "markdown",
      "metadata": {
        "id": "XezB4TH-RI7Y",
        "colab_type": "text"
      },
      "source": [
        "Regret là thấp nhất mà ta từng thấy đến giờ. Mỗi lần tăng regret xảy ra khi quảng cáo #0 được chọn. Trên đồ thị CTR, ta có thể thấy rằng khi bắt đầu, các giá trị có màu xanh (giá trị CTR được lấy mẫu Thompson cho quảng cáo #0) thường cao hơn giá trị tan (giá trị CTR được lấy mẫu Thompson cho quảng cáo #1), dẫn đến quảng cáo #0 được chiếu.\n",
        "\n",
        "Lưu ý về sự khác nhau trong các thay đổi cho mỗi quảng cáo. Thuật toán khai phá liên tục, sau đó khai thác một cách tự nhiên các biến thể quảng cáo với mẫu cao nhất được lấy từ phân phối Beta xấp xỉ. Điều này có thể được biểu diễn ở đồ thị trên cùng của các phân phối. Phân phối Beta cho quảng cáo #1 thì cao hơn nhiều và hẹp hơn nhiều so với quảng cáo #0, đây chính xác là điều ta muốn!"
      ]
    },
    {
      "cell_type": "markdown",
      "metadata": {
        "id": "HDn5f-ji1sXj",
        "colab_type": "text"
      },
      "source": [
        "##Save result"
      ]
    },
    {
      "cell_type": "code",
      "metadata": {
        "id": "T55JbB_D1omB",
        "colab_type": "code",
        "colab": {}
      },
      "source": [
        "thompson_dict = {'reward':total_reward, \n",
        "                 'regret_list':regret_list, \n",
        "                 'ads_count'  :pd.Series(index_list).value_counts(normalize=True)}"
      ],
      "execution_count": 0,
      "outputs": []
    },
    {
      "cell_type": "markdown",
      "metadata": {
        "id": "6Sq6iMIRRQdm",
        "colab_type": "text"
      },
      "source": [
        "# <a id='ucb'>Cận trên của khoảng tin cậy (Upper Confidence Bound - UCB)</a> \n",
        "\n",
        "\n",
        "Không giống như thuật toán Lấy mẫu Thompson, UCB quan tâm nhiều hơn về tính không chắc chắn (độ lệch lớn) của mỗi biến thể. Càng không chắc chắn về một quảng cáo, thì càng phải ưu tiên tập trung khai phá.\n",
        "\n",
        "Thuật toán chọn ra biến thể với giá trị cận trên của khoảng tin cậy cao nhất (UCB) - cũng có nghĩa là dự đoán biến thể cho reward cao nhất. Được định nghĩa như sau:\n",
        "\n",
        "$UCB = \\bar x_i + \\sqrt{\\frac{2 \\cdot \\log{t}}{n}}$ ,\n",
        "\n",
        "trong đó:\n",
        "- $\\bar x_i$ - tỷ lệ CTR tại bước thứ $i$,\n",
        "\n",
        "- $t$ - tổng số lượt chiếu của tất cả quảng cáo,\n",
        "\n",
        "- $n$ - tổng số lượt chiếu của quảng cáo được chọn\n",
        "\n",
        "\n",
        "Logic khá là dễ hiểu:\n",
        "\n",
        "1. Tính UCB của tất cả biến thể.\n",
        "2. Chọn biến thể với UCB cao nhất.\n",
        "3. Thực hiện bước 1."
      ]
    },
    {
      "cell_type": "code",
      "metadata": {
        "id": "6vosBvtf1vtm",
        "colab_type": "code",
        "colab": {}
      },
      "source": [
        "n =100\n",
        "regret = 0 \n",
        "total_reward = 0\n",
        "regret_list = [] \n",
        "index_list = [] \n",
        "impressions = [0,0] \n",
        "clicks = [0,0]\n",
        "ctr = {0: [], 1: []}\n",
        "total_reward = 0\n",
        "\n",
        "for i in range(n):\n",
        "    index = 0\n",
        "    max_upper_bound = 0\n",
        "    for k in [0,1]:\n",
        "        # print(\"impressions[k]\",impressions[k])\n",
        "        if (impressions[k] > 0):\n",
        "            CTR = clicks[k] / impressions[k]\n",
        "            delta = math.sqrt(2 * math.log(i+1) / impressions[k])\n",
        "            upper_bound = CTR + delta\n",
        "            # print(upper_bound)\n",
        "            ctr[k].append(CTR)\n",
        "        else:\n",
        "            upper_bound = 1e400\n",
        "        if upper_bound > max_upper_bound:\n",
        "            # print(max_upper_bound)\n",
        "            max_upper_bound = upper_bound\n",
        "            index = k\n",
        "            # print(index)\n",
        "    index_list.append(index)\n",
        "    impressions[index] += 1\n",
        "    reward = bernoulli.rvs(ACTUAL_CTR[index])\n",
        "    \n",
        "    clicks[index] += reward\n",
        "    total_reward += reward\n",
        "    \n",
        "    regret += max(ACTUAL_CTR) - ACTUAL_CTR[index]\n",
        "    regret_list.append(regret)"
      ],
      "execution_count": 0,
      "outputs": []
    },
    {
      "cell_type": "code",
      "metadata": {
        "id": "WsUezwDuRYuH",
        "colab_type": "code",
        "outputId": "ae870a9f-e505-4179-a6f4-c8120b1f2207",
        "colab": {
          "base_uri": "https://localhost:8080/",
          "height": 630
        }
      },
      "source": [
        "algorithm_performance()"
      ],
      "execution_count": 0,
      "outputs": [
        {
          "output_type": "stream",
          "text": [
            "index_list [0, 1, 0, 1, 0, 1, 0, 0, 1, 1, 1, 1, 1, 1, 0, 1, 1, 1, 1, 1, 1, 1, 1, 1, 1, 0, 0, 1, 1, 1, 1, 0, 1, 1, 1, 0, 1, 1, 1, 1, 1, 1, 1, 1, 1, 1, 1, 1, 0, 0, 1, 0, 1, 1, 1, 1, 1, 1, 1, 0, 0, 0, 1, 0, 0, 0, 0, 1, 1, 1, 1, 1, 1, 1, 1, 0, 1, 1, 1, 1, 1, 1, 1, 1, 1, 0, 0, 1, 1, 1, 1, 1, 1, 1, 0, 1, 1, 1, 1, 1]\n",
            "Ad #0 has been shown 24.0 % of the time.\n",
            "Ad #1 has been shown 76.0 % of the time.\n",
            "Total Reward (Number of Clicks): 60\n"
          ],
          "name": "stdout"
        },
        {
          "output_type": "display_data",
          "data": {
            "text/html": [
              "<html>\n",
              "<head><meta charset=\"utf-8\" /></head>\n",
              "<body>\n",
              "    <div>\n",
              "            <script src=\"https://cdnjs.cloudflare.com/ajax/libs/mathjax/2.7.5/MathJax.js?config=TeX-AMS-MML_SVG\"></script><script type=\"text/javascript\">if (window.MathJax) {MathJax.Hub.Config({SVG: {font: \"STIX-Web\"}});}</script>\n",
              "                <script type=\"text/javascript\">window.PlotlyConfig = {MathJaxConfig: 'local'};</script>\n",
              "        <script src=\"https://cdn.plot.ly/plotly-latest.min.js\"></script>    \n",
              "            <div id=\"6adcb209-54e6-480a-94e2-5e7300168465\" class=\"plotly-graph-div\" style=\"height:525px; width:100%;\"></div>\n",
              "            <script type=\"text/javascript\">\n",
              "                \n",
              "                    window.PLOTLYENV=window.PLOTLYENV || {};\n",
              "                    \n",
              "                if (document.getElementById(\"6adcb209-54e6-480a-94e2-5e7300168465\")) {\n",
              "                    Plotly.newPlot(\n",
              "                        '6adcb209-54e6-480a-94e2-5e7300168465',\n",
              "                        [{\"line\": {\"color\": \"rgba(10, 108, 94, .7)\", \"width\": 2}, \"name\": \"Calculated CTR #0\", \"type\": \"scatter\", \"x\": [0, 1, 2, 3, 4, 5, 6, 7, 8, 9, 10, 11, 12, 13, 14, 15, 16, 17, 18, 19, 20, 21, 22, 23, 24, 25, 26, 27, 28, 29, 30, 31, 32, 33, 34, 35, 36, 37, 38, 39, 40, 41, 42, 43, 44, 45, 46, 47, 48, 49, 50, 51, 52, 53, 54, 55, 56, 57, 58, 59, 60, 61, 62, 63, 64, 65, 66, 67, 68, 69, 70, 71, 72, 73, 74, 75, 76, 77, 78, 79, 80, 81, 82, 83, 84, 85, 86, 87, 88, 89, 90, 91, 92, 93, 94, 95, 96, 97, 98, 99], \"xaxis\": \"x\", \"y\": [1.0, 1.0, 1.0, 1.0, 0.6666666666666666, 0.6666666666666666, 0.5, 0.4, 0.4, 0.4, 0.4, 0.4, 0.4, 0.4, 0.3333333333333333, 0.3333333333333333, 0.3333333333333333, 0.3333333333333333, 0.3333333333333333, 0.3333333333333333, 0.3333333333333333, 0.3333333333333333, 0.3333333333333333, 0.3333333333333333, 0.3333333333333333, 0.42857142857142855, 0.375, 0.375, 0.375, 0.375, 0.375, 0.3333333333333333, 0.3333333333333333, 0.3333333333333333, 0.3333333333333333, 0.3, 0.3, 0.3, 0.3, 0.3, 0.3, 0.3, 0.3, 0.3, 0.3, 0.3, 0.3, 0.3, 0.36363636363636365, 0.3333333333333333, 0.3333333333333333, 0.3076923076923077, 0.3076923076923077, 0.3076923076923077, 0.3076923076923077, 0.3076923076923077, 0.3076923076923077, 0.3076923076923077, 0.3076923076923077, 0.35714285714285715, 0.4, 0.375, 0.375, 0.4117647058823529, 0.4444444444444444, 0.42105263157894735, 0.4, 0.4, 0.4, 0.4, 0.4, 0.4, 0.4, 0.4, 0.4, 0.38095238095238093, 0.38095238095238093, 0.38095238095238093, 0.38095238095238093, 0.38095238095238093, 0.38095238095238093, 0.38095238095238093, 0.38095238095238093, 0.38095238095238093, 0.38095238095238093, 0.4090909090909091, 0.391304347826087, 0.391304347826087, 0.391304347826087, 0.391304347826087, 0.391304347826087, 0.391304347826087, 0.391304347826087, 0.391304347826087, 0.375, 0.375, 0.375, 0.375, 0.375], \"yaxis\": \"y\"}, {\"line\": {\"color\": \"rgb(205, 12, 24)\", \"dash\": \"dash\", \"width\": 1}, \"name\": \"Actual CTR #0 value\", \"type\": \"scatter\", \"x\": [0, 100], \"xaxis\": \"x\", \"y\": [0.45, 0.45], \"yaxis\": \"y\"}, {\"line\": {\"color\": \"rgba(187, 121, 24, .7)\", \"width\": 2}, \"name\": \"Calculated CTR #1\", \"type\": \"scatter\", \"x\": [0, 1, 2, 3, 4, 5, 6, 7, 8, 9, 10, 11, 12, 13, 14, 15, 16, 17, 18, 19, 20, 21, 22, 23, 24, 25, 26, 27, 28, 29, 30, 31, 32, 33, 34, 35, 36, 37, 38, 39, 40, 41, 42, 43, 44, 45, 46, 47, 48, 49, 50, 51, 52, 53, 54, 55, 56, 57, 58, 59, 60, 61, 62, 63, 64, 65, 66, 67, 68, 69, 70, 71, 72, 73, 74, 75, 76, 77, 78, 79, 80, 81, 82, 83, 84, 85, 86, 87, 88, 89, 90, 91, 92, 93, 94, 95, 96, 97, 98, 99], \"xaxis\": \"x\", \"y\": [1.0, 1.0, 0.5, 0.5, 0.3333333333333333, 0.3333333333333333, 0.3333333333333333, 0.5, 0.6, 0.6666666666666666, 0.7142857142857143, 0.625, 0.5555555555555556, 0.5555555555555556, 0.6, 0.6363636363636364, 0.6666666666666666, 0.6923076923076923, 0.7142857142857143, 0.7333333333333333, 0.75, 0.7647058823529411, 0.7777777777777778, 0.7894736842105263, 0.7894736842105263, 0.7894736842105263, 0.8, 0.8095238095238095, 0.7727272727272727, 0.7391304347826086, 0.7391304347826086, 0.7083333333333334, 0.72, 0.6923076923076923, 0.6923076923076923, 0.7037037037037037, 0.7142857142857143, 0.7241379310344828, 0.7333333333333333, 0.7419354838709677, 0.71875, 0.7272727272727273, 0.7352941176470589, 0.7142857142857143, 0.7222222222222222, 0.7297297297297297, 0.7105263157894737, 0.7105263157894737, 0.7105263157894737, 0.6923076923076923, 0.6923076923076923, 0.675, 0.6829268292682927, 0.6904761904761905, 0.6976744186046512, 0.6818181818181818, 0.6888888888888889, 0.6739130434782609, 0.6739130434782609, 0.6739130434782609, 0.6739130434782609, 0.6595744680851063, 0.6595744680851063, 0.6595744680851063, 0.6595744680851063, 0.6595744680851063, 0.6458333333333334, 0.6530612244897959, 0.66, 0.6666666666666666, 0.6730769230769231, 0.6792452830188679, 0.6666666666666666, 0.6545454545454545, 0.6545454545454545, 0.6428571428571429, 0.6491228070175439, 0.6551724137931034, 0.6610169491525424, 0.6666666666666666, 0.6557377049180327, 0.6612903225806451, 0.6666666666666666, 0.65625, 0.65625, 0.65625, 0.6615384615384615, 0.6666666666666666, 0.6716417910447762, 0.6764705882352942, 0.6666666666666666, 0.6714285714285714, 0.6619718309859155, 0.6619718309859155, 0.6666666666666666, 0.6712328767123288, 0.6621621621621622, 0.6666666666666666], \"yaxis\": \"y\"}, {\"line\": {\"color\": \"rgb(205, 12, 24)\", \"dash\": \"dash\", \"width\": 1}, \"name\": \"Actual CTR #1 value\", \"type\": \"scatter\", \"x\": [0, 100], \"xaxis\": \"x\", \"y\": [0.65, 0.65], \"yaxis\": \"y\"}, {\"name\": \"Regret\", \"type\": \"scatter\", \"x\": [0, 1, 2, 3, 4, 5, 6, 7, 8, 9, 10, 11, 12, 13, 14, 15, 16, 17, 18, 19, 20, 21, 22, 23, 24, 25, 26, 27, 28, 29, 30, 31, 32, 33, 34, 35, 36, 37, 38, 39, 40, 41, 42, 43, 44, 45, 46, 47, 48, 49, 50, 51, 52, 53, 54, 55, 56, 57, 58, 59, 60, 61, 62, 63, 64, 65, 66, 67, 68, 69, 70, 71, 72, 73, 74, 75, 76, 77, 78, 79, 80, 81, 82, 83, 84, 85, 86, 87, 88, 89, 90, 91, 92, 93, 94, 95, 96, 97, 98, 99], \"xaxis\": \"x2\", \"y\": [0.2, 0.2, 0.4, 0.4, 0.6000000000000001, 0.6000000000000001, 0.8, 1.0, 1.0, 1.0, 1.0, 1.0, 1.0, 1.0, 1.2, 1.2, 1.2, 1.2, 1.2, 1.2, 1.2, 1.2, 1.2, 1.2, 1.2, 1.4, 1.5999999999999999, 1.5999999999999999, 1.5999999999999999, 1.5999999999999999, 1.5999999999999999, 1.7999999999999998, 1.7999999999999998, 1.7999999999999998, 1.7999999999999998, 1.9999999999999998, 1.9999999999999998, 1.9999999999999998, 1.9999999999999998, 1.9999999999999998, 1.9999999999999998, 1.9999999999999998, 1.9999999999999998, 1.9999999999999998, 1.9999999999999998, 1.9999999999999998, 1.9999999999999998, 1.9999999999999998, 2.1999999999999997, 2.4, 2.4, 2.6, 2.6, 2.6, 2.6, 2.6, 2.6, 2.6, 2.6, 2.8000000000000003, 3.0000000000000004, 3.2000000000000006, 3.2000000000000006, 3.400000000000001, 3.600000000000001, 3.800000000000001, 4.000000000000001, 4.000000000000001, 4.000000000000001, 4.000000000000001, 4.000000000000001, 4.000000000000001, 4.000000000000001, 4.000000000000001, 4.000000000000001, 4.200000000000001, 4.200000000000001, 4.200000000000001, 4.200000000000001, 4.200000000000001, 4.200000000000001, 4.200000000000001, 4.200000000000001, 4.200000000000001, 4.200000000000001, 4.400000000000001, 4.600000000000001, 4.600000000000001, 4.600000000000001, 4.600000000000001, 4.600000000000001, 4.600000000000001, 4.600000000000001, 4.600000000000001, 4.800000000000002, 4.800000000000002, 4.800000000000002, 4.800000000000002, 4.800000000000002, 4.800000000000002], \"yaxis\": \"y2\"}],\n",
              "                        {\"template\": {\"data\": {\"bar\": [{\"error_x\": {\"color\": \"#2a3f5f\"}, \"error_y\": {\"color\": \"#2a3f5f\"}, \"marker\": {\"line\": {\"color\": \"#E5ECF6\", \"width\": 0.5}}, \"type\": \"bar\"}], \"barpolar\": [{\"marker\": {\"line\": {\"color\": \"#E5ECF6\", \"width\": 0.5}}, \"type\": \"barpolar\"}], \"carpet\": [{\"aaxis\": {\"endlinecolor\": \"#2a3f5f\", \"gridcolor\": \"white\", \"linecolor\": \"white\", \"minorgridcolor\": \"white\", \"startlinecolor\": \"#2a3f5f\"}, \"baxis\": {\"endlinecolor\": \"#2a3f5f\", \"gridcolor\": \"white\", \"linecolor\": \"white\", \"minorgridcolor\": \"white\", \"startlinecolor\": \"#2a3f5f\"}, \"type\": \"carpet\"}], \"choropleth\": [{\"colorbar\": {\"outlinewidth\": 0, \"ticks\": \"\"}, \"type\": \"choropleth\"}], \"contour\": [{\"colorbar\": {\"outlinewidth\": 0, \"ticks\": \"\"}, \"colorscale\": [[0.0, \"#0d0887\"], [0.1111111111111111, \"#46039f\"], [0.2222222222222222, \"#7201a8\"], [0.3333333333333333, \"#9c179e\"], [0.4444444444444444, \"#bd3786\"], [0.5555555555555556, \"#d8576b\"], [0.6666666666666666, \"#ed7953\"], [0.7777777777777778, \"#fb9f3a\"], [0.8888888888888888, \"#fdca26\"], [1.0, \"#f0f921\"]], \"type\": \"contour\"}], \"contourcarpet\": [{\"colorbar\": {\"outlinewidth\": 0, \"ticks\": \"\"}, \"type\": \"contourcarpet\"}], \"heatmap\": [{\"colorbar\": {\"outlinewidth\": 0, \"ticks\": \"\"}, \"colorscale\": [[0.0, \"#0d0887\"], [0.1111111111111111, \"#46039f\"], [0.2222222222222222, \"#7201a8\"], [0.3333333333333333, \"#9c179e\"], [0.4444444444444444, \"#bd3786\"], [0.5555555555555556, \"#d8576b\"], [0.6666666666666666, \"#ed7953\"], [0.7777777777777778, \"#fb9f3a\"], [0.8888888888888888, \"#fdca26\"], [1.0, \"#f0f921\"]], \"type\": \"heatmap\"}], \"heatmapgl\": [{\"colorbar\": {\"outlinewidth\": 0, \"ticks\": \"\"}, \"colorscale\": [[0.0, \"#0d0887\"], [0.1111111111111111, \"#46039f\"], [0.2222222222222222, \"#7201a8\"], [0.3333333333333333, \"#9c179e\"], [0.4444444444444444, \"#bd3786\"], [0.5555555555555556, \"#d8576b\"], [0.6666666666666666, \"#ed7953\"], [0.7777777777777778, \"#fb9f3a\"], [0.8888888888888888, \"#fdca26\"], [1.0, \"#f0f921\"]], \"type\": \"heatmapgl\"}], \"histogram\": [{\"marker\": {\"colorbar\": {\"outlinewidth\": 0, \"ticks\": \"\"}}, \"type\": \"histogram\"}], \"histogram2d\": [{\"colorbar\": {\"outlinewidth\": 0, \"ticks\": \"\"}, \"colorscale\": [[0.0, \"#0d0887\"], [0.1111111111111111, \"#46039f\"], [0.2222222222222222, \"#7201a8\"], [0.3333333333333333, \"#9c179e\"], [0.4444444444444444, \"#bd3786\"], [0.5555555555555556, \"#d8576b\"], [0.6666666666666666, \"#ed7953\"], [0.7777777777777778, \"#fb9f3a\"], [0.8888888888888888, \"#fdca26\"], [1.0, \"#f0f921\"]], \"type\": \"histogram2d\"}], \"histogram2dcontour\": [{\"colorbar\": {\"outlinewidth\": 0, \"ticks\": \"\"}, \"colorscale\": [[0.0, \"#0d0887\"], [0.1111111111111111, \"#46039f\"], [0.2222222222222222, \"#7201a8\"], [0.3333333333333333, \"#9c179e\"], [0.4444444444444444, \"#bd3786\"], [0.5555555555555556, \"#d8576b\"], [0.6666666666666666, \"#ed7953\"], [0.7777777777777778, \"#fb9f3a\"], [0.8888888888888888, \"#fdca26\"], [1.0, \"#f0f921\"]], \"type\": \"histogram2dcontour\"}], \"mesh3d\": [{\"colorbar\": {\"outlinewidth\": 0, \"ticks\": \"\"}, \"type\": \"mesh3d\"}], \"parcoords\": [{\"line\": {\"colorbar\": {\"outlinewidth\": 0, \"ticks\": \"\"}}, \"type\": \"parcoords\"}], \"pie\": [{\"automargin\": true, \"type\": \"pie\"}], \"scatter\": [{\"marker\": {\"colorbar\": {\"outlinewidth\": 0, \"ticks\": \"\"}}, \"type\": \"scatter\"}], \"scatter3d\": [{\"line\": {\"colorbar\": {\"outlinewidth\": 0, \"ticks\": \"\"}}, \"marker\": {\"colorbar\": {\"outlinewidth\": 0, \"ticks\": \"\"}}, \"type\": \"scatter3d\"}], \"scattercarpet\": [{\"marker\": {\"colorbar\": {\"outlinewidth\": 0, \"ticks\": \"\"}}, \"type\": \"scattercarpet\"}], \"scattergeo\": [{\"marker\": {\"colorbar\": {\"outlinewidth\": 0, \"ticks\": \"\"}}, \"type\": \"scattergeo\"}], \"scattergl\": [{\"marker\": {\"colorbar\": {\"outlinewidth\": 0, \"ticks\": \"\"}}, \"type\": \"scattergl\"}], \"scattermapbox\": [{\"marker\": {\"colorbar\": {\"outlinewidth\": 0, \"ticks\": \"\"}}, \"type\": \"scattermapbox\"}], \"scatterpolar\": [{\"marker\": {\"colorbar\": {\"outlinewidth\": 0, \"ticks\": \"\"}}, \"type\": \"scatterpolar\"}], \"scatterpolargl\": [{\"marker\": {\"colorbar\": {\"outlinewidth\": 0, \"ticks\": \"\"}}, \"type\": \"scatterpolargl\"}], \"scatterternary\": [{\"marker\": {\"colorbar\": {\"outlinewidth\": 0, \"ticks\": \"\"}}, \"type\": \"scatterternary\"}], \"surface\": [{\"colorbar\": {\"outlinewidth\": 0, \"ticks\": \"\"}, \"colorscale\": [[0.0, \"#0d0887\"], [0.1111111111111111, \"#46039f\"], [0.2222222222222222, \"#7201a8\"], [0.3333333333333333, \"#9c179e\"], [0.4444444444444444, \"#bd3786\"], [0.5555555555555556, \"#d8576b\"], [0.6666666666666666, \"#ed7953\"], [0.7777777777777778, \"#fb9f3a\"], [0.8888888888888888, \"#fdca26\"], [1.0, \"#f0f921\"]], \"type\": \"surface\"}], \"table\": [{\"cells\": {\"fill\": {\"color\": \"#EBF0F8\"}, \"line\": {\"color\": \"white\"}}, \"header\": {\"fill\": {\"color\": \"#C8D4E3\"}, \"line\": {\"color\": \"white\"}}, \"type\": \"table\"}]}, \"layout\": {\"annotationdefaults\": {\"arrowcolor\": \"#2a3f5f\", \"arrowhead\": 0, \"arrowwidth\": 1}, \"coloraxis\": {\"colorbar\": {\"outlinewidth\": 0, \"ticks\": \"\"}}, \"colorscale\": {\"diverging\": [[0, \"#8e0152\"], [0.1, \"#c51b7d\"], [0.2, \"#de77ae\"], [0.3, \"#f1b6da\"], [0.4, \"#fde0ef\"], [0.5, \"#f7f7f7\"], [0.6, \"#e6f5d0\"], [0.7, \"#b8e186\"], [0.8, \"#7fbc41\"], [0.9, \"#4d9221\"], [1, \"#276419\"]], \"sequential\": [[0.0, \"#0d0887\"], [0.1111111111111111, \"#46039f\"], [0.2222222222222222, \"#7201a8\"], [0.3333333333333333, \"#9c179e\"], [0.4444444444444444, \"#bd3786\"], [0.5555555555555556, \"#d8576b\"], [0.6666666666666666, \"#ed7953\"], [0.7777777777777778, \"#fb9f3a\"], [0.8888888888888888, \"#fdca26\"], [1.0, \"#f0f921\"]], \"sequentialminus\": [[0.0, \"#0d0887\"], [0.1111111111111111, \"#46039f\"], [0.2222222222222222, \"#7201a8\"], [0.3333333333333333, \"#9c179e\"], [0.4444444444444444, \"#bd3786\"], [0.5555555555555556, \"#d8576b\"], [0.6666666666666666, \"#ed7953\"], [0.7777777777777778, \"#fb9f3a\"], [0.8888888888888888, \"#fdca26\"], [1.0, \"#f0f921\"]]}, \"colorway\": [\"#636efa\", \"#EF553B\", \"#00cc96\", \"#ab63fa\", \"#FFA15A\", \"#19d3f3\", \"#FF6692\", \"#B6E880\", \"#FF97FF\", \"#FECB52\"], \"font\": {\"color\": \"#2a3f5f\"}, \"geo\": {\"bgcolor\": \"white\", \"lakecolor\": \"white\", \"landcolor\": \"#E5ECF6\", \"showlakes\": true, \"showland\": true, \"subunitcolor\": \"white\"}, \"hoverlabel\": {\"align\": \"left\"}, \"hovermode\": \"closest\", \"mapbox\": {\"style\": \"light\"}, \"paper_bgcolor\": \"white\", \"plot_bgcolor\": \"#E5ECF6\", \"polar\": {\"angularaxis\": {\"gridcolor\": \"white\", \"linecolor\": \"white\", \"ticks\": \"\"}, \"bgcolor\": \"#E5ECF6\", \"radialaxis\": {\"gridcolor\": \"white\", \"linecolor\": \"white\", \"ticks\": \"\"}}, \"scene\": {\"xaxis\": {\"backgroundcolor\": \"#E5ECF6\", \"gridcolor\": \"white\", \"gridwidth\": 2, \"linecolor\": \"white\", \"showbackground\": true, \"ticks\": \"\", \"zerolinecolor\": \"white\"}, \"yaxis\": {\"backgroundcolor\": \"#E5ECF6\", \"gridcolor\": \"white\", \"gridwidth\": 2, \"linecolor\": \"white\", \"showbackground\": true, \"ticks\": \"\", \"zerolinecolor\": \"white\"}, \"zaxis\": {\"backgroundcolor\": \"#E5ECF6\", \"gridcolor\": \"white\", \"gridwidth\": 2, \"linecolor\": \"white\", \"showbackground\": true, \"ticks\": \"\", \"zerolinecolor\": \"white\"}}, \"shapedefaults\": {\"line\": {\"color\": \"#2a3f5f\"}}, \"ternary\": {\"aaxis\": {\"gridcolor\": \"white\", \"linecolor\": \"white\", \"ticks\": \"\"}, \"baxis\": {\"gridcolor\": \"white\", \"linecolor\": \"white\", \"ticks\": \"\"}, \"bgcolor\": \"#E5ECF6\", \"caxis\": {\"gridcolor\": \"white\", \"linecolor\": \"white\", \"ticks\": \"\"}}, \"title\": {\"x\": 0.05}, \"xaxis\": {\"automargin\": true, \"gridcolor\": \"white\", \"linecolor\": \"white\", \"ticks\": \"\", \"title\": {\"standoff\": 15}, \"zerolinecolor\": \"white\", \"zerolinewidth\": 2}, \"yaxis\": {\"automargin\": true, \"gridcolor\": \"white\", \"linecolor\": \"white\", \"ticks\": \"\", \"title\": {\"standoff\": 15}, \"zerolinecolor\": \"white\", \"zerolinewidth\": 2}}}, \"title\": {\"text\": \"Simulated CTR Values and Algorithm Regret\"}, \"xaxis\": {\"anchor\": \"y\", \"domain\": [0.0, 1.0], \"matches\": \"x2\", \"showticklabels\": false, \"title\": {\"text\": \"Trial Number\"}}, \"xaxis2\": {\"anchor\": \"y2\", \"domain\": [0.0, 1.0]}, \"yaxis\": {\"anchor\": \"x\", \"domain\": [0.575, 1.0], \"title\": {\"text\": \"CTR value\"}}, \"yaxis2\": {\"anchor\": \"x2\", \"domain\": [0.0, 0.425], \"title\": {\"text\": \"Regret Value\"}}},\n",
              "                        {\"responsive\": true}\n",
              "                    ).then(function(){\n",
              "                            \n",
              "var gd = document.getElementById('6adcb209-54e6-480a-94e2-5e7300168465');\n",
              "var x = new MutationObserver(function (mutations, observer) {{\n",
              "        var display = window.getComputedStyle(gd).display;\n",
              "        if (!display || display === 'none') {{\n",
              "            console.log([gd, 'removed!']);\n",
              "            Plotly.purge(gd);\n",
              "            observer.disconnect();\n",
              "        }}\n",
              "}});\n",
              "\n",
              "// Listen for the removal of the full notebook cells\n",
              "var notebookContainer = gd.closest('#notebook-container');\n",
              "if (notebookContainer) {{\n",
              "    x.observe(notebookContainer, {childList: true});\n",
              "}}\n",
              "\n",
              "// Listen for the clearing of the current output cell\n",
              "var outputEl = gd.closest('.output');\n",
              "if (outputEl) {{\n",
              "    x.observe(outputEl, {childList: true});\n",
              "}}\n",
              "\n",
              "                        })\n",
              "                };\n",
              "                \n",
              "            </script>\n",
              "        </div>\n",
              "</body>\n",
              "</html>"
            ]
          },
          "metadata": {
            "tags": []
          }
        }
      ]
    },
    {
      "cell_type": "markdown",
      "metadata": {
        "id": "jq7aZNv8RiQa",
        "colab_type": "text"
      },
      "source": [
        "Ta có thể thấy rằng regret tăng khi thuật toán cố gắng giảm độ không chắc chắc của CTR của quảng cáo #0 bằng cách chọn chiếu nó nhiều hơn.\n",
        "\n",
        "Nó có thể hữu dụng khi ta muốn mô hình chọn được quảng cáo tốt nhất thường xuyên hơn, nhưng vẫn quan tâm đến việc giảm sự độ không chắc chắn của cả hai quảng cáo."
      ]
    },
    {
      "cell_type": "markdown",
      "metadata": {
        "id": "eJXGAzToRkeN",
        "colab_type": "text"
      },
      "source": [
        "## Save result"
      ]
    },
    {
      "cell_type": "code",
      "metadata": {
        "id": "cxwWwvs8RfY3",
        "colab_type": "code",
        "colab": {}
      },
      "source": [
        "ucb1_dict = {'reward':total_reward, \n",
        "             'regret_list':regret_list, \n",
        "             'ads_count':pd.Series(index_list).value_counts(normalize=True)}"
      ],
      "execution_count": 0,
      "outputs": []
    },
    {
      "cell_type": "markdown",
      "metadata": {
        "id": "iQAvUH1BRry6",
        "colab_type": "text"
      },
      "source": [
        "# <a id='comparison'>So sánh và Kết luận</a> \n",
        "Đầu tiên, rõ ràng rằng ta muốn chiếu quảng cáo #1 thường xuyên hơn vì CTR thực tế của nó là 0.65. Hãy cùng nhìn xem tỷ lệ số lần quảng cáo đúng được chọn ở mỗi thuật toán."
      ]
    },
    {
      "cell_type": "code",
      "metadata": {
        "id": "FXqUWLpRRp4G",
        "colab_type": "code",
        "outputId": "be27a2a2-0a04-4a33-f12a-fc416d24966e",
        "colab": {
          "base_uri": "https://localhost:8080/",
          "height": 542
        }
      },
      "source": [
        "data1 = go.Bar(x=['Random Selection', 'Epsilon Greedy', 'Thompson Sampling', 'UCB1'],\n",
        "               y=[random_dict['ads_count'][0], \n",
        "                  epsilon_dict['ads_count'][0], \n",
        "                  thompson_dict['ads_count'][0],\n",
        "                  ucb1_dict['ads_count'][0]],\n",
        "               name='Ad #0',\n",
        "               marker=dict(color='rgba(10, 108, 94, .7)'))\n",
        "\n",
        "data2 = go.Bar(x=['Random Selection', 'Epsilon Greedy', 'Thompson Sampling', 'UCB1'],\n",
        "               y=[random_dict['ads_count'][1], \n",
        "                  epsilon_dict['ads_count'][1], \n",
        "                  thompson_dict['ads_count'][1],\n",
        "                  ucb1_dict['ads_count'][1]],\n",
        "               name='Ad #1',\n",
        "               marker=dict(color='rgba(187, 121, 24, .7)'))\n",
        "\n",
        "data = [data1, data2]\n",
        "layout = go.Layout(title='Ratio of appearance of both Ads throughout the trials',\n",
        "                   xaxis={'title': 'Algorithm'},\n",
        "                   yaxis={'title': 'Ratio'},\n",
        "                   barmode='stack')\n",
        "\n",
        "fig = go.Figure(data=data, layout=layout)\n",
        "iplot(fig)"
      ],
      "execution_count": 0,
      "outputs": [
        {
          "output_type": "display_data",
          "data": {
            "text/html": [
              "<html>\n",
              "<head><meta charset=\"utf-8\" /></head>\n",
              "<body>\n",
              "    <div>\n",
              "            <script src=\"https://cdnjs.cloudflare.com/ajax/libs/mathjax/2.7.5/MathJax.js?config=TeX-AMS-MML_SVG\"></script><script type=\"text/javascript\">if (window.MathJax) {MathJax.Hub.Config({SVG: {font: \"STIX-Web\"}});}</script>\n",
              "                <script type=\"text/javascript\">window.PlotlyConfig = {MathJaxConfig: 'local'};</script>\n",
              "        <script src=\"https://cdn.plot.ly/plotly-latest.min.js\"></script>    \n",
              "            <div id=\"f815efac-c6ad-48fb-bc38-acb3eaf5ed00\" class=\"plotly-graph-div\" style=\"height:525px; width:100%;\"></div>\n",
              "            <script type=\"text/javascript\">\n",
              "                \n",
              "                    window.PLOTLYENV=window.PLOTLYENV || {};\n",
              "                    \n",
              "                if (document.getElementById(\"f815efac-c6ad-48fb-bc38-acb3eaf5ed00\")) {\n",
              "                    Plotly.newPlot(\n",
              "                        'f815efac-c6ad-48fb-bc38-acb3eaf5ed00',\n",
              "                        [{\"marker\": {\"color\": \"rgba(10, 108, 94, .7)\"}, \"name\": \"Ad #0\", \"type\": \"bar\", \"x\": [\"Random Selection\", \"Epsilon Greedy\", \"Thompson Sampling\", \"UCB1\"], \"y\": [0.3, 0.24, 0.09, 0.24]}, {\"marker\": {\"color\": \"rgba(187, 121, 24, .7)\"}, \"name\": \"Ad #1\", \"type\": \"bar\", \"x\": [\"Random Selection\", \"Epsilon Greedy\", \"Thompson Sampling\", \"UCB1\"], \"y\": [0.7, 0.76, 0.91, 0.76]}],\n",
              "                        {\"barmode\": \"stack\", \"template\": {\"data\": {\"bar\": [{\"error_x\": {\"color\": \"#2a3f5f\"}, \"error_y\": {\"color\": \"#2a3f5f\"}, \"marker\": {\"line\": {\"color\": \"#E5ECF6\", \"width\": 0.5}}, \"type\": \"bar\"}], \"barpolar\": [{\"marker\": {\"line\": {\"color\": \"#E5ECF6\", \"width\": 0.5}}, \"type\": \"barpolar\"}], \"carpet\": [{\"aaxis\": {\"endlinecolor\": \"#2a3f5f\", \"gridcolor\": \"white\", \"linecolor\": \"white\", \"minorgridcolor\": \"white\", \"startlinecolor\": \"#2a3f5f\"}, \"baxis\": {\"endlinecolor\": \"#2a3f5f\", \"gridcolor\": \"white\", \"linecolor\": \"white\", \"minorgridcolor\": \"white\", \"startlinecolor\": \"#2a3f5f\"}, \"type\": \"carpet\"}], \"choropleth\": [{\"colorbar\": {\"outlinewidth\": 0, \"ticks\": \"\"}, \"type\": \"choropleth\"}], \"contour\": [{\"colorbar\": {\"outlinewidth\": 0, \"ticks\": \"\"}, \"colorscale\": [[0.0, \"#0d0887\"], [0.1111111111111111, \"#46039f\"], [0.2222222222222222, \"#7201a8\"], [0.3333333333333333, \"#9c179e\"], [0.4444444444444444, \"#bd3786\"], [0.5555555555555556, \"#d8576b\"], [0.6666666666666666, \"#ed7953\"], [0.7777777777777778, \"#fb9f3a\"], [0.8888888888888888, \"#fdca26\"], [1.0, \"#f0f921\"]], \"type\": \"contour\"}], \"contourcarpet\": [{\"colorbar\": {\"outlinewidth\": 0, \"ticks\": \"\"}, \"type\": \"contourcarpet\"}], \"heatmap\": [{\"colorbar\": {\"outlinewidth\": 0, \"ticks\": \"\"}, \"colorscale\": [[0.0, \"#0d0887\"], [0.1111111111111111, \"#46039f\"], [0.2222222222222222, \"#7201a8\"], [0.3333333333333333, \"#9c179e\"], [0.4444444444444444, \"#bd3786\"], [0.5555555555555556, \"#d8576b\"], [0.6666666666666666, \"#ed7953\"], [0.7777777777777778, \"#fb9f3a\"], [0.8888888888888888, \"#fdca26\"], [1.0, \"#f0f921\"]], \"type\": \"heatmap\"}], \"heatmapgl\": [{\"colorbar\": {\"outlinewidth\": 0, \"ticks\": \"\"}, \"colorscale\": [[0.0, \"#0d0887\"], [0.1111111111111111, \"#46039f\"], [0.2222222222222222, \"#7201a8\"], [0.3333333333333333, \"#9c179e\"], [0.4444444444444444, \"#bd3786\"], [0.5555555555555556, \"#d8576b\"], [0.6666666666666666, \"#ed7953\"], [0.7777777777777778, \"#fb9f3a\"], [0.8888888888888888, \"#fdca26\"], [1.0, \"#f0f921\"]], \"type\": \"heatmapgl\"}], \"histogram\": [{\"marker\": {\"colorbar\": {\"outlinewidth\": 0, \"ticks\": \"\"}}, \"type\": \"histogram\"}], \"histogram2d\": [{\"colorbar\": {\"outlinewidth\": 0, \"ticks\": \"\"}, \"colorscale\": [[0.0, \"#0d0887\"], [0.1111111111111111, \"#46039f\"], [0.2222222222222222, \"#7201a8\"], [0.3333333333333333, \"#9c179e\"], [0.4444444444444444, \"#bd3786\"], [0.5555555555555556, \"#d8576b\"], [0.6666666666666666, \"#ed7953\"], [0.7777777777777778, \"#fb9f3a\"], [0.8888888888888888, \"#fdca26\"], [1.0, \"#f0f921\"]], \"type\": \"histogram2d\"}], \"histogram2dcontour\": [{\"colorbar\": {\"outlinewidth\": 0, \"ticks\": \"\"}, \"colorscale\": [[0.0, \"#0d0887\"], [0.1111111111111111, \"#46039f\"], [0.2222222222222222, \"#7201a8\"], [0.3333333333333333, \"#9c179e\"], [0.4444444444444444, \"#bd3786\"], [0.5555555555555556, \"#d8576b\"], [0.6666666666666666, \"#ed7953\"], [0.7777777777777778, \"#fb9f3a\"], [0.8888888888888888, \"#fdca26\"], [1.0, \"#f0f921\"]], \"type\": \"histogram2dcontour\"}], \"mesh3d\": [{\"colorbar\": {\"outlinewidth\": 0, \"ticks\": \"\"}, \"type\": \"mesh3d\"}], \"parcoords\": [{\"line\": {\"colorbar\": {\"outlinewidth\": 0, \"ticks\": \"\"}}, \"type\": \"parcoords\"}], \"pie\": [{\"automargin\": true, \"type\": \"pie\"}], \"scatter\": [{\"marker\": {\"colorbar\": {\"outlinewidth\": 0, \"ticks\": \"\"}}, \"type\": \"scatter\"}], \"scatter3d\": [{\"line\": {\"colorbar\": {\"outlinewidth\": 0, \"ticks\": \"\"}}, \"marker\": {\"colorbar\": {\"outlinewidth\": 0, \"ticks\": \"\"}}, \"type\": \"scatter3d\"}], \"scattercarpet\": [{\"marker\": {\"colorbar\": {\"outlinewidth\": 0, \"ticks\": \"\"}}, \"type\": \"scattercarpet\"}], \"scattergeo\": [{\"marker\": {\"colorbar\": {\"outlinewidth\": 0, \"ticks\": \"\"}}, \"type\": \"scattergeo\"}], \"scattergl\": [{\"marker\": {\"colorbar\": {\"outlinewidth\": 0, \"ticks\": \"\"}}, \"type\": \"scattergl\"}], \"scattermapbox\": [{\"marker\": {\"colorbar\": {\"outlinewidth\": 0, \"ticks\": \"\"}}, \"type\": \"scattermapbox\"}], \"scatterpolar\": [{\"marker\": {\"colorbar\": {\"outlinewidth\": 0, \"ticks\": \"\"}}, \"type\": \"scatterpolar\"}], \"scatterpolargl\": [{\"marker\": {\"colorbar\": {\"outlinewidth\": 0, \"ticks\": \"\"}}, \"type\": \"scatterpolargl\"}], \"scatterternary\": [{\"marker\": {\"colorbar\": {\"outlinewidth\": 0, \"ticks\": \"\"}}, \"type\": \"scatterternary\"}], \"surface\": [{\"colorbar\": {\"outlinewidth\": 0, \"ticks\": \"\"}, \"colorscale\": [[0.0, \"#0d0887\"], [0.1111111111111111, \"#46039f\"], [0.2222222222222222, \"#7201a8\"], [0.3333333333333333, \"#9c179e\"], [0.4444444444444444, \"#bd3786\"], [0.5555555555555556, \"#d8576b\"], [0.6666666666666666, \"#ed7953\"], [0.7777777777777778, \"#fb9f3a\"], [0.8888888888888888, \"#fdca26\"], [1.0, \"#f0f921\"]], \"type\": \"surface\"}], \"table\": [{\"cells\": {\"fill\": {\"color\": \"#EBF0F8\"}, \"line\": {\"color\": \"white\"}}, \"header\": {\"fill\": {\"color\": \"#C8D4E3\"}, \"line\": {\"color\": \"white\"}}, \"type\": \"table\"}]}, \"layout\": {\"annotationdefaults\": {\"arrowcolor\": \"#2a3f5f\", \"arrowhead\": 0, \"arrowwidth\": 1}, \"coloraxis\": {\"colorbar\": {\"outlinewidth\": 0, \"ticks\": \"\"}}, \"colorscale\": {\"diverging\": [[0, \"#8e0152\"], [0.1, \"#c51b7d\"], [0.2, \"#de77ae\"], [0.3, \"#f1b6da\"], [0.4, \"#fde0ef\"], [0.5, \"#f7f7f7\"], [0.6, \"#e6f5d0\"], [0.7, \"#b8e186\"], [0.8, \"#7fbc41\"], [0.9, \"#4d9221\"], [1, \"#276419\"]], \"sequential\": [[0.0, \"#0d0887\"], [0.1111111111111111, \"#46039f\"], [0.2222222222222222, \"#7201a8\"], [0.3333333333333333, \"#9c179e\"], [0.4444444444444444, \"#bd3786\"], [0.5555555555555556, \"#d8576b\"], [0.6666666666666666, \"#ed7953\"], [0.7777777777777778, \"#fb9f3a\"], [0.8888888888888888, \"#fdca26\"], [1.0, \"#f0f921\"]], \"sequentialminus\": [[0.0, \"#0d0887\"], [0.1111111111111111, \"#46039f\"], [0.2222222222222222, \"#7201a8\"], [0.3333333333333333, \"#9c179e\"], [0.4444444444444444, \"#bd3786\"], [0.5555555555555556, \"#d8576b\"], [0.6666666666666666, \"#ed7953\"], [0.7777777777777778, \"#fb9f3a\"], [0.8888888888888888, \"#fdca26\"], [1.0, \"#f0f921\"]]}, \"colorway\": [\"#636efa\", \"#EF553B\", \"#00cc96\", \"#ab63fa\", \"#FFA15A\", \"#19d3f3\", \"#FF6692\", \"#B6E880\", \"#FF97FF\", \"#FECB52\"], \"font\": {\"color\": \"#2a3f5f\"}, \"geo\": {\"bgcolor\": \"white\", \"lakecolor\": \"white\", \"landcolor\": \"#E5ECF6\", \"showlakes\": true, \"showland\": true, \"subunitcolor\": \"white\"}, \"hoverlabel\": {\"align\": \"left\"}, \"hovermode\": \"closest\", \"mapbox\": {\"style\": \"light\"}, \"paper_bgcolor\": \"white\", \"plot_bgcolor\": \"#E5ECF6\", \"polar\": {\"angularaxis\": {\"gridcolor\": \"white\", \"linecolor\": \"white\", \"ticks\": \"\"}, \"bgcolor\": \"#E5ECF6\", \"radialaxis\": {\"gridcolor\": \"white\", \"linecolor\": \"white\", \"ticks\": \"\"}}, \"scene\": {\"xaxis\": {\"backgroundcolor\": \"#E5ECF6\", \"gridcolor\": \"white\", \"gridwidth\": 2, \"linecolor\": \"white\", \"showbackground\": true, \"ticks\": \"\", \"zerolinecolor\": \"white\"}, \"yaxis\": {\"backgroundcolor\": \"#E5ECF6\", \"gridcolor\": \"white\", \"gridwidth\": 2, \"linecolor\": \"white\", \"showbackground\": true, \"ticks\": \"\", \"zerolinecolor\": \"white\"}, \"zaxis\": {\"backgroundcolor\": \"#E5ECF6\", \"gridcolor\": \"white\", \"gridwidth\": 2, \"linecolor\": \"white\", \"showbackground\": true, \"ticks\": \"\", \"zerolinecolor\": \"white\"}}, \"shapedefaults\": {\"line\": {\"color\": \"#2a3f5f\"}}, \"ternary\": {\"aaxis\": {\"gridcolor\": \"white\", \"linecolor\": \"white\", \"ticks\": \"\"}, \"baxis\": {\"gridcolor\": \"white\", \"linecolor\": \"white\", \"ticks\": \"\"}, \"bgcolor\": \"#E5ECF6\", \"caxis\": {\"gridcolor\": \"white\", \"linecolor\": \"white\", \"ticks\": \"\"}}, \"title\": {\"x\": 0.05}, \"xaxis\": {\"automargin\": true, \"gridcolor\": \"white\", \"linecolor\": \"white\", \"ticks\": \"\", \"title\": {\"standoff\": 15}, \"zerolinecolor\": \"white\", \"zerolinewidth\": 2}, \"yaxis\": {\"automargin\": true, \"gridcolor\": \"white\", \"linecolor\": \"white\", \"ticks\": \"\", \"title\": {\"standoff\": 15}, \"zerolinecolor\": \"white\", \"zerolinewidth\": 2}}}, \"title\": {\"text\": \"Ratio of appearance of both Ads throughout the trials\"}, \"xaxis\": {\"title\": {\"text\": \"Algorithm\"}}, \"yaxis\": {\"title\": {\"text\": \"Ratio\"}}},\n",
              "                        {\"responsive\": true}\n",
              "                    ).then(function(){\n",
              "                            \n",
              "var gd = document.getElementById('f815efac-c6ad-48fb-bc38-acb3eaf5ed00');\n",
              "var x = new MutationObserver(function (mutations, observer) {{\n",
              "        var display = window.getComputedStyle(gd).display;\n",
              "        if (!display || display === 'none') {{\n",
              "            console.log([gd, 'removed!']);\n",
              "            Plotly.purge(gd);\n",
              "            observer.disconnect();\n",
              "        }}\n",
              "}});\n",
              "\n",
              "// Listen for the removal of the full notebook cells\n",
              "var notebookContainer = gd.closest('#notebook-container');\n",
              "if (notebookContainer) {{\n",
              "    x.observe(notebookContainer, {childList: true});\n",
              "}}\n",
              "\n",
              "// Listen for the clearing of the current output cell\n",
              "var outputEl = gd.closest('.output');\n",
              "if (outputEl) {{\n",
              "    x.observe(outputEl, {childList: true});\n",
              "}}\n",
              "\n",
              "                        })\n",
              "                };\n",
              "                \n",
              "            </script>\n",
              "        </div>\n",
              "</body>\n",
              "</html>"
            ]
          },
          "metadata": {
            "tags": []
          }
        }
      ]
    },
    {
      "cell_type": "markdown",
      "metadata": {
        "id": "G1z5OjB3SZK8",
        "colab_type": "text"
      },
      "source": [
        "Thuật toán trội hơn là Lấy mẫu Thompson và Epsilon-Greedy vì chúng chiếu đúng quảng cáo #1 hầu hết thời gian."
      ]
    },
    {
      "cell_type": "code",
      "metadata": {
        "id": "ZGcWhs21Ruwk",
        "colab_type": "code",
        "outputId": "b6b151b3-1174-4b6c-de11-bd22b73487c3",
        "colab": {
          "base_uri": "https://localhost:8080/",
          "height": 542
        }
      },
      "source": [
        "data1 = go.Scatter(\n",
        "    x=np.arange (0, n, 1),\n",
        "    y=random_dict['regret_list'],\n",
        "    name='Random Selection',\n",
        "    marker=dict(color='#ffcc66')\n",
        ")\n",
        "data2 = go.Scatter(\n",
        "    x=np.arange (0, n, 1),\n",
        "    y=epsilon_dict['regret_list'],\n",
        "    name='e-Greedy',\n",
        "    marker=dict(color='#0099ff')\n",
        ")\n",
        "data3 = go.Scatter(\n",
        "    x=np.arange (0, n, 1),\n",
        "    y=thompson_dict['regret_list'],\n",
        "    name='Thompson Sampling',\n",
        "    marker=dict(color='#ff3300')\n",
        ")\n",
        "data4 = go.Scatter(\n",
        "    x=np.arange (0, n, 1),\n",
        "    y=ucb1_dict['regret_list'],\n",
        "    name='UCB1',\n",
        "    marker=dict(color='#33cc33')\n",
        ")\n",
        "\n",
        "layout = go.Layout(\n",
        "    title='Regret by the Algorithm',\n",
        "    xaxis={'title': 'Trial'},\n",
        "    yaxis={'title': 'Regret'}\n",
        ")\n",
        "\n",
        "data = [data1, data2, data3, data4]\n",
        "fig = go.Figure(data=data, layout=layout)\n",
        "iplot(fig)"
      ],
      "execution_count": 0,
      "outputs": [
        {
          "output_type": "display_data",
          "data": {
            "text/html": [
              "<html>\n",
              "<head><meta charset=\"utf-8\" /></head>\n",
              "<body>\n",
              "    <div>\n",
              "            <script src=\"https://cdnjs.cloudflare.com/ajax/libs/mathjax/2.7.5/MathJax.js?config=TeX-AMS-MML_SVG\"></script><script type=\"text/javascript\">if (window.MathJax) {MathJax.Hub.Config({SVG: {font: \"STIX-Web\"}});}</script>\n",
              "                <script type=\"text/javascript\">window.PlotlyConfig = {MathJaxConfig: 'local'};</script>\n",
              "        <script src=\"https://cdn.plot.ly/plotly-latest.min.js\"></script>    \n",
              "            <div id=\"e7c2ab3c-00dc-4af7-bff5-772b8eaed547\" class=\"plotly-graph-div\" style=\"height:525px; width:100%;\"></div>\n",
              "            <script type=\"text/javascript\">\n",
              "                \n",
              "                    window.PLOTLYENV=window.PLOTLYENV || {};\n",
              "                    \n",
              "                if (document.getElementById(\"e7c2ab3c-00dc-4af7-bff5-772b8eaed547\")) {\n",
              "                    Plotly.newPlot(\n",
              "                        'e7c2ab3c-00dc-4af7-bff5-772b8eaed547',\n",
              "                        [{\"marker\": {\"color\": \"#ffcc66\"}, \"name\": \"Random Selection\", \"type\": \"scatter\", \"x\": [0, 1, 2, 3, 4, 5, 6, 7, 8, 9, 10, 11, 12, 13, 14, 15, 16, 17, 18, 19, 20, 21, 22, 23, 24, 25, 26, 27, 28, 29, 30, 31, 32, 33, 34, 35, 36, 37, 38, 39, 40, 41, 42, 43, 44, 45, 46, 47, 48, 49, 50, 51, 52, 53, 54, 55, 56, 57, 58, 59, 60, 61, 62, 63, 64, 65, 66, 67, 68, 69, 70, 71, 72, 73, 74, 75, 76, 77, 78, 79, 80, 81, 82, 83, 84, 85, 86, 87, 88, 89, 90, 91, 92, 93, 94, 95, 96, 97, 98, 99], \"y\": [0.0, 0.0, 0.0, 0.0, 0.0, 0.0, 0.0, 0.0, 0.0, 0.0, 0.2, 0.2, 0.2, 0.4, 0.6000000000000001, 0.8, 1.0, 1.0, 1.0, 1.2]}, {\"marker\": {\"color\": \"#0099ff\"}, \"name\": \"e-Greedy\", \"type\": \"scatter\", \"x\": [0, 1, 2, 3, 4, 5, 6, 7, 8, 9, 10, 11, 12, 13, 14, 15, 16, 17, 18, 19, 20, 21, 22, 23, 24, 25, 26, 27, 28, 29, 30, 31, 32, 33, 34, 35, 36, 37, 38, 39, 40, 41, 42, 43, 44, 45, 46, 47, 48, 49, 50, 51, 52, 53, 54, 55, 56, 57, 58, 59, 60, 61, 62, 63, 64, 65, 66, 67, 68, 69, 70, 71, 72, 73, 74, 75, 76, 77, 78, 79, 80, 81, 82, 83, 84, 85, 86, 87, 88, 89, 90, 91, 92, 93, 94, 95, 96, 97, 98, 99], \"y\": [0.2, 0.2, 0.4, 0.4, 0.6000000000000001, 0.6000000000000001, 0.8, 1.0, 1.0, 1.0, 1.0, 1.0, 1.0, 1.0, 1.2, 1.2, 1.2, 1.2, 1.2, 1.2, 1.2, 1.2, 1.2, 1.2, 1.2, 1.4, 1.5999999999999999, 1.5999999999999999, 1.5999999999999999, 1.5999999999999999, 1.5999999999999999, 1.7999999999999998, 1.7999999999999998, 1.7999999999999998, 1.7999999999999998, 1.9999999999999998, 1.9999999999999998, 1.9999999999999998, 1.9999999999999998, 1.9999999999999998, 1.9999999999999998, 1.9999999999999998, 1.9999999999999998, 1.9999999999999998, 1.9999999999999998, 1.9999999999999998, 1.9999999999999998, 1.9999999999999998, 2.1999999999999997, 2.4, 2.4, 2.6, 2.6, 2.6, 2.6, 2.6, 2.6, 2.6, 2.6, 2.8000000000000003, 3.0000000000000004, 3.2000000000000006, 3.2000000000000006, 3.400000000000001, 3.600000000000001, 3.800000000000001, 4.000000000000001, 4.000000000000001, 4.000000000000001, 4.000000000000001, 4.000000000000001, 4.000000000000001, 4.000000000000001, 4.000000000000001, 4.000000000000001, 4.200000000000001, 4.200000000000001, 4.200000000000001, 4.200000000000001, 4.200000000000001, 4.200000000000001, 4.200000000000001, 4.200000000000001, 4.200000000000001, 4.200000000000001, 4.400000000000001, 4.600000000000001, 4.600000000000001, 4.600000000000001, 4.600000000000001, 4.600000000000001, 4.600000000000001, 4.600000000000001, 4.600000000000001, 4.800000000000002, 4.800000000000002, 4.800000000000002, 4.800000000000002, 4.800000000000002, 4.800000000000002]}, {\"marker\": {\"color\": \"#ff3300\"}, \"name\": \"Thompson Sampling\", \"type\": \"scatter\", \"x\": [0, 1, 2, 3, 4, 5, 6, 7, 8, 9, 10, 11, 12, 13, 14, 15, 16, 17, 18, 19, 20, 21, 22, 23, 24, 25, 26, 27, 28, 29, 30, 31, 32, 33, 34, 35, 36, 37, 38, 39, 40, 41, 42, 43, 44, 45, 46, 47, 48, 49, 50, 51, 52, 53, 54, 55, 56, 57, 58, 59, 60, 61, 62, 63, 64, 65, 66, 67, 68, 69, 70, 71, 72, 73, 74, 75, 76, 77, 78, 79, 80, 81, 82, 83, 84, 85, 86, 87, 88, 89, 90, 91, 92, 93, 94, 95, 96, 97, 98, 99], \"y\": [0.0, 0.2, 0.4, 0.4, 0.4, 0.4, 0.4, 0.4, 0.4, 0.4, 0.4, 0.4, 0.4, 0.4, 0.4, 0.4, 0.4, 0.4, 0.4, 0.4, 0.4, 0.4, 0.4, 0.4, 0.4, 0.4, 0.4, 0.6000000000000001, 0.6000000000000001, 0.6000000000000001, 0.6000000000000001, 0.6000000000000001, 0.6000000000000001, 0.8, 1.0, 1.0, 1.0, 1.0, 1.0, 1.2, 1.2, 1.2, 1.2, 1.2, 1.4, 1.4, 1.4, 1.5999999999999999, 1.5999999999999999, 1.5999999999999999, 1.5999999999999999, 1.5999999999999999, 1.5999999999999999, 1.5999999999999999, 1.5999999999999999, 1.5999999999999999, 1.5999999999999999, 1.5999999999999999, 1.5999999999999999, 1.5999999999999999, 1.5999999999999999, 1.5999999999999999, 1.5999999999999999, 1.7999999999999998, 1.7999999999999998, 1.7999999999999998, 1.7999999999999998, 1.7999999999999998, 1.7999999999999998, 1.7999999999999998, 1.7999999999999998, 1.7999999999999998, 1.7999999999999998, 1.7999999999999998, 1.7999999999999998, 1.7999999999999998, 1.7999999999999998, 1.7999999999999998, 1.7999999999999998, 1.7999999999999998, 1.7999999999999998, 1.7999999999999998, 1.7999999999999998, 1.7999999999999998, 1.7999999999999998, 1.7999999999999998, 1.7999999999999998, 1.7999999999999998, 1.7999999999999998, 1.7999999999999998, 1.7999999999999998, 1.7999999999999998, 1.7999999999999998, 1.7999999999999998, 1.7999999999999998, 1.7999999999999998, 1.7999999999999998, 1.7999999999999998, 1.7999999999999998, 1.7999999999999998]}, {\"marker\": {\"color\": \"#33cc33\"}, \"name\": \"UCB1\", \"type\": \"scatter\", \"x\": [0, 1, 2, 3, 4, 5, 6, 7, 8, 9, 10, 11, 12, 13, 14, 15, 16, 17, 18, 19, 20, 21, 22, 23, 24, 25, 26, 27, 28, 29, 30, 31, 32, 33, 34, 35, 36, 37, 38, 39, 40, 41, 42, 43, 44, 45, 46, 47, 48, 49, 50, 51, 52, 53, 54, 55, 56, 57, 58, 59, 60, 61, 62, 63, 64, 65, 66, 67, 68, 69, 70, 71, 72, 73, 74, 75, 76, 77, 78, 79, 80, 81, 82, 83, 84, 85, 86, 87, 88, 89, 90, 91, 92, 93, 94, 95, 96, 97, 98, 99], \"y\": [0.2, 0.2, 0.4, 0.4, 0.6000000000000001, 0.6000000000000001, 0.8, 1.0, 1.0, 1.0, 1.0, 1.0, 1.0, 1.0, 1.2, 1.2, 1.2, 1.2, 1.2, 1.2, 1.2, 1.2, 1.2, 1.2, 1.2, 1.4, 1.5999999999999999, 1.5999999999999999, 1.5999999999999999, 1.5999999999999999, 1.5999999999999999, 1.7999999999999998, 1.7999999999999998, 1.7999999999999998, 1.7999999999999998, 1.9999999999999998, 1.9999999999999998, 1.9999999999999998, 1.9999999999999998, 1.9999999999999998, 1.9999999999999998, 1.9999999999999998, 1.9999999999999998, 1.9999999999999998, 1.9999999999999998, 1.9999999999999998, 1.9999999999999998, 1.9999999999999998, 2.1999999999999997, 2.4, 2.4, 2.6, 2.6, 2.6, 2.6, 2.6, 2.6, 2.6, 2.6, 2.8000000000000003, 3.0000000000000004, 3.2000000000000006, 3.2000000000000006, 3.400000000000001, 3.600000000000001, 3.800000000000001, 4.000000000000001, 4.000000000000001, 4.000000000000001, 4.000000000000001, 4.000000000000001, 4.000000000000001, 4.000000000000001, 4.000000000000001, 4.000000000000001, 4.200000000000001, 4.200000000000001, 4.200000000000001, 4.200000000000001, 4.200000000000001, 4.200000000000001, 4.200000000000001, 4.200000000000001, 4.200000000000001, 4.200000000000001, 4.400000000000001, 4.600000000000001, 4.600000000000001, 4.600000000000001, 4.600000000000001, 4.600000000000001, 4.600000000000001, 4.600000000000001, 4.600000000000001, 4.800000000000002, 4.800000000000002, 4.800000000000002, 4.800000000000002, 4.800000000000002, 4.800000000000002]}],\n",
              "                        {\"template\": {\"data\": {\"bar\": [{\"error_x\": {\"color\": \"#2a3f5f\"}, \"error_y\": {\"color\": \"#2a3f5f\"}, \"marker\": {\"line\": {\"color\": \"#E5ECF6\", \"width\": 0.5}}, \"type\": \"bar\"}], \"barpolar\": [{\"marker\": {\"line\": {\"color\": \"#E5ECF6\", \"width\": 0.5}}, \"type\": \"barpolar\"}], \"carpet\": [{\"aaxis\": {\"endlinecolor\": \"#2a3f5f\", \"gridcolor\": \"white\", \"linecolor\": \"white\", \"minorgridcolor\": \"white\", \"startlinecolor\": \"#2a3f5f\"}, \"baxis\": {\"endlinecolor\": \"#2a3f5f\", \"gridcolor\": \"white\", \"linecolor\": \"white\", \"minorgridcolor\": \"white\", \"startlinecolor\": \"#2a3f5f\"}, \"type\": \"carpet\"}], \"choropleth\": [{\"colorbar\": {\"outlinewidth\": 0, \"ticks\": \"\"}, \"type\": \"choropleth\"}], \"contour\": [{\"colorbar\": {\"outlinewidth\": 0, \"ticks\": \"\"}, \"colorscale\": [[0.0, \"#0d0887\"], [0.1111111111111111, \"#46039f\"], [0.2222222222222222, \"#7201a8\"], [0.3333333333333333, \"#9c179e\"], [0.4444444444444444, \"#bd3786\"], [0.5555555555555556, \"#d8576b\"], [0.6666666666666666, \"#ed7953\"], [0.7777777777777778, \"#fb9f3a\"], [0.8888888888888888, \"#fdca26\"], [1.0, \"#f0f921\"]], \"type\": \"contour\"}], \"contourcarpet\": [{\"colorbar\": {\"outlinewidth\": 0, \"ticks\": \"\"}, \"type\": \"contourcarpet\"}], \"heatmap\": [{\"colorbar\": {\"outlinewidth\": 0, \"ticks\": \"\"}, \"colorscale\": [[0.0, \"#0d0887\"], [0.1111111111111111, \"#46039f\"], [0.2222222222222222, \"#7201a8\"], [0.3333333333333333, \"#9c179e\"], [0.4444444444444444, \"#bd3786\"], [0.5555555555555556, \"#d8576b\"], [0.6666666666666666, \"#ed7953\"], [0.7777777777777778, \"#fb9f3a\"], [0.8888888888888888, \"#fdca26\"], [1.0, \"#f0f921\"]], \"type\": \"heatmap\"}], \"heatmapgl\": [{\"colorbar\": {\"outlinewidth\": 0, \"ticks\": \"\"}, \"colorscale\": [[0.0, \"#0d0887\"], [0.1111111111111111, \"#46039f\"], [0.2222222222222222, \"#7201a8\"], [0.3333333333333333, \"#9c179e\"], [0.4444444444444444, \"#bd3786\"], [0.5555555555555556, \"#d8576b\"], [0.6666666666666666, \"#ed7953\"], [0.7777777777777778, \"#fb9f3a\"], [0.8888888888888888, \"#fdca26\"], [1.0, \"#f0f921\"]], \"type\": \"heatmapgl\"}], \"histogram\": [{\"marker\": {\"colorbar\": {\"outlinewidth\": 0, \"ticks\": \"\"}}, \"type\": \"histogram\"}], \"histogram2d\": [{\"colorbar\": {\"outlinewidth\": 0, \"ticks\": \"\"}, \"colorscale\": [[0.0, \"#0d0887\"], [0.1111111111111111, \"#46039f\"], [0.2222222222222222, \"#7201a8\"], [0.3333333333333333, \"#9c179e\"], [0.4444444444444444, \"#bd3786\"], [0.5555555555555556, \"#d8576b\"], [0.6666666666666666, \"#ed7953\"], [0.7777777777777778, \"#fb9f3a\"], [0.8888888888888888, \"#fdca26\"], [1.0, \"#f0f921\"]], \"type\": \"histogram2d\"}], \"histogram2dcontour\": [{\"colorbar\": {\"outlinewidth\": 0, \"ticks\": \"\"}, \"colorscale\": [[0.0, \"#0d0887\"], [0.1111111111111111, \"#46039f\"], [0.2222222222222222, \"#7201a8\"], [0.3333333333333333, \"#9c179e\"], [0.4444444444444444, \"#bd3786\"], [0.5555555555555556, \"#d8576b\"], [0.6666666666666666, \"#ed7953\"], [0.7777777777777778, \"#fb9f3a\"], [0.8888888888888888, \"#fdca26\"], [1.0, \"#f0f921\"]], \"type\": \"histogram2dcontour\"}], \"mesh3d\": [{\"colorbar\": {\"outlinewidth\": 0, \"ticks\": \"\"}, \"type\": \"mesh3d\"}], \"parcoords\": [{\"line\": {\"colorbar\": {\"outlinewidth\": 0, \"ticks\": \"\"}}, \"type\": \"parcoords\"}], \"pie\": [{\"automargin\": true, \"type\": \"pie\"}], \"scatter\": [{\"marker\": {\"colorbar\": {\"outlinewidth\": 0, \"ticks\": \"\"}}, \"type\": \"scatter\"}], \"scatter3d\": [{\"line\": {\"colorbar\": {\"outlinewidth\": 0, \"ticks\": \"\"}}, \"marker\": {\"colorbar\": {\"outlinewidth\": 0, \"ticks\": \"\"}}, \"type\": \"scatter3d\"}], \"scattercarpet\": [{\"marker\": {\"colorbar\": {\"outlinewidth\": 0, \"ticks\": \"\"}}, \"type\": \"scattercarpet\"}], \"scattergeo\": [{\"marker\": {\"colorbar\": {\"outlinewidth\": 0, \"ticks\": \"\"}}, \"type\": \"scattergeo\"}], \"scattergl\": [{\"marker\": {\"colorbar\": {\"outlinewidth\": 0, \"ticks\": \"\"}}, \"type\": \"scattergl\"}], \"scattermapbox\": [{\"marker\": {\"colorbar\": {\"outlinewidth\": 0, \"ticks\": \"\"}}, \"type\": \"scattermapbox\"}], \"scatterpolar\": [{\"marker\": {\"colorbar\": {\"outlinewidth\": 0, \"ticks\": \"\"}}, \"type\": \"scatterpolar\"}], \"scatterpolargl\": [{\"marker\": {\"colorbar\": {\"outlinewidth\": 0, \"ticks\": \"\"}}, \"type\": \"scatterpolargl\"}], \"scatterternary\": [{\"marker\": {\"colorbar\": {\"outlinewidth\": 0, \"ticks\": \"\"}}, \"type\": \"scatterternary\"}], \"surface\": [{\"colorbar\": {\"outlinewidth\": 0, \"ticks\": \"\"}, \"colorscale\": [[0.0, \"#0d0887\"], [0.1111111111111111, \"#46039f\"], [0.2222222222222222, \"#7201a8\"], [0.3333333333333333, \"#9c179e\"], [0.4444444444444444, \"#bd3786\"], [0.5555555555555556, \"#d8576b\"], [0.6666666666666666, \"#ed7953\"], [0.7777777777777778, \"#fb9f3a\"], [0.8888888888888888, \"#fdca26\"], [1.0, \"#f0f921\"]], \"type\": \"surface\"}], \"table\": [{\"cells\": {\"fill\": {\"color\": \"#EBF0F8\"}, \"line\": {\"color\": \"white\"}}, \"header\": {\"fill\": {\"color\": \"#C8D4E3\"}, \"line\": {\"color\": \"white\"}}, \"type\": \"table\"}]}, \"layout\": {\"annotationdefaults\": {\"arrowcolor\": \"#2a3f5f\", \"arrowhead\": 0, \"arrowwidth\": 1}, \"coloraxis\": {\"colorbar\": {\"outlinewidth\": 0, \"ticks\": \"\"}}, \"colorscale\": {\"diverging\": [[0, \"#8e0152\"], [0.1, \"#c51b7d\"], [0.2, \"#de77ae\"], [0.3, \"#f1b6da\"], [0.4, \"#fde0ef\"], [0.5, \"#f7f7f7\"], [0.6, \"#e6f5d0\"], [0.7, \"#b8e186\"], [0.8, \"#7fbc41\"], [0.9, \"#4d9221\"], [1, \"#276419\"]], \"sequential\": [[0.0, \"#0d0887\"], [0.1111111111111111, \"#46039f\"], [0.2222222222222222, \"#7201a8\"], [0.3333333333333333, \"#9c179e\"], [0.4444444444444444, \"#bd3786\"], [0.5555555555555556, \"#d8576b\"], [0.6666666666666666, \"#ed7953\"], [0.7777777777777778, \"#fb9f3a\"], [0.8888888888888888, \"#fdca26\"], [1.0, \"#f0f921\"]], \"sequentialminus\": [[0.0, \"#0d0887\"], [0.1111111111111111, \"#46039f\"], [0.2222222222222222, \"#7201a8\"], [0.3333333333333333, \"#9c179e\"], [0.4444444444444444, \"#bd3786\"], [0.5555555555555556, \"#d8576b\"], [0.6666666666666666, \"#ed7953\"], [0.7777777777777778, \"#fb9f3a\"], [0.8888888888888888, \"#fdca26\"], [1.0, \"#f0f921\"]]}, \"colorway\": [\"#636efa\", \"#EF553B\", \"#00cc96\", \"#ab63fa\", \"#FFA15A\", \"#19d3f3\", \"#FF6692\", \"#B6E880\", \"#FF97FF\", \"#FECB52\"], \"font\": {\"color\": \"#2a3f5f\"}, \"geo\": {\"bgcolor\": \"white\", \"lakecolor\": \"white\", \"landcolor\": \"#E5ECF6\", \"showlakes\": true, \"showland\": true, \"subunitcolor\": \"white\"}, \"hoverlabel\": {\"align\": \"left\"}, \"hovermode\": \"closest\", \"mapbox\": {\"style\": \"light\"}, \"paper_bgcolor\": \"white\", \"plot_bgcolor\": \"#E5ECF6\", \"polar\": {\"angularaxis\": {\"gridcolor\": \"white\", \"linecolor\": \"white\", \"ticks\": \"\"}, \"bgcolor\": \"#E5ECF6\", \"radialaxis\": {\"gridcolor\": \"white\", \"linecolor\": \"white\", \"ticks\": \"\"}}, \"scene\": {\"xaxis\": {\"backgroundcolor\": \"#E5ECF6\", \"gridcolor\": \"white\", \"gridwidth\": 2, \"linecolor\": \"white\", \"showbackground\": true, \"ticks\": \"\", \"zerolinecolor\": \"white\"}, \"yaxis\": {\"backgroundcolor\": \"#E5ECF6\", \"gridcolor\": \"white\", \"gridwidth\": 2, \"linecolor\": \"white\", \"showbackground\": true, \"ticks\": \"\", \"zerolinecolor\": \"white\"}, \"zaxis\": {\"backgroundcolor\": \"#E5ECF6\", \"gridcolor\": \"white\", \"gridwidth\": 2, \"linecolor\": \"white\", \"showbackground\": true, \"ticks\": \"\", \"zerolinecolor\": \"white\"}}, \"shapedefaults\": {\"line\": {\"color\": \"#2a3f5f\"}}, \"ternary\": {\"aaxis\": {\"gridcolor\": \"white\", \"linecolor\": \"white\", \"ticks\": \"\"}, \"baxis\": {\"gridcolor\": \"white\", \"linecolor\": \"white\", \"ticks\": \"\"}, \"bgcolor\": \"#E5ECF6\", \"caxis\": {\"gridcolor\": \"white\", \"linecolor\": \"white\", \"ticks\": \"\"}}, \"title\": {\"x\": 0.05}, \"xaxis\": {\"automargin\": true, \"gridcolor\": \"white\", \"linecolor\": \"white\", \"ticks\": \"\", \"title\": {\"standoff\": 15}, \"zerolinecolor\": \"white\", \"zerolinewidth\": 2}, \"yaxis\": {\"automargin\": true, \"gridcolor\": \"white\", \"linecolor\": \"white\", \"ticks\": \"\", \"title\": {\"standoff\": 15}, \"zerolinecolor\": \"white\", \"zerolinewidth\": 2}}}, \"title\": {\"text\": \"Regret by the Algorithm\"}, \"xaxis\": {\"title\": {\"text\": \"Trial\"}}, \"yaxis\": {\"title\": {\"text\": \"Regret\"}}},\n",
              "                        {\"responsive\": true}\n",
              "                    ).then(function(){\n",
              "                            \n",
              "var gd = document.getElementById('e7c2ab3c-00dc-4af7-bff5-772b8eaed547');\n",
              "var x = new MutationObserver(function (mutations, observer) {{\n",
              "        var display = window.getComputedStyle(gd).display;\n",
              "        if (!display || display === 'none') {{\n",
              "            console.log([gd, 'removed!']);\n",
              "            Plotly.purge(gd);\n",
              "            observer.disconnect();\n",
              "        }}\n",
              "}});\n",
              "\n",
              "// Listen for the removal of the full notebook cells\n",
              "var notebookContainer = gd.closest('#notebook-container');\n",
              "if (notebookContainer) {{\n",
              "    x.observe(notebookContainer, {childList: true});\n",
              "}}\n",
              "\n",
              "// Listen for the clearing of the current output cell\n",
              "var outputEl = gd.closest('.output');\n",
              "if (outputEl) {{\n",
              "    x.observe(outputEl, {childList: true});\n",
              "}}\n",
              "\n",
              "                        })\n",
              "                };\n",
              "                \n",
              "            </script>\n",
              "        </div>\n",
              "</body>\n",
              "</html>"
            ]
          },
          "metadata": {
            "tags": []
          }
        }
      ]
    },
    {
      "cell_type": "markdown",
      "metadata": {
        "id": "9vzI2H1dTEjd",
        "colab_type": "text"
      },
      "source": [
        "Khi nói đến thuật toán Lấy mẫu Thompson và Epsilon-Greedy đã chọn quảng cáo với CTR cao hơn (#1) trong hầu hết lượt chiết, không ngạc nhiên vì nó cho giá trị regret của chúng là thấp nhất."
      ]
    },
    {
      "cell_type": "code",
      "metadata": {
        "id": "88hoTp_BS7fv",
        "colab_type": "code",
        "outputId": "a49e2617-f79c-4631-9ddc-c0e75f05efbe",
        "colab": {
          "base_uri": "https://localhost:8080/",
          "height": 542
        }
      },
      "source": [
        "data = go.Bar(\n",
        "    x=[ucb1_dict['reward'], thompson_dict['reward'], epsilon_dict['reward'], random_dict['reward']],\n",
        "    y=['UCB1', 'Thompson Sampling', 'e-Greedy','Random Selection'],\n",
        "    orientation = 'h',\n",
        "    marker=dict(color=['#33cc33', '#ff3300', '#0099ff', '#ffcc66']),\n",
        "    opacity=0.7\n",
        ")\n",
        "\n",
        "text = go.Scatter(\n",
        "    x=[ucb1_dict['reward'], thompson_dict['reward'], epsilon_dict['reward'], random_dict['reward']],\n",
        "    y=['UCB1', 'Thompson Sampling', 'e-Greedy', 'Random Selection'],\n",
        "    mode='text',\n",
        "    text=[ucb1_dict['reward'], thompson_dict['reward'], epsilon_dict['reward'], random_dict['reward']],\n",
        "    textposition='middle left',\n",
        "    line = dict(\n",
        "        color = ('rgba(255,141,41,0.6)'),\n",
        "        width = 1\n",
        "    ),\n",
        "    textfont=dict(\n",
        "        family='sans serif',\n",
        "        size=16,\n",
        "        color='#000000'\n",
        "    )\n",
        ")\n",
        "\n",
        "data = [data,text]\n",
        "\n",
        "layout = go.Layout(\n",
        "    title='Total Reward by Algorithms',\n",
        "    xaxis={'title': 'Total Reward (Clicks)'},\n",
        "    margin={'l':200},\n",
        "    showlegend=False\n",
        ")\n",
        "\n",
        "fig = go.Figure(data=data, layout=layout)\n",
        "iplot(fig)"
      ],
      "execution_count": 0,
      "outputs": [
        {
          "output_type": "display_data",
          "data": {
            "text/html": [
              "<html>\n",
              "<head><meta charset=\"utf-8\" /></head>\n",
              "<body>\n",
              "    <div>\n",
              "            <script src=\"https://cdnjs.cloudflare.com/ajax/libs/mathjax/2.7.5/MathJax.js?config=TeX-AMS-MML_SVG\"></script><script type=\"text/javascript\">if (window.MathJax) {MathJax.Hub.Config({SVG: {font: \"STIX-Web\"}});}</script>\n",
              "                <script type=\"text/javascript\">window.PlotlyConfig = {MathJaxConfig: 'local'};</script>\n",
              "        <script src=\"https://cdn.plot.ly/plotly-latest.min.js\"></script>    \n",
              "            <div id=\"f64ed78c-7cf3-43ef-8335-84c318151a90\" class=\"plotly-graph-div\" style=\"height:525px; width:100%;\"></div>\n",
              "            <script type=\"text/javascript\">\n",
              "                \n",
              "                    window.PLOTLYENV=window.PLOTLYENV || {};\n",
              "                    \n",
              "                if (document.getElementById(\"f64ed78c-7cf3-43ef-8335-84c318151a90\")) {\n",
              "                    Plotly.newPlot(\n",
              "                        'f64ed78c-7cf3-43ef-8335-84c318151a90',\n",
              "                        [{\"marker\": {\"color\": [\"#33cc33\", \"#ff3300\", \"#0099ff\", \"#ffcc66\"]}, \"opacity\": 0.7, \"orientation\": \"h\", \"type\": \"bar\", \"x\": [60, 70, 60, 14], \"y\": [\"UCB1\", \"Thompson Sampling\", \"e-Greedy\", \"Random Selection\"]}, {\"line\": {\"color\": \"rgba(255,141,41,0.6)\", \"width\": 1}, \"mode\": \"text\", \"text\": [\"60\", \"70\", \"60\", \"14\"], \"textfont\": {\"color\": \"#000000\", \"family\": \"sans serif\", \"size\": 16}, \"textposition\": \"middle left\", \"type\": \"scatter\", \"x\": [60, 70, 60, 14], \"y\": [\"UCB1\", \"Thompson Sampling\", \"e-Greedy\", \"Random Selection\"]}],\n",
              "                        {\"margin\": {\"l\": 200}, \"showlegend\": false, \"template\": {\"data\": {\"bar\": [{\"error_x\": {\"color\": \"#2a3f5f\"}, \"error_y\": {\"color\": \"#2a3f5f\"}, \"marker\": {\"line\": {\"color\": \"#E5ECF6\", \"width\": 0.5}}, \"type\": \"bar\"}], \"barpolar\": [{\"marker\": {\"line\": {\"color\": \"#E5ECF6\", \"width\": 0.5}}, \"type\": \"barpolar\"}], \"carpet\": [{\"aaxis\": {\"endlinecolor\": \"#2a3f5f\", \"gridcolor\": \"white\", \"linecolor\": \"white\", \"minorgridcolor\": \"white\", \"startlinecolor\": \"#2a3f5f\"}, \"baxis\": {\"endlinecolor\": \"#2a3f5f\", \"gridcolor\": \"white\", \"linecolor\": \"white\", \"minorgridcolor\": \"white\", \"startlinecolor\": \"#2a3f5f\"}, \"type\": \"carpet\"}], \"choropleth\": [{\"colorbar\": {\"outlinewidth\": 0, \"ticks\": \"\"}, \"type\": \"choropleth\"}], \"contour\": [{\"colorbar\": {\"outlinewidth\": 0, \"ticks\": \"\"}, \"colorscale\": [[0.0, \"#0d0887\"], [0.1111111111111111, \"#46039f\"], [0.2222222222222222, \"#7201a8\"], [0.3333333333333333, \"#9c179e\"], [0.4444444444444444, \"#bd3786\"], [0.5555555555555556, \"#d8576b\"], [0.6666666666666666, \"#ed7953\"], [0.7777777777777778, \"#fb9f3a\"], [0.8888888888888888, \"#fdca26\"], [1.0, \"#f0f921\"]], \"type\": \"contour\"}], \"contourcarpet\": [{\"colorbar\": {\"outlinewidth\": 0, \"ticks\": \"\"}, \"type\": \"contourcarpet\"}], \"heatmap\": [{\"colorbar\": {\"outlinewidth\": 0, \"ticks\": \"\"}, \"colorscale\": [[0.0, \"#0d0887\"], [0.1111111111111111, \"#46039f\"], [0.2222222222222222, \"#7201a8\"], [0.3333333333333333, \"#9c179e\"], [0.4444444444444444, \"#bd3786\"], [0.5555555555555556, \"#d8576b\"], [0.6666666666666666, \"#ed7953\"], [0.7777777777777778, \"#fb9f3a\"], [0.8888888888888888, \"#fdca26\"], [1.0, \"#f0f921\"]], \"type\": \"heatmap\"}], \"heatmapgl\": [{\"colorbar\": {\"outlinewidth\": 0, \"ticks\": \"\"}, \"colorscale\": [[0.0, \"#0d0887\"], [0.1111111111111111, \"#46039f\"], [0.2222222222222222, \"#7201a8\"], [0.3333333333333333, \"#9c179e\"], [0.4444444444444444, \"#bd3786\"], [0.5555555555555556, \"#d8576b\"], [0.6666666666666666, \"#ed7953\"], [0.7777777777777778, \"#fb9f3a\"], [0.8888888888888888, \"#fdca26\"], [1.0, \"#f0f921\"]], \"type\": \"heatmapgl\"}], \"histogram\": [{\"marker\": {\"colorbar\": {\"outlinewidth\": 0, \"ticks\": \"\"}}, \"type\": \"histogram\"}], \"histogram2d\": [{\"colorbar\": {\"outlinewidth\": 0, \"ticks\": \"\"}, \"colorscale\": [[0.0, \"#0d0887\"], [0.1111111111111111, \"#46039f\"], [0.2222222222222222, \"#7201a8\"], [0.3333333333333333, \"#9c179e\"], [0.4444444444444444, \"#bd3786\"], [0.5555555555555556, \"#d8576b\"], [0.6666666666666666, \"#ed7953\"], [0.7777777777777778, \"#fb9f3a\"], [0.8888888888888888, \"#fdca26\"], [1.0, \"#f0f921\"]], \"type\": \"histogram2d\"}], \"histogram2dcontour\": [{\"colorbar\": {\"outlinewidth\": 0, \"ticks\": \"\"}, \"colorscale\": [[0.0, \"#0d0887\"], [0.1111111111111111, \"#46039f\"], [0.2222222222222222, \"#7201a8\"], [0.3333333333333333, \"#9c179e\"], [0.4444444444444444, \"#bd3786\"], [0.5555555555555556, \"#d8576b\"], [0.6666666666666666, \"#ed7953\"], [0.7777777777777778, \"#fb9f3a\"], [0.8888888888888888, \"#fdca26\"], [1.0, \"#f0f921\"]], \"type\": \"histogram2dcontour\"}], \"mesh3d\": [{\"colorbar\": {\"outlinewidth\": 0, \"ticks\": \"\"}, \"type\": \"mesh3d\"}], \"parcoords\": [{\"line\": {\"colorbar\": {\"outlinewidth\": 0, \"ticks\": \"\"}}, \"type\": \"parcoords\"}], \"pie\": [{\"automargin\": true, \"type\": \"pie\"}], \"scatter\": [{\"marker\": {\"colorbar\": {\"outlinewidth\": 0, \"ticks\": \"\"}}, \"type\": \"scatter\"}], \"scatter3d\": [{\"line\": {\"colorbar\": {\"outlinewidth\": 0, \"ticks\": \"\"}}, \"marker\": {\"colorbar\": {\"outlinewidth\": 0, \"ticks\": \"\"}}, \"type\": \"scatter3d\"}], \"scattercarpet\": [{\"marker\": {\"colorbar\": {\"outlinewidth\": 0, \"ticks\": \"\"}}, \"type\": \"scattercarpet\"}], \"scattergeo\": [{\"marker\": {\"colorbar\": {\"outlinewidth\": 0, \"ticks\": \"\"}}, \"type\": \"scattergeo\"}], \"scattergl\": [{\"marker\": {\"colorbar\": {\"outlinewidth\": 0, \"ticks\": \"\"}}, \"type\": \"scattergl\"}], \"scattermapbox\": [{\"marker\": {\"colorbar\": {\"outlinewidth\": 0, \"ticks\": \"\"}}, \"type\": \"scattermapbox\"}], \"scatterpolar\": [{\"marker\": {\"colorbar\": {\"outlinewidth\": 0, \"ticks\": \"\"}}, \"type\": \"scatterpolar\"}], \"scatterpolargl\": [{\"marker\": {\"colorbar\": {\"outlinewidth\": 0, \"ticks\": \"\"}}, \"type\": \"scatterpolargl\"}], \"scatterternary\": [{\"marker\": {\"colorbar\": {\"outlinewidth\": 0, \"ticks\": \"\"}}, \"type\": \"scatterternary\"}], \"surface\": [{\"colorbar\": {\"outlinewidth\": 0, \"ticks\": \"\"}, \"colorscale\": [[0.0, \"#0d0887\"], [0.1111111111111111, \"#46039f\"], [0.2222222222222222, \"#7201a8\"], [0.3333333333333333, \"#9c179e\"], [0.4444444444444444, \"#bd3786\"], [0.5555555555555556, \"#d8576b\"], [0.6666666666666666, \"#ed7953\"], [0.7777777777777778, \"#fb9f3a\"], [0.8888888888888888, \"#fdca26\"], [1.0, \"#f0f921\"]], \"type\": \"surface\"}], \"table\": [{\"cells\": {\"fill\": {\"color\": \"#EBF0F8\"}, \"line\": {\"color\": \"white\"}}, \"header\": {\"fill\": {\"color\": \"#C8D4E3\"}, \"line\": {\"color\": \"white\"}}, \"type\": \"table\"}]}, \"layout\": {\"annotationdefaults\": {\"arrowcolor\": \"#2a3f5f\", \"arrowhead\": 0, \"arrowwidth\": 1}, \"coloraxis\": {\"colorbar\": {\"outlinewidth\": 0, \"ticks\": \"\"}}, \"colorscale\": {\"diverging\": [[0, \"#8e0152\"], [0.1, \"#c51b7d\"], [0.2, \"#de77ae\"], [0.3, \"#f1b6da\"], [0.4, \"#fde0ef\"], [0.5, \"#f7f7f7\"], [0.6, \"#e6f5d0\"], [0.7, \"#b8e186\"], [0.8, \"#7fbc41\"], [0.9, \"#4d9221\"], [1, \"#276419\"]], \"sequential\": [[0.0, \"#0d0887\"], [0.1111111111111111, \"#46039f\"], [0.2222222222222222, \"#7201a8\"], [0.3333333333333333, \"#9c179e\"], [0.4444444444444444, \"#bd3786\"], [0.5555555555555556, \"#d8576b\"], [0.6666666666666666, \"#ed7953\"], [0.7777777777777778, \"#fb9f3a\"], [0.8888888888888888, \"#fdca26\"], [1.0, \"#f0f921\"]], \"sequentialminus\": [[0.0, \"#0d0887\"], [0.1111111111111111, \"#46039f\"], [0.2222222222222222, \"#7201a8\"], [0.3333333333333333, \"#9c179e\"], [0.4444444444444444, \"#bd3786\"], [0.5555555555555556, \"#d8576b\"], [0.6666666666666666, \"#ed7953\"], [0.7777777777777778, \"#fb9f3a\"], [0.8888888888888888, \"#fdca26\"], [1.0, \"#f0f921\"]]}, \"colorway\": [\"#636efa\", \"#EF553B\", \"#00cc96\", \"#ab63fa\", \"#FFA15A\", \"#19d3f3\", \"#FF6692\", \"#B6E880\", \"#FF97FF\", \"#FECB52\"], \"font\": {\"color\": \"#2a3f5f\"}, \"geo\": {\"bgcolor\": \"white\", \"lakecolor\": \"white\", \"landcolor\": \"#E5ECF6\", \"showlakes\": true, \"showland\": true, \"subunitcolor\": \"white\"}, \"hoverlabel\": {\"align\": \"left\"}, \"hovermode\": \"closest\", \"mapbox\": {\"style\": \"light\"}, \"paper_bgcolor\": \"white\", \"plot_bgcolor\": \"#E5ECF6\", \"polar\": {\"angularaxis\": {\"gridcolor\": \"white\", \"linecolor\": \"white\", \"ticks\": \"\"}, \"bgcolor\": \"#E5ECF6\", \"radialaxis\": {\"gridcolor\": \"white\", \"linecolor\": \"white\", \"ticks\": \"\"}}, \"scene\": {\"xaxis\": {\"backgroundcolor\": \"#E5ECF6\", \"gridcolor\": \"white\", \"gridwidth\": 2, \"linecolor\": \"white\", \"showbackground\": true, \"ticks\": \"\", \"zerolinecolor\": \"white\"}, \"yaxis\": {\"backgroundcolor\": \"#E5ECF6\", \"gridcolor\": \"white\", \"gridwidth\": 2, \"linecolor\": \"white\", \"showbackground\": true, \"ticks\": \"\", \"zerolinecolor\": \"white\"}, \"zaxis\": {\"backgroundcolor\": \"#E5ECF6\", \"gridcolor\": \"white\", \"gridwidth\": 2, \"linecolor\": \"white\", \"showbackground\": true, \"ticks\": \"\", \"zerolinecolor\": \"white\"}}, \"shapedefaults\": {\"line\": {\"color\": \"#2a3f5f\"}}, \"ternary\": {\"aaxis\": {\"gridcolor\": \"white\", \"linecolor\": \"white\", \"ticks\": \"\"}, \"baxis\": {\"gridcolor\": \"white\", \"linecolor\": \"white\", \"ticks\": \"\"}, \"bgcolor\": \"#E5ECF6\", \"caxis\": {\"gridcolor\": \"white\", \"linecolor\": \"white\", \"ticks\": \"\"}}, \"title\": {\"x\": 0.05}, \"xaxis\": {\"automargin\": true, \"gridcolor\": \"white\", \"linecolor\": \"white\", \"ticks\": \"\", \"title\": {\"standoff\": 15}, \"zerolinecolor\": \"white\", \"zerolinewidth\": 2}, \"yaxis\": {\"automargin\": true, \"gridcolor\": \"white\", \"linecolor\": \"white\", \"ticks\": \"\", \"title\": {\"standoff\": 15}, \"zerolinecolor\": \"white\", \"zerolinewidth\": 2}}}, \"title\": {\"text\": \"Total Reward by Algorithms\"}, \"xaxis\": {\"title\": {\"text\": \"Total Reward (Clicks)\"}}},\n",
              "                        {\"responsive\": true}\n",
              "                    ).then(function(){\n",
              "                            \n",
              "var gd = document.getElementById('f64ed78c-7cf3-43ef-8335-84c318151a90');\n",
              "var x = new MutationObserver(function (mutations, observer) {{\n",
              "        var display = window.getComputedStyle(gd).display;\n",
              "        if (!display || display === 'none') {{\n",
              "            console.log([gd, 'removed!']);\n",
              "            Plotly.purge(gd);\n",
              "            observer.disconnect();\n",
              "        }}\n",
              "}});\n",
              "\n",
              "// Listen for the removal of the full notebook cells\n",
              "var notebookContainer = gd.closest('#notebook-container');\n",
              "if (notebookContainer) {{\n",
              "    x.observe(notebookContainer, {childList: true});\n",
              "}}\n",
              "\n",
              "// Listen for the clearing of the current output cell\n",
              "var outputEl = gd.closest('.output');\n",
              "if (outputEl) {{\n",
              "    x.observe(outputEl, {childList: true});\n",
              "}}\n",
              "\n",
              "                        })\n",
              "                };\n",
              "                \n",
              "            </script>\n",
              "        </div>\n",
              "</body>\n",
              "</html>"
            ]
          },
          "metadata": {
            "tags": []
          }
        }
      ]
    },
    {
      "cell_type": "markdown",
      "metadata": {
        "id": "dkIXPrsgTNMu",
        "colab_type": "text"
      },
      "source": [
        "Có thể trường hợp mà tổng reward cho thuật toán với giá trị regret thấp nhất sẽ không phải là cao nhất. Điều này là bởi thực tế rằng: dù cho thuật toán chọn ra được đúng quảng cáo thì nó cũng không đảm bảo rằng khách hàng sẽ click vào xem.\n",
        "\n",
        "Như đã nói từ đầu, Lấy mẫu Thompson nhìn chung là lựa chọn tốt nhất, nhưng ta cũng xem thêm các thuật toán khác và thảo luận về cách thức và thời điểm tụi nó phát huy tác dụng. Ta lựa chọn phương pháp nào cho bài toán của mình sẽ tùy thuộc vào mỗi bái toán, thông tin ban đầu và kết quả muốn nhận được sau cùng."
      ]
    },
    {
      "cell_type": "code",
      "metadata": {
        "id": "C_OeaW1eTI0j",
        "colab_type": "code",
        "colab": {}
      },
      "source": [
        ""
      ],
      "execution_count": 0,
      "outputs": []
    }
  ]
}